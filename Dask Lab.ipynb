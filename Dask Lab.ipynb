{
 "cells": [
  {
   "cell_type": "markdown",
   "id": "c4dc6eb4",
   "metadata": {},
   "source": [
    "## Introduction to Dask\n",
    "\n",
    "Dask is a parallel computing library that extends Pandas-like APIs to handle larger-than-memory datasets. It supports lazy evaluation and builds task graphs you can visualize."
   ]
  },
  {
   "cell_type": "code",
   "execution_count": 1,
   "id": "5a4a6def",
   "metadata": {},
   "outputs": [
    {
     "name": "stdout",
     "output_type": "stream",
     "text": [
      "\u001b[2mUsing Python 3.12.1 environment at: /workspaces/TechCatalyst_DE_2025/devpy\u001b[0m\n",
      "\u001b[2mAudited \u001b[1m1 package\u001b[0m \u001b[2min 182ms\u001b[0m\u001b[0m\n"
     ]
    }
   ],
   "source": [
    "!uv pip install dask"
   ]
  },
  {
   "cell_type": "code",
   "execution_count": 2,
   "id": "25ef2c2d",
   "metadata": {},
   "outputs": [],
   "source": [
    "import dask.dataframe as dd"
   ]
  },
  {
   "cell_type": "markdown",
   "id": "0a1e73a2",
   "metadata": {},
   "source": [
    "## Reading Parquet \n",
    "Dask DataFrame is lazy by default, similar to Spark’s lazy evaluation model. When you perform operations like reading parquet files or creating new columns, Dask builds a task graph of the computation but does not execute it immediately. Actual computation only happens when you explicitly call a method like `.compute()` or certain others like `len` or `head` that trigger computation."
   ]
  },
  {
   "cell_type": "code",
   "execution_count": 3,
   "id": "17a7f861",
   "metadata": {},
   "outputs": [],
   "source": [
    "s3file = 's3://techcatalyst-raw/yellow_tripdata_2024-01.parquet'"
   ]
  },
  {
   "cell_type": "code",
   "execution_count": 4,
   "id": "bd4e4f87",
   "metadata": {},
   "outputs": [
    {
     "data": {
      "text/plain": [
       "True"
      ]
     },
     "execution_count": 4,
     "metadata": {},
     "output_type": "execute_result"
    }
   ],
   "source": [
    "from dotenv import load_dotenv\n",
    "load_dotenv()"
   ]
  },
  {
   "cell_type": "code",
   "execution_count": 5,
   "id": "a69a9af9",
   "metadata": {},
   "outputs": [
    {
     "data": {
      "text/plain": [
       "dask.dataframe.dask_expr._collection.DataFrame"
      ]
     },
     "execution_count": 5,
     "metadata": {},
     "output_type": "execute_result"
    }
   ],
   "source": [
    "df = dd.read_parquet(s3file)\n",
    "type(df)"
   ]
  },
  {
   "cell_type": "code",
   "execution_count": 6,
   "id": "c05f18b0",
   "metadata": {},
   "outputs": [
    {
     "name": "stdout",
     "output_type": "stream",
     "text": [
      "Dask DataFrame Structure:\n",
      "              VendorID tpep_pickup_datetime tpep_dropoff_datetime passenger_count trip_distance RatecodeID store_and_fwd_flag PULocationID DOLocationID payment_type fare_amount    extra  mta_tax tip_amount tolls_amount improvement_surcharge total_amount congestion_surcharge Airport_fee\n",
      "npartitions=1                                                                                                                                                                                                                                                                                 \n",
      "                 int32       datetime64[us]        datetime64[us]         float64       float64    float64             string        int32        int32        int64     float64  float64  float64    float64      float64               float64      float64              float64     float64\n",
      "                   ...                  ...                   ...             ...           ...        ...                ...          ...          ...          ...         ...      ...      ...        ...          ...                   ...          ...                  ...         ...\n",
      "Dask Name: read_parquet, 1 expression\n",
      "Expr=ReadParquetFSSpec(1321966)\n"
     ]
    }
   ],
   "source": [
    "print(df)"
   ]
  },
  {
   "cell_type": "code",
   "execution_count": 7,
   "id": "93e1bac3",
   "metadata": {},
   "outputs": [
    {
     "data": {
      "text/html": [
       "<div>\n",
       "<style scoped>\n",
       "    .dataframe tbody tr th:only-of-type {\n",
       "        vertical-align: middle;\n",
       "    }\n",
       "\n",
       "    .dataframe tbody tr th {\n",
       "        vertical-align: top;\n",
       "    }\n",
       "\n",
       "    .dataframe thead th {\n",
       "        text-align: right;\n",
       "    }\n",
       "</style>\n",
       "<table border=\"1\" class=\"dataframe\">\n",
       "  <thead>\n",
       "    <tr style=\"text-align: right;\">\n",
       "      <th></th>\n",
       "      <th>VendorID</th>\n",
       "      <th>tpep_pickup_datetime</th>\n",
       "      <th>tpep_dropoff_datetime</th>\n",
       "      <th>passenger_count</th>\n",
       "      <th>trip_distance</th>\n",
       "      <th>RatecodeID</th>\n",
       "      <th>store_and_fwd_flag</th>\n",
       "      <th>PULocationID</th>\n",
       "      <th>DOLocationID</th>\n",
       "      <th>payment_type</th>\n",
       "      <th>fare_amount</th>\n",
       "      <th>extra</th>\n",
       "      <th>mta_tax</th>\n",
       "      <th>tip_amount</th>\n",
       "      <th>tolls_amount</th>\n",
       "      <th>improvement_surcharge</th>\n",
       "      <th>total_amount</th>\n",
       "      <th>congestion_surcharge</th>\n",
       "      <th>Airport_fee</th>\n",
       "    </tr>\n",
       "  </thead>\n",
       "  <tbody>\n",
       "    <tr>\n",
       "      <th>0</th>\n",
       "      <td>2</td>\n",
       "      <td>2024-01-01 00:57:55</td>\n",
       "      <td>2024-01-01 01:17:43</td>\n",
       "      <td>1.0</td>\n",
       "      <td>1.72</td>\n",
       "      <td>1.0</td>\n",
       "      <td>N</td>\n",
       "      <td>186</td>\n",
       "      <td>79</td>\n",
       "      <td>2</td>\n",
       "      <td>17.7</td>\n",
       "      <td>1.0</td>\n",
       "      <td>0.5</td>\n",
       "      <td>0.00</td>\n",
       "      <td>0.0</td>\n",
       "      <td>1.0</td>\n",
       "      <td>22.70</td>\n",
       "      <td>2.5</td>\n",
       "      <td>0.0</td>\n",
       "    </tr>\n",
       "    <tr>\n",
       "      <th>1</th>\n",
       "      <td>1</td>\n",
       "      <td>2024-01-01 00:03:00</td>\n",
       "      <td>2024-01-01 00:09:36</td>\n",
       "      <td>1.0</td>\n",
       "      <td>1.80</td>\n",
       "      <td>1.0</td>\n",
       "      <td>N</td>\n",
       "      <td>140</td>\n",
       "      <td>236</td>\n",
       "      <td>1</td>\n",
       "      <td>10.0</td>\n",
       "      <td>3.5</td>\n",
       "      <td>0.5</td>\n",
       "      <td>3.75</td>\n",
       "      <td>0.0</td>\n",
       "      <td>1.0</td>\n",
       "      <td>18.75</td>\n",
       "      <td>2.5</td>\n",
       "      <td>0.0</td>\n",
       "    </tr>\n",
       "    <tr>\n",
       "      <th>2</th>\n",
       "      <td>1</td>\n",
       "      <td>2024-01-01 00:17:06</td>\n",
       "      <td>2024-01-01 00:35:01</td>\n",
       "      <td>1.0</td>\n",
       "      <td>4.70</td>\n",
       "      <td>1.0</td>\n",
       "      <td>N</td>\n",
       "      <td>236</td>\n",
       "      <td>79</td>\n",
       "      <td>1</td>\n",
       "      <td>23.3</td>\n",
       "      <td>3.5</td>\n",
       "      <td>0.5</td>\n",
       "      <td>3.00</td>\n",
       "      <td>0.0</td>\n",
       "      <td>1.0</td>\n",
       "      <td>31.30</td>\n",
       "      <td>2.5</td>\n",
       "      <td>0.0</td>\n",
       "    </tr>\n",
       "    <tr>\n",
       "      <th>3</th>\n",
       "      <td>1</td>\n",
       "      <td>2024-01-01 00:36:38</td>\n",
       "      <td>2024-01-01 00:44:56</td>\n",
       "      <td>1.0</td>\n",
       "      <td>1.40</td>\n",
       "      <td>1.0</td>\n",
       "      <td>N</td>\n",
       "      <td>79</td>\n",
       "      <td>211</td>\n",
       "      <td>1</td>\n",
       "      <td>10.0</td>\n",
       "      <td>3.5</td>\n",
       "      <td>0.5</td>\n",
       "      <td>2.00</td>\n",
       "      <td>0.0</td>\n",
       "      <td>1.0</td>\n",
       "      <td>17.00</td>\n",
       "      <td>2.5</td>\n",
       "      <td>0.0</td>\n",
       "    </tr>\n",
       "    <tr>\n",
       "      <th>4</th>\n",
       "      <td>1</td>\n",
       "      <td>2024-01-01 00:46:51</td>\n",
       "      <td>2024-01-01 00:52:57</td>\n",
       "      <td>1.0</td>\n",
       "      <td>0.80</td>\n",
       "      <td>1.0</td>\n",
       "      <td>N</td>\n",
       "      <td>211</td>\n",
       "      <td>148</td>\n",
       "      <td>1</td>\n",
       "      <td>7.9</td>\n",
       "      <td>3.5</td>\n",
       "      <td>0.5</td>\n",
       "      <td>3.20</td>\n",
       "      <td>0.0</td>\n",
       "      <td>1.0</td>\n",
       "      <td>16.10</td>\n",
       "      <td>2.5</td>\n",
       "      <td>0.0</td>\n",
       "    </tr>\n",
       "  </tbody>\n",
       "</table>\n",
       "</div>"
      ],
      "text/plain": [
       "   VendorID tpep_pickup_datetime tpep_dropoff_datetime  passenger_count  \\\n",
       "0         2  2024-01-01 00:57:55   2024-01-01 01:17:43              1.0   \n",
       "1         1  2024-01-01 00:03:00   2024-01-01 00:09:36              1.0   \n",
       "2         1  2024-01-01 00:17:06   2024-01-01 00:35:01              1.0   \n",
       "3         1  2024-01-01 00:36:38   2024-01-01 00:44:56              1.0   \n",
       "4         1  2024-01-01 00:46:51   2024-01-01 00:52:57              1.0   \n",
       "\n",
       "   trip_distance  RatecodeID store_and_fwd_flag  PULocationID  DOLocationID  \\\n",
       "0           1.72         1.0                  N           186            79   \n",
       "1           1.80         1.0                  N           140           236   \n",
       "2           4.70         1.0                  N           236            79   \n",
       "3           1.40         1.0                  N            79           211   \n",
       "4           0.80         1.0                  N           211           148   \n",
       "\n",
       "   payment_type  fare_amount  extra  mta_tax  tip_amount  tolls_amount  \\\n",
       "0             2         17.7    1.0      0.5        0.00           0.0   \n",
       "1             1         10.0    3.5      0.5        3.75           0.0   \n",
       "2             1         23.3    3.5      0.5        3.00           0.0   \n",
       "3             1         10.0    3.5      0.5        2.00           0.0   \n",
       "4             1          7.9    3.5      0.5        3.20           0.0   \n",
       "\n",
       "   improvement_surcharge  total_amount  congestion_surcharge  Airport_fee  \n",
       "0                    1.0         22.70                   2.5          0.0  \n",
       "1                    1.0         18.75                   2.5          0.0  \n",
       "2                    1.0         31.30                   2.5          0.0  \n",
       "3                    1.0         17.00                   2.5          0.0  \n",
       "4                    1.0         16.10                   2.5          0.0  "
      ]
     },
     "execution_count": 7,
     "metadata": {},
     "output_type": "execute_result"
    }
   ],
   "source": [
    "df.head()"
   ]
  },
  {
   "cell_type": "code",
   "execution_count": 8,
   "id": "6b299109",
   "metadata": {},
   "outputs": [
    {
     "data": {
      "text/plain": [
       "Index(['VendorID', 'tpep_pickup_datetime', 'tpep_dropoff_datetime',\n",
       "       'passenger_count', 'trip_distance', 'RatecodeID', 'store_and_fwd_flag',\n",
       "       'PULocationID', 'DOLocationID', 'payment_type', 'fare_amount', 'extra',\n",
       "       'mta_tax', 'tip_amount', 'tolls_amount', 'improvement_surcharge',\n",
       "       'total_amount', 'congestion_surcharge', 'Airport_fee'],\n",
       "      dtype='object')"
      ]
     },
     "execution_count": 8,
     "metadata": {},
     "output_type": "execute_result"
    }
   ],
   "source": [
    "df.columns"
   ]
  },
  {
   "cell_type": "code",
   "execution_count": 9,
   "id": "b9032e29",
   "metadata": {},
   "outputs": [
    {
     "data": {
      "text/plain": [
       "VendorID                           int32\n",
       "tpep_pickup_datetime      datetime64[us]\n",
       "tpep_dropoff_datetime     datetime64[us]\n",
       "passenger_count                  float64\n",
       "trip_distance                    float64\n",
       "RatecodeID                       float64\n",
       "store_and_fwd_flag       string[pyarrow]\n",
       "PULocationID                       int32\n",
       "DOLocationID                       int32\n",
       "payment_type                       int64\n",
       "fare_amount                      float64\n",
       "extra                            float64\n",
       "mta_tax                          float64\n",
       "tip_amount                       float64\n",
       "tolls_amount                     float64\n",
       "improvement_surcharge            float64\n",
       "total_amount                     float64\n",
       "congestion_surcharge             float64\n",
       "Airport_fee                      float64\n",
       "dtype: object"
      ]
     },
     "execution_count": 9,
     "metadata": {},
     "output_type": "execute_result"
    }
   ],
   "source": [
    "df.dtypes"
   ]
  },
  {
   "cell_type": "markdown",
   "id": "3d66f1cc",
   "metadata": {},
   "source": [
    "## Calculate Trip Duration (in minutes)"
   ]
  },
  {
   "cell_type": "code",
   "execution_count": 10,
   "id": "aaec581a",
   "metadata": {},
   "outputs": [
    {
     "name": "stdout",
     "output_type": "stream",
     "text": [
      "Dask Series Structure:\n",
      "npartitions=1\n",
      "    float64\n",
      "        ...\n",
      "Dask Name: getitem, 8 expressions\n",
      "Expr=Assign(frame=ReadParquetFSSpec(1321966))['trip_duration_min']\n"
     ]
    }
   ],
   "source": [
    "df = df.assign(\n",
    "    trip_duration_min = (df[\"tpep_dropoff_datetime\"] - df[\"tpep_pickup_datetime\"]).dt.total_seconds() / 60\n",
    ")\n",
    "print(df['trip_duration_min'])"
   ]
  },
  {
   "cell_type": "code",
   "execution_count": 11,
   "id": "466e465e",
   "metadata": {},
   "outputs": [],
   "source": [
    "df_filtered = df[df[\"trip_duration_min\"] > 25]"
   ]
  },
  {
   "cell_type": "markdown",
   "id": "1cd8b2ec",
   "metadata": {},
   "source": [
    "## Group by aggregation "
   ]
  },
  {
   "cell_type": "code",
   "execution_count": 12,
   "id": "f45d5bbb",
   "metadata": {},
   "outputs": [],
   "source": [
    "result = df_filtered.groupby(\"payment_type\")[\"fare_amount\"].mean()"
   ]
  },
  {
   "cell_type": "markdown",
   "id": "a9e5276d",
   "metadata": {},
   "source": [
    "## Trigger Execution"
   ]
  },
  {
   "cell_type": "markdown",
   "id": "b4d94138",
   "metadata": {},
   "source": [
    "In order to visualize the exectution graph we will need to install the `graphviz` library\n",
    "* In the terminal run : `sudo apt udpate`\n",
    "* Then run `sudo apt install graphviz`\n",
    "* Finaly, in the terminal to conform installation run `dot -V`"
   ]
  },
  {
   "cell_type": "code",
   "execution_count": 13,
   "id": "43e11361",
   "metadata": {},
   "outputs": [
    {
     "name": "stdout",
     "output_type": "stream",
     "text": [
      "\u001b[2mUsing Python 3.12.1 environment at: /workspaces/TechCatalyst_DE_2025/devpy\u001b[0m\n",
      "\u001b[2mAudited \u001b[1m1 package\u001b[0m \u001b[2min 5ms\u001b[0m\u001b[0m\n"
     ]
    }
   ],
   "source": [
    "!uv pip install graphviz "
   ]
  },
  {
   "cell_type": "code",
   "execution_count": 18,
   "id": "db3b7a55",
   "metadata": {},
   "outputs": [
    {
     "data": {
      "image/svg+xml": [
       "<?xml version=\"1.0\" encoding=\"UTF-8\" standalone=\"no\"?>\n",
       "<!DOCTYPE svg PUBLIC \"-//W3C//DTD SVG 1.1//EN\"\n",
       " \"http://www.w3.org/Graphics/SVG/1.1/DTD/svg11.dtd\">\n",
       "<!-- Generated by graphviz version 2.43.0 (0)\n",
       " -->\n",
       "<!-- Title: %3 Pages: 1 -->\n",
       "<svg width=\"1363pt\" height=\"836pt\"\n",
       " viewBox=\"0.00 0.00 1362.50 836.00\" xmlns=\"http://www.w3.org/2000/svg\" xmlns:xlink=\"http://www.w3.org/1999/xlink\">\n",
       "<g id=\"graph0\" class=\"graph\" transform=\"scale(1 1) rotate(0) translate(4 832)\">\n",
       "<title>%3</title>\n",
       "<polygon fill=\"white\" stroke=\"transparent\" points=\"-4,4 -4,-832 1358.5,-832 1358.5,4 -4,4\"/>\n",
       "<!-- &#45;8975306976193595926 -->\n",
       "<g id=\"node1\" class=\"node\">\n",
       "<title>&#45;8975306976193595926</title>\n",
       "<polygon fill=\"none\" stroke=\"black\" points=\"412,-828 92,-828 92,-792 412,-792 412,-828\"/>\n",
       "<text text-anchor=\"middle\" x=\"252\" y=\"-805\" font-family=\"Helvetica,sans-Serif\" font-size=\"20.00\">Projection(Mean, fare_amount)</text>\n",
       "</g>\n",
       "<!-- 1042510658240043502 -->\n",
       "<g id=\"node2\" class=\"node\">\n",
       "<title>1042510658240043502</title>\n",
       "<polygon fill=\"none\" stroke=\"black\" points=\"343.5,-756 160.5,-756 160.5,-720 343.5,-720 343.5,-756\"/>\n",
       "<text text-anchor=\"middle\" x=\"252\" y=\"-733\" font-family=\"Helvetica,sans-Serif\" font-size=\"20.00\">Mean(Projection)</text>\n",
       "</g>\n",
       "<!-- 1042510658240043502&#45;&gt;&#45;8975306976193595926 -->\n",
       "<g id=\"edge1\" class=\"edge\">\n",
       "<title>1042510658240043502&#45;&gt;&#45;8975306976193595926</title>\n",
       "<path fill=\"none\" stroke=\"black\" d=\"M252,-756.3C252,-764.02 252,-773.29 252,-781.89\"/>\n",
       "<polygon fill=\"black\" stroke=\"black\" points=\"248.5,-781.9 252,-791.9 255.5,-781.9 248.5,-781.9\"/>\n",
       "</g>\n",
       "<!-- &#45;439975175844180880 -->\n",
       "<g id=\"node3\" class=\"node\">\n",
       "<title>&#45;439975175844180880</title>\n",
       "<polygon fill=\"none\" stroke=\"black\" points=\"504,-684 0,-684 0,-648 504,-648 504,-684\"/>\n",
       "<text text-anchor=\"middle\" x=\"252\" y=\"-661\" font-family=\"Helvetica,sans-Serif\" font-size=\"20.00\">Projection(Filter, [&#39;payment_type&#39;, &#39;fare_amount&#39;])</text>\n",
       "</g>\n",
       "<!-- &#45;439975175844180880&#45;&gt;1042510658240043502 -->\n",
       "<g id=\"edge2\" class=\"edge\">\n",
       "<title>&#45;439975175844180880&#45;&gt;1042510658240043502</title>\n",
       "<path fill=\"none\" stroke=\"black\" d=\"M252,-684.3C252,-692.02 252,-701.29 252,-709.89\"/>\n",
       "<polygon fill=\"black\" stroke=\"black\" points=\"248.5,-709.9 252,-719.9 255.5,-709.9 248.5,-709.9\"/>\n",
       "</g>\n",
       "<!-- &#45;3353874554325974197 -->\n",
       "<g id=\"node4\" class=\"node\">\n",
       "<title>&#45;3353874554325974197</title>\n",
       "<polygon fill=\"none\" stroke=\"black\" points=\"344,-612 160,-612 160,-576 344,-576 344,-612\"/>\n",
       "<text text-anchor=\"middle\" x=\"252\" y=\"-589\" font-family=\"Helvetica,sans-Serif\" font-size=\"20.00\">Filter(Assign, GT)</text>\n",
       "</g>\n",
       "<!-- &#45;3353874554325974197&#45;&gt;&#45;439975175844180880 -->\n",
       "<g id=\"edge3\" class=\"edge\">\n",
       "<title>&#45;3353874554325974197&#45;&gt;&#45;439975175844180880</title>\n",
       "<path fill=\"none\" stroke=\"black\" d=\"M252,-612.3C252,-620.02 252,-629.29 252,-637.89\"/>\n",
       "<polygon fill=\"black\" stroke=\"black\" points=\"248.5,-637.9 252,-647.9 255.5,-637.9 248.5,-637.9\"/>\n",
       "</g>\n",
       "<!-- 5677643659834184714 -->\n",
       "<g id=\"node5\" class=\"node\">\n",
       "<title>5677643659834184714</title>\n",
       "<polygon fill=\"none\" stroke=\"black\" points=\"458,-540 264,-540 264,-504 458,-504 458,-540\"/>\n",
       "<text text-anchor=\"middle\" x=\"361\" y=\"-517\" font-family=\"Helvetica,sans-Serif\" font-size=\"20.00\">GT(Projection, 25)</text>\n",
       "</g>\n",
       "<!-- 5677643659834184714&#45;&gt;&#45;3353874554325974197 -->\n",
       "<g id=\"edge4\" class=\"edge\">\n",
       "<title>5677643659834184714&#45;&gt;&#45;3353874554325974197</title>\n",
       "<path fill=\"none\" stroke=\"black\" d=\"M334.34,-540.12C320.22,-549.19 302.69,-560.45 287.44,-570.24\"/>\n",
       "<polygon fill=\"black\" stroke=\"black\" points=\"285.29,-567.46 278.77,-575.81 289.07,-573.35 285.29,-567.46\"/>\n",
       "</g>\n",
       "<!-- &#45;9109933209268617561 -->\n",
       "<g id=\"node6\" class=\"node\">\n",
       "<title>&#45;9109933209268617561</title>\n",
       "<polygon fill=\"none\" stroke=\"black\" points=\"598,-468 218,-468 218,-432 598,-432 598,-468\"/>\n",
       "<text text-anchor=\"middle\" x=\"408\" y=\"-445\" font-family=\"Helvetica,sans-Serif\" font-size=\"20.00\">Projection(Assign, trip_duration_min)</text>\n",
       "</g>\n",
       "<!-- &#45;9109933209268617561&#45;&gt;5677643659834184714 -->\n",
       "<g id=\"edge6\" class=\"edge\">\n",
       "<title>&#45;9109933209268617561&#45;&gt;5677643659834184714</title>\n",
       "<path fill=\"none\" stroke=\"black\" d=\"M396.38,-468.3C390.86,-476.53 384.15,-486.52 378.07,-495.58\"/>\n",
       "<polygon fill=\"black\" stroke=\"black\" points=\"375.15,-493.64 372.48,-503.9 380.96,-497.54 375.15,-493.64\"/>\n",
       "</g>\n",
       "<!-- &#45;6950983024906310517 -->\n",
       "<g id=\"node7\" class=\"node\">\n",
       "<title>&#45;6950983024906310517</title>\n",
       "<polygon fill=\"none\" stroke=\"black\" points=\"562,-396 36,-396 36,-360 562,-360 562,-396\"/>\n",
       "<text text-anchor=\"middle\" x=\"299\" y=\"-373\" font-family=\"Helvetica,sans-Serif\" font-size=\"20.00\">Assign(ReadParquetFSSpec, trip_duration_min, Div)</text>\n",
       "</g>\n",
       "<!-- &#45;6950983024906310517&#45;&gt;&#45;3353874554325974197 -->\n",
       "<g id=\"edge5\" class=\"edge\">\n",
       "<title>&#45;6950983024906310517&#45;&gt;&#45;3353874554325974197</title>\n",
       "<path fill=\"none\" stroke=\"black\" d=\"M250.44,-396.03C234.33,-404.27 218.18,-415.94 209,-432 184.06,-475.62 212.75,-534.15 233.78,-567.29\"/>\n",
       "<polygon fill=\"black\" stroke=\"black\" points=\"231.04,-569.5 239.46,-575.93 236.89,-565.65 231.04,-569.5\"/>\n",
       "</g>\n",
       "<!-- &#45;6950983024906310517&#45;&gt;&#45;9109933209268617561 -->\n",
       "<g id=\"edge7\" class=\"edge\">\n",
       "<title>&#45;6950983024906310517&#45;&gt;&#45;9109933209268617561</title>\n",
       "<path fill=\"none\" stroke=\"black\" d=\"M325.66,-396.12C339.78,-405.19 357.31,-416.45 372.56,-426.24\"/>\n",
       "<polygon fill=\"black\" stroke=\"black\" points=\"370.93,-429.35 381.23,-431.81 374.71,-423.46 370.93,-429.35\"/>\n",
       "</g>\n",
       "<!-- &#45;3910153209757718031 -->\n",
       "<g id=\"node8\" class=\"node\">\n",
       "<title>&#45;3910153209757718031</title>\n",
       "<polygon fill=\"none\" stroke=\"black\" points=\"526.5,-324 297.5,-324 297.5,-288 526.5,-288 526.5,-324\"/>\n",
       "<text text-anchor=\"middle\" x=\"412\" y=\"-301\" font-family=\"Helvetica,sans-Serif\" font-size=\"20.00\">Div(FunctionMap, 60)</text>\n",
       "</g>\n",
       "<!-- &#45;3910153209757718031&#45;&gt;&#45;6950983024906310517 -->\n",
       "<g id=\"edge8\" class=\"edge\">\n",
       "<title>&#45;3910153209757718031&#45;&gt;&#45;6950983024906310517</title>\n",
       "<path fill=\"none\" stroke=\"black\" d=\"M384.36,-324.12C369.58,-333.28 351.21,-344.66 335.3,-354.52\"/>\n",
       "<polygon fill=\"black\" stroke=\"black\" points=\"333.41,-351.57 326.75,-359.81 337.09,-357.52 333.41,-351.57\"/>\n",
       "</g>\n",
       "<!-- 2166813402291547050 -->\n",
       "<g id=\"node9\" class=\"node\">\n",
       "<title>2166813402291547050</title>\n",
       "<polygon fill=\"none\" stroke=\"black\" points=\"551.5,-252 354.5,-252 354.5,-216 551.5,-216 551.5,-252\"/>\n",
       "<text text-anchor=\"middle\" x=\"453\" y=\"-229\" font-family=\"Helvetica,sans-Serif\" font-size=\"20.00\">FunctionMap(Sub)</text>\n",
       "</g>\n",
       "<!-- 2166813402291547050&#45;&gt;&#45;3910153209757718031 -->\n",
       "<g id=\"edge10\" class=\"edge\">\n",
       "<title>2166813402291547050&#45;&gt;&#45;3910153209757718031</title>\n",
       "<path fill=\"none\" stroke=\"black\" d=\"M442.87,-252.3C438.15,-260.36 432.44,-270.11 427.22,-279.02\"/>\n",
       "<polygon fill=\"black\" stroke=\"black\" points=\"424.05,-277.5 422.02,-287.9 430.09,-281.04 424.05,-277.5\"/>\n",
       "</g>\n",
       "<!-- 2746775807052103518 -->\n",
       "<g id=\"node10\" class=\"node\">\n",
       "<title>2746775807052103518</title>\n",
       "<polygon fill=\"none\" stroke=\"black\" points=\"632.5,-180 355.5,-180 355.5,-144 632.5,-144 632.5,-180\"/>\n",
       "<text text-anchor=\"middle\" x=\"494\" y=\"-157\" font-family=\"Helvetica,sans-Serif\" font-size=\"20.00\">Sub(Projection, Projection)</text>\n",
       "</g>\n",
       "<!-- 2746775807052103518&#45;&gt;2166813402291547050 -->\n",
       "<g id=\"edge11\" class=\"edge\">\n",
       "<title>2746775807052103518&#45;&gt;2166813402291547050</title>\n",
       "<path fill=\"none\" stroke=\"black\" d=\"M483.87,-180.3C479.15,-188.36 473.44,-198.11 468.22,-207.02\"/>\n",
       "<polygon fill=\"black\" stroke=\"black\" points=\"465.05,-205.5 463.02,-215.9 471.09,-209.04 465.05,-205.5\"/>\n",
       "</g>\n",
       "<!-- &#45;83115481467042940 -->\n",
       "<g id=\"node11\" class=\"node\">\n",
       "<title>&#45;83115481467042940</title>\n",
       "<polygon fill=\"none\" stroke=\"black\" points=\"773,-108 215,-108 215,-72 773,-72 773,-108\"/>\n",
       "<text text-anchor=\"middle\" x=\"494\" y=\"-85\" font-family=\"Helvetica,sans-Serif\" font-size=\"20.00\">Projection(ReadParquetFSSpec, tpep_pickup_datetime)</text>\n",
       "</g>\n",
       "<!-- &#45;83115481467042940&#45;&gt;2746775807052103518 -->\n",
       "<g id=\"edge12\" class=\"edge\">\n",
       "<title>&#45;83115481467042940&#45;&gt;2746775807052103518</title>\n",
       "<path fill=\"none\" stroke=\"black\" d=\"M494,-108.3C494,-116.02 494,-125.29 494,-133.89\"/>\n",
       "<polygon fill=\"black\" stroke=\"black\" points=\"490.5,-133.9 494,-143.9 497.5,-133.9 490.5,-133.9\"/>\n",
       "</g>\n",
       "<!-- 3886287652339575284 -->\n",
       "<g id=\"node12\" class=\"node\">\n",
       "<title>3886287652339575284</title>\n",
       "<polygon fill=\"none\" stroke=\"black\" points=\"601.5,-36 386.5,-36 386.5,0 601.5,0 601.5,-36\"/>\n",
       "<text text-anchor=\"middle\" x=\"494\" y=\"-13\" font-family=\"Helvetica,sans-Serif\" font-size=\"20.00\">ReadParquetFSSpec</text>\n",
       "</g>\n",
       "<!-- 3886287652339575284&#45;&gt;&#45;6950983024906310517 -->\n",
       "<g id=\"edge9\" class=\"edge\">\n",
       "<title>3886287652339575284&#45;&gt;&#45;6950983024906310517</title>\n",
       "<path fill=\"none\" stroke=\"black\" d=\"M386.29,-26.47C315.56,-33.62 231.56,-47.15 206,-72 177,-100.19 187,-120.55 187,-161 187,-161 187,-161 187,-235 187,-285.65 231.48,-328.86 264.38,-353.89\"/>\n",
       "<polygon fill=\"black\" stroke=\"black\" points=\"262.33,-356.73 272.46,-359.85 266.49,-351.1 262.33,-356.73\"/>\n",
       "</g>\n",
       "<!-- 3886287652339575284&#45;&gt;&#45;83115481467042940 -->\n",
       "<g id=\"edge14\" class=\"edge\">\n",
       "<title>3886287652339575284&#45;&gt;&#45;83115481467042940</title>\n",
       "<path fill=\"none\" stroke=\"black\" d=\"M494,-36.3C494,-44.02 494,-53.29 494,-61.89\"/>\n",
       "<polygon fill=\"black\" stroke=\"black\" points=\"490.5,-61.9 494,-71.9 497.5,-61.9 490.5,-61.9\"/>\n",
       "</g>\n",
       "<!-- &#45;2673191155984841337 -->\n",
       "<g id=\"node13\" class=\"node\">\n",
       "<title>&#45;2673191155984841337</title>\n",
       "<polygon fill=\"none\" stroke=\"black\" points=\"1354.5,-108 791.5,-108 791.5,-72 1354.5,-72 1354.5,-108\"/>\n",
       "<text text-anchor=\"middle\" x=\"1073\" y=\"-85\" font-family=\"Helvetica,sans-Serif\" font-size=\"20.00\">Projection(ReadParquetFSSpec, tpep_dropoff_datetime)</text>\n",
       "</g>\n",
       "<!-- 3886287652339575284&#45;&gt;&#45;2673191155984841337 -->\n",
       "<g id=\"edge15\" class=\"edge\">\n",
       "<title>3886287652339575284&#45;&gt;&#45;2673191155984841337</title>\n",
       "<path fill=\"none\" stroke=\"black\" d=\"M601.55,-32C691.75,-42.91 821.58,-58.6 922.17,-70.77\"/>\n",
       "<polygon fill=\"black\" stroke=\"black\" points=\"921.77,-74.24 932.12,-71.97 922.61,-67.29 921.77,-74.24\"/>\n",
       "</g>\n",
       "<!-- &#45;2673191155984841337&#45;&gt;2746775807052103518 -->\n",
       "<g id=\"edge13\" class=\"edge\">\n",
       "<title>&#45;2673191155984841337&#45;&gt;2746775807052103518</title>\n",
       "<path fill=\"none\" stroke=\"black\" d=\"M932.1,-108.03C844.43,-118.63 731.82,-132.25 642.72,-143.02\"/>\n",
       "<polygon fill=\"black\" stroke=\"black\" points=\"642.03,-139.58 632.52,-144.25 642.87,-146.53 642.03,-139.58\"/>\n",
       "</g>\n",
       "</g>\n",
       "</svg>\n"
      ],
      "text/plain": [
       "<graphviz.graphs.Digraph at 0x7a46bc7053d0>"
      ]
     },
     "execution_count": 18,
     "metadata": {},
     "output_type": "execute_result"
    }
   ],
   "source": [
    "result.visualize()  # Generates a graph image. LR means left to right "
   ]
  },
  {
   "cell_type": "code",
   "execution_count": 19,
   "id": "315b29bf",
   "metadata": {},
   "outputs": [
    {
     "data": {
      "image/svg+xml": [
       "<?xml version=\"1.0\" encoding=\"UTF-8\" standalone=\"no\"?>\n",
       "<!DOCTYPE svg PUBLIC \"-//W3C//DTD SVG 1.1//EN\"\n",
       " \"http://www.w3.org/Graphics/SVG/1.1/DTD/svg11.dtd\">\n",
       "<!-- Generated by graphviz version 2.43.0 (0)\n",
       " -->\n",
       "<!-- Title: %3 Pages: 1 -->\n",
       "<svg width=\"4176pt\" height=\"130pt\"\n",
       " viewBox=\"0.00 0.00 4176.00 129.95\" xmlns=\"http://www.w3.org/2000/svg\" xmlns:xlink=\"http://www.w3.org/1999/xlink\">\n",
       "<g id=\"graph0\" class=\"graph\" transform=\"scale(1 1) rotate(0) translate(4 125.95)\">\n",
       "<title>%3</title>\n",
       "<polygon fill=\"white\" stroke=\"transparent\" points=\"-4,4 -4,-125.95 4172,-125.95 4172,4 -4,4\"/>\n",
       "<!-- &#45;8975306976193595926 -->\n",
       "<g id=\"node1\" class=\"node\">\n",
       "<title>&#45;8975306976193595926</title>\n",
       "<polygon fill=\"none\" stroke=\"black\" points=\"4168,-113 3848,-113 3848,-77 4168,-77 4168,-113\"/>\n",
       "<text text-anchor=\"middle\" x=\"4008\" y=\"-90\" font-family=\"Helvetica,sans-Serif\" font-size=\"20.00\">Projection(Mean, fare_amount)</text>\n",
       "</g>\n",
       "<!-- 1042510658240043502 -->\n",
       "<g id=\"node2\" class=\"node\">\n",
       "<title>1042510658240043502</title>\n",
       "<polygon fill=\"none\" stroke=\"black\" points=\"3812,-113 3629,-113 3629,-77 3812,-77 3812,-113\"/>\n",
       "<text text-anchor=\"middle\" x=\"3720.5\" y=\"-90\" font-family=\"Helvetica,sans-Serif\" font-size=\"20.00\">Mean(Projection)</text>\n",
       "</g>\n",
       "<!-- 1042510658240043502&#45;&gt;&#45;8975306976193595926 -->\n",
       "<g id=\"edge1\" class=\"edge\">\n",
       "<title>1042510658240043502&#45;&gt;&#45;8975306976193595926</title>\n",
       "<path fill=\"none\" stroke=\"black\" d=\"M3812.23,-95C3820.5,-95 3829.04,-95 3837.72,-95\"/>\n",
       "<polygon fill=\"black\" stroke=\"black\" points=\"3837.97,-98.5 3847.97,-95 3837.97,-91.5 3837.97,-98.5\"/>\n",
       "</g>\n",
       "<!-- &#45;439975175844180880 -->\n",
       "<g id=\"node3\" class=\"node\">\n",
       "<title>&#45;439975175844180880</title>\n",
       "<polygon fill=\"none\" stroke=\"black\" points=\"3593,-113 3089,-113 3089,-77 3593,-77 3593,-113\"/>\n",
       "<text text-anchor=\"middle\" x=\"3341\" y=\"-90\" font-family=\"Helvetica,sans-Serif\" font-size=\"20.00\">Projection(Filter, [&#39;payment_type&#39;, &#39;fare_amount&#39;])</text>\n",
       "</g>\n",
       "<!-- &#45;439975175844180880&#45;&gt;1042510658240043502 -->\n",
       "<g id=\"edge2\" class=\"edge\">\n",
       "<title>&#45;439975175844180880&#45;&gt;1042510658240043502</title>\n",
       "<path fill=\"none\" stroke=\"black\" d=\"M3593.01,-95C3601.71,-95 3610.21,-95 3618.42,-95\"/>\n",
       "<polygon fill=\"black\" stroke=\"black\" points=\"3618.67,-98.5 3628.67,-95 3618.67,-91.5 3618.67,-98.5\"/>\n",
       "</g>\n",
       "<!-- &#45;3353874554325974197 -->\n",
       "<g id=\"node4\" class=\"node\">\n",
       "<title>&#45;3353874554325974197</title>\n",
       "<polygon fill=\"none\" stroke=\"black\" points=\"3053,-113 2869,-113 2869,-77 3053,-77 3053,-113\"/>\n",
       "<text text-anchor=\"middle\" x=\"2961\" y=\"-90\" font-family=\"Helvetica,sans-Serif\" font-size=\"20.00\">Filter(Assign, GT)</text>\n",
       "</g>\n",
       "<!-- &#45;3353874554325974197&#45;&gt;&#45;439975175844180880 -->\n",
       "<g id=\"edge3\" class=\"edge\">\n",
       "<title>&#45;3353874554325974197&#45;&gt;&#45;439975175844180880</title>\n",
       "<path fill=\"none\" stroke=\"black\" d=\"M3053.02,-95C3061.28,-95 3069.87,-95 3078.72,-95\"/>\n",
       "<polygon fill=\"black\" stroke=\"black\" points=\"3078.81,-98.5 3088.81,-95 3078.81,-91.5 3078.81,-98.5\"/>\n",
       "</g>\n",
       "<!-- 5677643659834184714 -->\n",
       "<g id=\"node5\" class=\"node\">\n",
       "<title>5677643659834184714</title>\n",
       "<polygon fill=\"none\" stroke=\"black\" points=\"2833,-90 2639,-90 2639,-54 2833,-54 2833,-90\"/>\n",
       "<text text-anchor=\"middle\" x=\"2736\" y=\"-67\" font-family=\"Helvetica,sans-Serif\" font-size=\"20.00\">GT(Projection, 25)</text>\n",
       "</g>\n",
       "<!-- 5677643659834184714&#45;&gt;&#45;3353874554325974197 -->\n",
       "<g id=\"edge4\" class=\"edge\">\n",
       "<title>5677643659834184714&#45;&gt;&#45;3353874554325974197</title>\n",
       "<path fill=\"none\" stroke=\"black\" d=\"M2833.19,-81.92C2841.57,-82.79 2850.07,-83.66 2858.49,-84.53\"/>\n",
       "<polygon fill=\"black\" stroke=\"black\" points=\"2858.41,-88.04 2868.71,-85.58 2859.12,-81.08 2858.41,-88.04\"/>\n",
       "</g>\n",
       "<!-- &#45;9109933209268617561 -->\n",
       "<g id=\"node6\" class=\"node\">\n",
       "<title>&#45;9109933209268617561</title>\n",
       "<polygon fill=\"none\" stroke=\"black\" points=\"2603,-90 2223,-90 2223,-54 2603,-54 2603,-90\"/>\n",
       "<text text-anchor=\"middle\" x=\"2413\" y=\"-67\" font-family=\"Helvetica,sans-Serif\" font-size=\"20.00\">Projection(Assign, trip_duration_min)</text>\n",
       "</g>\n",
       "<!-- &#45;9109933209268617561&#45;&gt;5677643659834184714 -->\n",
       "<g id=\"edge6\" class=\"edge\">\n",
       "<title>&#45;9109933209268617561&#45;&gt;5677643659834184714</title>\n",
       "<path fill=\"none\" stroke=\"black\" d=\"M2603.05,-72C2611.76,-72 2620.35,-72 2628.72,-72\"/>\n",
       "<polygon fill=\"black\" stroke=\"black\" points=\"2628.81,-75.5 2638.81,-72 2628.81,-68.5 2628.81,-75.5\"/>\n",
       "</g>\n",
       "<!-- &#45;6950983024906310517 -->\n",
       "<g id=\"node7\" class=\"node\">\n",
       "<title>&#45;6950983024906310517</title>\n",
       "<polygon fill=\"none\" stroke=\"black\" points=\"2187,-113 1661,-113 1661,-77 2187,-77 2187,-113\"/>\n",
       "<text text-anchor=\"middle\" x=\"1924\" y=\"-90\" font-family=\"Helvetica,sans-Serif\" font-size=\"20.00\">Assign(ReadParquetFSSpec, trip_duration_min, Div)</text>\n",
       "</g>\n",
       "<!-- &#45;6950983024906310517&#45;&gt;&#45;3353874554325974197 -->\n",
       "<g id=\"edge5\" class=\"edge\">\n",
       "<title>&#45;6950983024906310517&#45;&gt;&#45;3353874554325974197</title>\n",
       "<path fill=\"none\" stroke=\"black\" d=\"M2187.04,-98.71C2199.2,-98.82 2211.23,-98.92 2223,-99 2494.11,-100.82 2561.92,-103.27 2833,-99 2841.32,-98.87 2849.95,-98.69 2858.62,-98.48\"/>\n",
       "<polygon fill=\"black\" stroke=\"black\" points=\"2858.88,-101.97 2868.78,-98.22 2858.7,-94.98 2858.88,-101.97\"/>\n",
       "</g>\n",
       "<!-- &#45;6950983024906310517&#45;&gt;&#45;9109933209268617561 -->\n",
       "<g id=\"edge7\" class=\"edge\">\n",
       "<title>&#45;6950983024906310517&#45;&gt;&#45;9109933209268617561</title>\n",
       "<path fill=\"none\" stroke=\"black\" d=\"M2187.03,-82.62C2195.69,-82.22 2204.31,-81.81 2212.87,-81.4\"/>\n",
       "<polygon fill=\"black\" stroke=\"black\" points=\"2213.04,-84.9 2222.86,-80.93 2212.71,-77.91 2213.04,-84.9\"/>\n",
       "</g>\n",
       "<!-- &#45;3910153209757718031 -->\n",
       "<g id=\"node8\" class=\"node\">\n",
       "<title>&#45;3910153209757718031</title>\n",
       "<polygon fill=\"none\" stroke=\"black\" points=\"1625,-90 1396,-90 1396,-54 1625,-54 1625,-90\"/>\n",
       "<text text-anchor=\"middle\" x=\"1510.5\" y=\"-67\" font-family=\"Helvetica,sans-Serif\" font-size=\"20.00\">Div(FunctionMap, 60)</text>\n",
       "</g>\n",
       "<!-- &#45;3910153209757718031&#45;&gt;&#45;6950983024906310517 -->\n",
       "<g id=\"edge8\" class=\"edge\">\n",
       "<title>&#45;3910153209757718031&#45;&gt;&#45;6950983024906310517</title>\n",
       "<path fill=\"none\" stroke=\"black\" d=\"M1625.03,-78.35C1633.42,-78.81 1642.06,-79.3 1650.88,-79.79\"/>\n",
       "<polygon fill=\"black\" stroke=\"black\" points=\"1650.73,-83.29 1660.91,-80.35 1651.13,-76.3 1650.73,-83.29\"/>\n",
       "</g>\n",
       "<!-- 2166813402291547050 -->\n",
       "<g id=\"node9\" class=\"node\">\n",
       "<title>2166813402291547050</title>\n",
       "<polygon fill=\"none\" stroke=\"black\" points=\"1360,-90 1163,-90 1163,-54 1360,-54 1360,-90\"/>\n",
       "<text text-anchor=\"middle\" x=\"1261.5\" y=\"-67\" font-family=\"Helvetica,sans-Serif\" font-size=\"20.00\">FunctionMap(Sub)</text>\n",
       "</g>\n",
       "<!-- 2166813402291547050&#45;&gt;&#45;3910153209757718031 -->\n",
       "<g id=\"edge10\" class=\"edge\">\n",
       "<title>2166813402291547050&#45;&gt;&#45;3910153209757718031</title>\n",
       "<path fill=\"none\" stroke=\"black\" d=\"M1360.12,-72C1368.55,-72 1377.15,-72 1385.76,-72\"/>\n",
       "<polygon fill=\"black\" stroke=\"black\" points=\"1385.84,-75.5 1395.84,-72 1385.84,-68.5 1385.84,-75.5\"/>\n",
       "</g>\n",
       "<!-- 2746775807052103518 -->\n",
       "<g id=\"node10\" class=\"node\">\n",
       "<title>2746775807052103518</title>\n",
       "<polygon fill=\"none\" stroke=\"black\" points=\"1127,-90 850,-90 850,-54 1127,-54 1127,-90\"/>\n",
       "<text text-anchor=\"middle\" x=\"988.5\" y=\"-67\" font-family=\"Helvetica,sans-Serif\" font-size=\"20.00\">Sub(Projection, Projection)</text>\n",
       "</g>\n",
       "<!-- 2746775807052103518&#45;&gt;2166813402291547050 -->\n",
       "<g id=\"edge11\" class=\"edge\">\n",
       "<title>2746775807052103518&#45;&gt;2166813402291547050</title>\n",
       "<path fill=\"none\" stroke=\"black\" d=\"M1127.38,-72C1135.84,-72 1144.29,-72 1152.59,-72\"/>\n",
       "<polygon fill=\"black\" stroke=\"black\" points=\"1152.64,-75.5 1162.64,-72 1152.64,-68.5 1152.64,-75.5\"/>\n",
       "</g>\n",
       "<!-- &#45;83115481467042940 -->\n",
       "<g id=\"node11\" class=\"node\">\n",
       "<title>&#45;83115481467042940</title>\n",
       "<polygon fill=\"none\" stroke=\"black\" points=\"811.5,-90 253.5,-90 253.5,-54 811.5,-54 811.5,-90\"/>\n",
       "<text text-anchor=\"middle\" x=\"532.5\" y=\"-67\" font-family=\"Helvetica,sans-Serif\" font-size=\"20.00\">Projection(ReadParquetFSSpec, tpep_pickup_datetime)</text>\n",
       "</g>\n",
       "<!-- &#45;83115481467042940&#45;&gt;2746775807052103518 -->\n",
       "<g id=\"edge12\" class=\"edge\">\n",
       "<title>&#45;83115481467042940&#45;&gt;2746775807052103518</title>\n",
       "<path fill=\"none\" stroke=\"black\" d=\"M811.65,-72C821.13,-72 830.49,-72 839.65,-72\"/>\n",
       "<polygon fill=\"black\" stroke=\"black\" points=\"839.9,-75.5 849.9,-72 839.9,-68.5 839.9,-75.5\"/>\n",
       "</g>\n",
       "<!-- 3886287652339575284 -->\n",
       "<g id=\"node12\" class=\"node\">\n",
       "<title>3886287652339575284</title>\n",
       "<polygon fill=\"none\" stroke=\"black\" points=\"215,-90 0,-90 0,-54 215,-54 215,-90\"/>\n",
       "<text text-anchor=\"middle\" x=\"107.5\" y=\"-67\" font-family=\"Helvetica,sans-Serif\" font-size=\"20.00\">ReadParquetFSSpec</text>\n",
       "</g>\n",
       "<!-- 3886287652339575284&#45;&gt;&#45;6950983024906310517 -->\n",
       "<g id=\"edge9\" class=\"edge\">\n",
       "<title>3886287652339575284&#45;&gt;&#45;6950983024906310517</title>\n",
       "<path fill=\"none\" stroke=\"black\" d=\"M191.43,-90.05C210.88,-93.63 231.6,-96.93 251,-99 576.59,-133.81 660.06,-118 987.5,-118 987.5,-118 987.5,-118 1262.5,-118 1390.15,-118 1531.58,-113.66 1650.72,-108.74\"/>\n",
       "<polygon fill=\"black\" stroke=\"black\" points=\"1650.87,-112.24 1660.71,-108.33 1650.58,-105.25 1650.87,-112.24\"/>\n",
       "</g>\n",
       "<!-- 3886287652339575284&#45;&gt;&#45;83115481467042940 -->\n",
       "<g id=\"edge14\" class=\"edge\">\n",
       "<title>3886287652339575284&#45;&gt;&#45;83115481467042940</title>\n",
       "<path fill=\"none\" stroke=\"black\" d=\"M215.24,-72C224.23,-72 233.56,-72 243.13,-72\"/>\n",
       "<polygon fill=\"black\" stroke=\"black\" points=\"243.19,-75.5 253.19,-72 243.19,-68.5 243.19,-75.5\"/>\n",
       "</g>\n",
       "<!-- &#45;2673191155984841337 -->\n",
       "<g id=\"node13\" class=\"node\">\n",
       "<title>&#45;2673191155984841337</title>\n",
       "<polygon fill=\"none\" stroke=\"black\" points=\"814,-36 251,-36 251,0 814,0 814,-36\"/>\n",
       "<text text-anchor=\"middle\" x=\"532.5\" y=\"-13\" font-family=\"Helvetica,sans-Serif\" font-size=\"20.00\">Projection(ReadParquetFSSpec, tpep_dropoff_datetime)</text>\n",
       "</g>\n",
       "<!-- 3886287652339575284&#45;&gt;&#45;2673191155984841337 -->\n",
       "<g id=\"edge15\" class=\"edge\">\n",
       "<title>3886287652339575284&#45;&gt;&#45;2673191155984841337</title>\n",
       "<path fill=\"none\" stroke=\"black\" d=\"M196.85,-53.96C214.72,-50.68 233.43,-47.51 251,-45 270.77,-42.18 291.37,-39.58 312.03,-37.19\"/>\n",
       "<polygon fill=\"black\" stroke=\"black\" points=\"312.63,-40.64 322.17,-36.03 311.84,-33.68 312.63,-40.64\"/>\n",
       "</g>\n",
       "<!-- &#45;2673191155984841337&#45;&gt;2746775807052103518 -->\n",
       "<g id=\"edge13\" class=\"edge\">\n",
       "<title>&#45;2673191155984841337&#45;&gt;2746775807052103518</title>\n",
       "<path fill=\"none\" stroke=\"black\" d=\"M735.52,-36.02C761.94,-38.8 788.64,-41.81 814,-45 831.48,-47.2 849.91,-49.78 867.97,-52.46\"/>\n",
       "<polygon fill=\"black\" stroke=\"black\" points=\"867.55,-55.94 877.96,-53.96 868.59,-49.02 867.55,-55.94\"/>\n",
       "</g>\n",
       "</g>\n",
       "</svg>\n"
      ],
      "text/plain": [
       "<graphviz.graphs.Digraph at 0x7a46bc706f90>"
      ]
     },
     "execution_count": 19,
     "metadata": {},
     "output_type": "execute_result"
    }
   ],
   "source": [
    "result.visualize(rankdir=\"LR\")  # Generates a graph image. LR means left to right "
   ]
  },
  {
   "cell_type": "code",
   "execution_count": 13,
   "id": "2a72e522",
   "metadata": {},
   "outputs": [
    {
     "data": {
      "text/plain": [
       "payment_type\n",
       "0    40.175634\n",
       "1    49.081101\n",
       "2    49.536832\n",
       "3    23.084967\n",
       "4     4.193730\n",
       "Name: fare_amount, dtype: float64"
      ]
     },
     "execution_count": 13,
     "metadata": {},
     "output_type": "execute_result"
    }
   ],
   "source": [
    "df_result = result.compute()\n",
    "df_result"
   ]
  },
  {
   "cell_type": "code",
   "execution_count": null,
   "id": "979b8547",
   "metadata": {},
   "outputs": [],
   "source": []
  }
 ],
 "metadata": {
  "kernelspec": {
   "display_name": "devpy",
   "language": "python",
   "name": "python3"
  },
  "language_info": {
   "codemirror_mode": {
    "name": "ipython",
    "version": 3
   },
   "file_extension": ".py",
   "mimetype": "text/x-python",
   "name": "python",
   "nbconvert_exporter": "python",
   "pygments_lexer": "ipython3",
   "version": "3.12.1"
  }
 },
 "nbformat": 4,
 "nbformat_minor": 5
}
