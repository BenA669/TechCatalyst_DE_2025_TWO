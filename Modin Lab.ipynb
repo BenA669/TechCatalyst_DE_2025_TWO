{
 "cells": [
  {
   "cell_type": "markdown",
   "id": "91e6fb54",
   "metadata": {},
   "source": [
    "## Introduction to Modin"
   ]
  },
  {
   "cell_type": "code",
   "execution_count": 1,
   "id": "8d3546ee",
   "metadata": {},
   "outputs": [
    {
     "name": "stdout",
     "output_type": "stream",
     "text": [
      "\u001b[2mUsing Python 3.12.1 environment at: /workspaces/TechCatalyst_DE_2025/devpy\u001b[0m\n",
      "\u001b[2mAudited \u001b[1m1 package\u001b[0m \u001b[2min 270ms\u001b[0m\u001b[0m\n"
     ]
    }
   ],
   "source": [
    "!uv pip install \"modin[all]\""
   ]
  },
  {
   "cell_type": "code",
   "execution_count": 2,
   "id": "47d07360",
   "metadata": {},
   "outputs": [
    {
     "name": "stdout",
     "output_type": "stream",
     "text": [
      "\u001b[2mUsing Python 3.12.1 environment at: /workspaces/TechCatalyst_DE_2025/devpy\u001b[0m\n",
      "\u001b[2mAudited \u001b[1m1 package\u001b[0m \u001b[2min 7ms\u001b[0m\u001b[0m\n"
     ]
    }
   ],
   "source": [
    "!uv pip install \"bokeh>=3.1.0\""
   ]
  },
  {
   "cell_type": "markdown",
   "id": "82a208c5",
   "metadata": {},
   "source": [
    "## Using Pandas"
   ]
  },
  {
   "cell_type": "code",
   "execution_count": 3,
   "id": "1aea71f2",
   "metadata": {},
   "outputs": [],
   "source": [
    "s3file = 's3://techcatalyst-raw/yellow_tripdata_2024-01.parquet'"
   ]
  },
  {
   "cell_type": "code",
   "execution_count": 4,
   "id": "3bc98027",
   "metadata": {},
   "outputs": [
    {
     "data": {
      "text/plain": [
       "True"
      ]
     },
     "execution_count": 4,
     "metadata": {},
     "output_type": "execute_result"
    }
   ],
   "source": [
    "from dotenv import load_dotenv\n",
    "load_dotenv()"
   ]
  },
  {
   "cell_type": "code",
   "execution_count": 5,
   "id": "a52c7530",
   "metadata": {},
   "outputs": [
    {
     "name": "stdout",
     "output_type": "stream",
     "text": [
      "CPU times: user 1.26 s, sys: 512 ms, total: 1.77 s\n",
      "Wall time: 4.61 s\n"
     ]
    },
    {
     "data": {
      "text/plain": [
       "payment_type\n",
       "0    40.175634\n",
       "1    49.081101\n",
       "2    49.536832\n",
       "3    23.084967\n",
       "4     4.193730\n",
       "Name: fare_amount, dtype: float64"
      ]
     },
     "execution_count": 5,
     "metadata": {},
     "output_type": "execute_result"
    }
   ],
   "source": [
    "%%time\n",
    "\n",
    "import pandas as pd\n",
    "\n",
    "df = pd.read_parquet(s3file)\n",
    "\n",
    "# 2. Calculate trip duration in minutes\n",
    "df[\"trip_duration_min\"] = (\n",
    "    (df[\"tpep_dropoff_datetime\"] - df[\"tpep_pickup_datetime\"]).dt.total_seconds() / 60\n",
    ")\n",
    "\n",
    "# 3. Filter trips longer than 5 minutes\n",
    "df_filtered = df[df[\"trip_duration_min\"] > 25]\n",
    "\n",
    "# 4. Group by payment_type and get average fare\n",
    "result = df_filtered.groupby(\"payment_type\")[\"fare_amount\"].mean()\n",
    "\n",
    "result.head()\n",
    "\n"
   ]
  },
  {
   "cell_type": "markdown",
   "id": "66e75d8c",
   "metadata": {},
   "source": [
    "## Using Modin\n",
    "\n",
    "__Small to Medium Data Sizes__. \n",
    "Modin adds distributed execution overhead. For DataFrames that fit into memory (typical on laptops/workstations), this overhead can outweigh any parallel gains. Each operation must be scheduled across multiple partitions, even if you have only a few cores or your data is “small.”"
   ]
  },
  {
   "cell_type": "code",
   "execution_count": 6,
   "id": "1965de48",
   "metadata": {},
   "outputs": [],
   "source": [
    "import modin.pandas as pd\n",
    "import os\n",
    "os.environ[\"MODIN_ENGINE\"] = \"dask\""
   ]
  },
  {
   "cell_type": "code",
   "execution_count": 7,
   "id": "0f8ac6a9",
   "metadata": {},
   "outputs": [
    {
     "name": "stdout",
     "output_type": "stream",
     "text": [
      "CPU times: user 3.29 s, sys: 292 ms, total: 3.58 s\n",
      "Wall time: 13.5 s\n"
     ]
    },
    {
     "data": {
      "text/plain": [
       "payment_type\n",
       "0    40.175634\n",
       "1    49.081101\n",
       "2    49.536832\n",
       "3    23.084967\n",
       "4     4.193730\n",
       "Name: fare_amount, dtype: float64"
      ]
     },
     "execution_count": 7,
     "metadata": {},
     "output_type": "execute_result"
    }
   ],
   "source": [
    "%%time\n",
    "# 1. Read Parquet\n",
    "df = pd.read_parquet(s3file)\n",
    "\n",
    "# 2. Calculate trip duration in minutes\n",
    "df[\"trip_duration_min\"] = (\n",
    "    (df[\"tpep_dropoff_datetime\"] - df[\"tpep_pickup_datetime\"]).dt.total_seconds() / 60\n",
    ")\n",
    "\n",
    "# 3. Filter trips longer than 5 minutes\n",
    "df_filtered = df[df[\"trip_duration_min\"] > 25]\n",
    "\n",
    "# 4. Group by payment_type and get average fare\n",
    "result = df_filtered.groupby(\"payment_type\")[\"fare_amount\"].mean()\n",
    "\n",
    "result.head()"
   ]
  },
  {
   "cell_type": "code",
   "execution_count": null,
   "id": "9e81d5cb",
   "metadata": {},
   "outputs": [],
   "source": []
  }
 ],
 "metadata": {
  "kernelspec": {
   "display_name": "devpy",
   "language": "python",
   "name": "python3"
  },
  "language_info": {
   "codemirror_mode": {
    "name": "ipython",
    "version": 3
   },
   "file_extension": ".py",
   "mimetype": "text/x-python",
   "name": "python",
   "nbconvert_exporter": "python",
   "pygments_lexer": "ipython3",
   "version": "3.12.1"
  }
 },
 "nbformat": 4,
 "nbformat_minor": 5
}
