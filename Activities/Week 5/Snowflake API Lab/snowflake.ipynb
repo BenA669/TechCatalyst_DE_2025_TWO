{
 "cells": [
  {
   "cell_type": "markdown",
   "id": "709ac9fa",
   "metadata": {},
   "source": [
    "# Lab 1: Reading from Snowflake"
   ]
  },
  {
   "cell_type": "markdown",
   "id": "110ea4dc",
   "metadata": {},
   "source": [
    "## Using Snowflake Connector"
   ]
  },
  {
   "cell_type": "code",
   "execution_count": 3,
   "id": "f4c64130",
   "metadata": {},
   "outputs": [],
   "source": [
    "# !uv pip install \"snowflake-connector-python[pandas]\""
   ]
  },
  {
   "cell_type": "code",
   "execution_count": 6,
   "id": "7ed68e04",
   "metadata": {},
   "outputs": [
    {
     "name": "stdout",
     "output_type": "stream",
     "text": [
      "['READ', 'WRITE']\n"
     ]
    }
   ],
   "source": [
    "import pandas as pd\n",
    "from snowflake import connector\n",
    "from configparser import ConfigParser\n",
    "\n",
    "config = ConfigParser()\n",
    "config.read('snow.cfg')\n",
    "\n",
    "print(config.sections())"
   ]
  },
  {
   "cell_type": "code",
   "execution_count": 7,
   "id": "b3ea1a3a",
   "metadata": {},
   "outputs": [],
   "source": [
    "params = dict(config['READ'])"
   ]
  },
  {
   "cell_type": "code",
   "execution_count": 8,
   "id": "4cfbc638",
   "metadata": {},
   "outputs": [],
   "source": [
    "import snowflake.connector \n",
    "\n",
    "con = connector.connect(**params)"
   ]
  },
  {
   "cell_type": "code",
   "execution_count": 9,
   "id": "f7d9e090",
   "metadata": {},
   "outputs": [
    {
     "name": "stdout",
     "output_type": "stream",
     "text": [
      "SNOWFLAKE_SAMPLE_DATA\n"
     ]
    }
   ],
   "source": [
    "# let's make sure we can connect\n",
    "print(con.database)"
   ]
  },
  {
   "cell_type": "code",
   "execution_count": 10,
   "id": "bef8a699",
   "metadata": {},
   "outputs": [
    {
     "data": {
      "text/plain": [
       "<snowflake.connector.cursor.SnowflakeCursor at 0x1d4d7a874a0>"
      ]
     },
     "execution_count": 10,
     "metadata": {},
     "output_type": "execute_result"
    }
   ],
   "source": [
    "cursor = con.cursor()\n",
    "cursor.execute('SELECT * FROM ORDERS LIMIT 100;')"
   ]
  },
  {
   "cell_type": "code",
   "execution_count": 11,
   "id": "e0d20e3f",
   "metadata": {},
   "outputs": [
    {
     "data": {
      "text/plain": [
       "[ResultMetadata(name='O_ORDERKEY', type_code=0, display_size=None, internal_size=None, precision=38, scale=0, is_nullable=False),\n",
       " ResultMetadata(name='O_CUSTKEY', type_code=0, display_size=None, internal_size=None, precision=38, scale=0, is_nullable=False),\n",
       " ResultMetadata(name='O_ORDERSTATUS', type_code=2, display_size=None, internal_size=1, precision=None, scale=None, is_nullable=False),\n",
       " ResultMetadata(name='O_TOTALPRICE', type_code=0, display_size=None, internal_size=None, precision=12, scale=2, is_nullable=False),\n",
       " ResultMetadata(name='O_ORDERDATE', type_code=3, display_size=None, internal_size=None, precision=None, scale=None, is_nullable=False),\n",
       " ResultMetadata(name='O_ORDERPRIORITY', type_code=2, display_size=None, internal_size=15, precision=None, scale=None, is_nullable=False),\n",
       " ResultMetadata(name='O_CLERK', type_code=2, display_size=None, internal_size=15, precision=None, scale=None, is_nullable=False),\n",
       " ResultMetadata(name='O_SHIPPRIORITY', type_code=0, display_size=None, internal_size=None, precision=38, scale=0, is_nullable=False),\n",
       " ResultMetadata(name='O_COMMENT', type_code=2, display_size=None, internal_size=79, precision=None, scale=None, is_nullable=False)]"
      ]
     },
     "execution_count": 11,
     "metadata": {},
     "output_type": "execute_result"
    }
   ],
   "source": [
    "cursor.description"
   ]
  },
  {
   "cell_type": "code",
   "execution_count": 12,
   "id": "fc430552",
   "metadata": {},
   "outputs": [
    {
     "data": {
      "text/plain": [
       "100"
      ]
     },
     "execution_count": 12,
     "metadata": {},
     "output_type": "execute_result"
    }
   ],
   "source": [
    "# you will see zero rows returned if you run this because the query has not been executed yet\n",
    "# all cursor.describe does is return the metadata of the query\n",
    "# cursor is lazy, it does not execute the query until you call fetch\n",
    "\n",
    "cursor.rowcount"
   ]
  },
  {
   "cell_type": "code",
   "execution_count": 13,
   "id": "3d96a484",
   "metadata": {},
   "outputs": [
    {
     "data": {
      "text/plain": [
       "[ResultMetadata(name='O_ORDERKEY', type_code=0, display_size=None, internal_size=None, precision=38, scale=0, is_nullable=False),\n",
       " ResultMetadata(name='O_CUSTKEY', type_code=0, display_size=None, internal_size=None, precision=38, scale=0, is_nullable=False),\n",
       " ResultMetadata(name='O_ORDERSTATUS', type_code=2, display_size=None, internal_size=1, precision=None, scale=None, is_nullable=False),\n",
       " ResultMetadata(name='O_TOTALPRICE', type_code=0, display_size=None, internal_size=None, precision=12, scale=2, is_nullable=False),\n",
       " ResultMetadata(name='O_ORDERDATE', type_code=3, display_size=None, internal_size=None, precision=None, scale=None, is_nullable=False),\n",
       " ResultMetadata(name='O_ORDERPRIORITY', type_code=2, display_size=None, internal_size=15, precision=None, scale=None, is_nullable=False),\n",
       " ResultMetadata(name='O_CLERK', type_code=2, display_size=None, internal_size=15, precision=None, scale=None, is_nullable=False),\n",
       " ResultMetadata(name='O_SHIPPRIORITY', type_code=0, display_size=None, internal_size=None, precision=38, scale=0, is_nullable=False),\n",
       " ResultMetadata(name='O_COMMENT', type_code=2, display_size=None, internal_size=79, precision=None, scale=None, is_nullable=False)]"
      ]
     },
     "execution_count": 13,
     "metadata": {},
     "output_type": "execute_result"
    }
   ],
   "source": [
    "cursor.describe('SELECT * FROM ORDERS LIMIT 100;')"
   ]
  },
  {
   "cell_type": "code",
   "execution_count": 14,
   "id": "696d73bb",
   "metadata": {},
   "outputs": [
    {
     "name": "stdout",
     "output_type": "stream",
     "text": [
      "100\n"
     ]
    }
   ],
   "source": [
    "query = \"SELECT * FROM ORDERS LIMIT 100;\"\n",
    "cursor.execute(query)\n",
    "\n",
    "print(cursor.rowcount)"
   ]
  },
  {
   "cell_type": "code",
   "execution_count": 15,
   "id": "41a90dcd",
   "metadata": {},
   "outputs": [
    {
     "data": {
      "text/html": [
       "<div>\n",
       "<style scoped>\n",
       "    .dataframe tbody tr th:only-of-type {\n",
       "        vertical-align: middle;\n",
       "    }\n",
       "\n",
       "    .dataframe tbody tr th {\n",
       "        vertical-align: top;\n",
       "    }\n",
       "\n",
       "    .dataframe thead th {\n",
       "        text-align: right;\n",
       "    }\n",
       "</style>\n",
       "<table border=\"1\" class=\"dataframe\">\n",
       "  <thead>\n",
       "    <tr style=\"text-align: right;\">\n",
       "      <th></th>\n",
       "      <th>O_ORDERKEY</th>\n",
       "      <th>O_CUSTKEY</th>\n",
       "      <th>O_ORDERSTATUS</th>\n",
       "      <th>O_TOTALPRICE</th>\n",
       "      <th>O_ORDERDATE</th>\n",
       "      <th>O_ORDERPRIORITY</th>\n",
       "      <th>O_CLERK</th>\n",
       "      <th>O_SHIPPRIORITY</th>\n",
       "      <th>O_COMMENT</th>\n",
       "    </tr>\n",
       "  </thead>\n",
       "  <tbody>\n",
       "    <tr>\n",
       "      <th>0</th>\n",
       "      <td>3000001</td>\n",
       "      <td>145618</td>\n",
       "      <td>F</td>\n",
       "      <td>30175.88</td>\n",
       "      <td>1992-12-17</td>\n",
       "      <td>4-NOT SPECIFIED</td>\n",
       "      <td>Clerk#000000141</td>\n",
       "      <td>0</td>\n",
       "      <td>l packages. furiously careful instructions gro...</td>\n",
       "    </tr>\n",
       "    <tr>\n",
       "      <th>1</th>\n",
       "      <td>3000002</td>\n",
       "      <td>1481</td>\n",
       "      <td>O</td>\n",
       "      <td>297999.63</td>\n",
       "      <td>1995-07-28</td>\n",
       "      <td>1-URGENT</td>\n",
       "      <td>Clerk#000000547</td>\n",
       "      <td>0</td>\n",
       "      <td>carefully unusual dependencie</td>\n",
       "    </tr>\n",
       "    <tr>\n",
       "      <th>2</th>\n",
       "      <td>3000003</td>\n",
       "      <td>127432</td>\n",
       "      <td>O</td>\n",
       "      <td>345438.38</td>\n",
       "      <td>1997-11-04</td>\n",
       "      <td>5-LOW</td>\n",
       "      <td>Clerk#000000488</td>\n",
       "      <td>0</td>\n",
       "      <td>n packages boost slyly bold deposits. deposits...</td>\n",
       "    </tr>\n",
       "    <tr>\n",
       "      <th>3</th>\n",
       "      <td>3000004</td>\n",
       "      <td>47423</td>\n",
       "      <td>O</td>\n",
       "      <td>135965.53</td>\n",
       "      <td>1996-06-13</td>\n",
       "      <td>4-NOT SPECIFIED</td>\n",
       "      <td>Clerk#000000004</td>\n",
       "      <td>0</td>\n",
       "      <td>nts wake carefully final decoys. quickly final...</td>\n",
       "    </tr>\n",
       "    <tr>\n",
       "      <th>4</th>\n",
       "      <td>3000005</td>\n",
       "      <td>84973</td>\n",
       "      <td>F</td>\n",
       "      <td>209937.09</td>\n",
       "      <td>1992-09-12</td>\n",
       "      <td>5-LOW</td>\n",
       "      <td>Clerk#000000030</td>\n",
       "      <td>0</td>\n",
       "      <td>yly after the quickly unusual ide</td>\n",
       "    </tr>\n",
       "  </tbody>\n",
       "</table>\n",
       "</div>"
      ],
      "text/plain": [
       "   O_ORDERKEY  O_CUSTKEY O_ORDERSTATUS  O_TOTALPRICE O_ORDERDATE  \\\n",
       "0     3000001     145618             F      30175.88  1992-12-17   \n",
       "1     3000002       1481             O     297999.63  1995-07-28   \n",
       "2     3000003     127432             O     345438.38  1997-11-04   \n",
       "3     3000004      47423             O     135965.53  1996-06-13   \n",
       "4     3000005      84973             F     209937.09  1992-09-12   \n",
       "\n",
       "   O_ORDERPRIORITY          O_CLERK  O_SHIPPRIORITY  \\\n",
       "0  4-NOT SPECIFIED  Clerk#000000141               0   \n",
       "1         1-URGENT  Clerk#000000547               0   \n",
       "2            5-LOW  Clerk#000000488               0   \n",
       "3  4-NOT SPECIFIED  Clerk#000000004               0   \n",
       "4            5-LOW  Clerk#000000030               0   \n",
       "\n",
       "                                           O_COMMENT  \n",
       "0  l packages. furiously careful instructions gro...  \n",
       "1                      carefully unusual dependencie  \n",
       "2  n packages boost slyly bold deposits. deposits...  \n",
       "3  nts wake carefully final decoys. quickly final...  \n",
       "4                  yly after the quickly unusual ide  "
      ]
     },
     "execution_count": 15,
     "metadata": {},
     "output_type": "execute_result"
    }
   ],
   "source": [
    "df = cursor.fetch_pandas_all()\n",
    "df.head()"
   ]
  },
  {
   "cell_type": "code",
   "execution_count": 16,
   "id": "d504d729",
   "metadata": {},
   "outputs": [],
   "source": [
    "# you can also use the following to fetch data as a pandas DataFrame\n",
    "query = \"SELECT * FROM ORDERS LIMIT 100;\"\n",
    "df = cursor.execute(query).fetch_pandas_all()"
   ]
  },
  {
   "cell_type": "code",
   "execution_count": 17,
   "id": "62bfd0f9",
   "metadata": {},
   "outputs": [
    {
     "name": "stdout",
     "output_type": "stream",
     "text": [
      "<class 'pandas.core.frame.DataFrame'>\n",
      "RangeIndex: 100 entries, 0 to 99\n",
      "Data columns (total 9 columns):\n",
      " #   Column           Non-Null Count  Dtype  \n",
      "---  ------           --------------  -----  \n",
      " 0   O_ORDERKEY       100 non-null    int32  \n",
      " 1   O_CUSTKEY        100 non-null    int32  \n",
      " 2   O_ORDERSTATUS    100 non-null    object \n",
      " 3   O_TOTALPRICE     100 non-null    float64\n",
      " 4   O_ORDERDATE      100 non-null    object \n",
      " 5   O_ORDERPRIORITY  100 non-null    object \n",
      " 6   O_CLERK          100 non-null    object \n",
      " 7   O_SHIPPRIORITY   100 non-null    int8   \n",
      " 8   O_COMMENT        100 non-null    object \n",
      "dtypes: float64(1), int32(2), int8(1), object(5)\n",
      "memory usage: 5.7+ KB\n"
     ]
    }
   ],
   "source": [
    "# notice all the columns are all uppercase coming from Snowflake\n",
    "# this is because Snowflake returns column names in uppercase by default\n",
    "df.info()"
   ]
  },
  {
   "cell_type": "code",
   "execution_count": 18,
   "id": "984cbd54",
   "metadata": {},
   "outputs": [],
   "source": [
    "# when you are done you need to close the cursor and connection\n",
    "cursor.close()\n",
    "con.close()"
   ]
  },
  {
   "cell_type": "code",
   "execution_count": 19,
   "id": "06cab09a",
   "metadata": {},
   "outputs": [
    {
     "data": {
      "text/html": [
       "<div>\n",
       "<style scoped>\n",
       "    .dataframe tbody tr th:only-of-type {\n",
       "        vertical-align: middle;\n",
       "    }\n",
       "\n",
       "    .dataframe tbody tr th {\n",
       "        vertical-align: top;\n",
       "    }\n",
       "\n",
       "    .dataframe thead th {\n",
       "        text-align: right;\n",
       "    }\n",
       "</style>\n",
       "<table border=\"1\" class=\"dataframe\">\n",
       "  <thead>\n",
       "    <tr style=\"text-align: right;\">\n",
       "      <th></th>\n",
       "      <th>O_ORDERKEY</th>\n",
       "      <th>O_CUSTKEY</th>\n",
       "      <th>O_ORDERSTATUS</th>\n",
       "      <th>O_TOTALPRICE</th>\n",
       "      <th>O_ORDERDATE</th>\n",
       "      <th>O_ORDERPRIORITY</th>\n",
       "      <th>O_CLERK</th>\n",
       "      <th>O_SHIPPRIORITY</th>\n",
       "      <th>O_COMMENT</th>\n",
       "    </tr>\n",
       "  </thead>\n",
       "  <tbody>\n",
       "    <tr>\n",
       "      <th>0</th>\n",
       "      <td>3000001</td>\n",
       "      <td>145618</td>\n",
       "      <td>F</td>\n",
       "      <td>30175.88</td>\n",
       "      <td>1992-12-17</td>\n",
       "      <td>4-NOT SPECIFIED</td>\n",
       "      <td>Clerk#000000141</td>\n",
       "      <td>0</td>\n",
       "      <td>l packages. furiously careful instructions gro...</td>\n",
       "    </tr>\n",
       "    <tr>\n",
       "      <th>1</th>\n",
       "      <td>3000002</td>\n",
       "      <td>1481</td>\n",
       "      <td>O</td>\n",
       "      <td>297999.63</td>\n",
       "      <td>1995-07-28</td>\n",
       "      <td>1-URGENT</td>\n",
       "      <td>Clerk#000000547</td>\n",
       "      <td>0</td>\n",
       "      <td>carefully unusual dependencie</td>\n",
       "    </tr>\n",
       "    <tr>\n",
       "      <th>2</th>\n",
       "      <td>3000003</td>\n",
       "      <td>127432</td>\n",
       "      <td>O</td>\n",
       "      <td>345438.38</td>\n",
       "      <td>1997-11-04</td>\n",
       "      <td>5-LOW</td>\n",
       "      <td>Clerk#000000488</td>\n",
       "      <td>0</td>\n",
       "      <td>n packages boost slyly bold deposits. deposits...</td>\n",
       "    </tr>\n",
       "    <tr>\n",
       "      <th>3</th>\n",
       "      <td>3000004</td>\n",
       "      <td>47423</td>\n",
       "      <td>O</td>\n",
       "      <td>135965.53</td>\n",
       "      <td>1996-06-13</td>\n",
       "      <td>4-NOT SPECIFIED</td>\n",
       "      <td>Clerk#000000004</td>\n",
       "      <td>0</td>\n",
       "      <td>nts wake carefully final decoys. quickly final...</td>\n",
       "    </tr>\n",
       "    <tr>\n",
       "      <th>4</th>\n",
       "      <td>3000005</td>\n",
       "      <td>84973</td>\n",
       "      <td>F</td>\n",
       "      <td>209937.09</td>\n",
       "      <td>1992-09-12</td>\n",
       "      <td>5-LOW</td>\n",
       "      <td>Clerk#000000030</td>\n",
       "      <td>0</td>\n",
       "      <td>yly after the quickly unusual ide</td>\n",
       "    </tr>\n",
       "  </tbody>\n",
       "</table>\n",
       "</div>"
      ],
      "text/plain": [
       "   O_ORDERKEY  O_CUSTKEY O_ORDERSTATUS  O_TOTALPRICE O_ORDERDATE  \\\n",
       "0     3000001     145618             F      30175.88  1992-12-17   \n",
       "1     3000002       1481             O     297999.63  1995-07-28   \n",
       "2     3000003     127432             O     345438.38  1997-11-04   \n",
       "3     3000004      47423             O     135965.53  1996-06-13   \n",
       "4     3000005      84973             F     209937.09  1992-09-12   \n",
       "\n",
       "   O_ORDERPRIORITY          O_CLERK  O_SHIPPRIORITY  \\\n",
       "0  4-NOT SPECIFIED  Clerk#000000141               0   \n",
       "1         1-URGENT  Clerk#000000547               0   \n",
       "2            5-LOW  Clerk#000000488               0   \n",
       "3  4-NOT SPECIFIED  Clerk#000000004               0   \n",
       "4            5-LOW  Clerk#000000030               0   \n",
       "\n",
       "                                           O_COMMENT  \n",
       "0  l packages. furiously careful instructions gro...  \n",
       "1                      carefully unusual dependencie  \n",
       "2  n packages boost slyly bold deposits. deposits...  \n",
       "3  nts wake carefully final decoys. quickly final...  \n",
       "4                  yly after the quickly unusual ide  "
      ]
     },
     "metadata": {},
     "output_type": "display_data"
    },
    {
     "name": "stdout",
     "output_type": "stream",
     "text": [
      "<class 'pandas.core.frame.DataFrame'>\n",
      "RangeIndex: 100 entries, 0 to 99\n",
      "Data columns (total 9 columns):\n",
      " #   Column           Non-Null Count  Dtype  \n",
      "---  ------           --------------  -----  \n",
      " 0   O_ORDERKEY       100 non-null    int32  \n",
      " 1   O_CUSTKEY        100 non-null    int32  \n",
      " 2   O_ORDERSTATUS    100 non-null    object \n",
      " 3   O_TOTALPRICE     100 non-null    float64\n",
      " 4   O_ORDERDATE      100 non-null    object \n",
      " 5   O_ORDERPRIORITY  100 non-null    object \n",
      " 6   O_CLERK          100 non-null    object \n",
      " 7   O_SHIPPRIORITY   100 non-null    int8   \n",
      " 8   O_COMMENT        100 non-null    object \n",
      "dtypes: float64(1), int32(2), int8(1), object(5)\n",
      "memory usage: 5.7+ KB\n",
      "None\n"
     ]
    }
   ],
   "source": [
    "# a better approach is to use the context manager \n",
    "with connector.connect(**params) as con:\n",
    "    with con.cursor() as cursor:\n",
    "        query = \"SELECT * FROM ORDERS LIMIT 100;\"\n",
    "        df = cursor.execute(query).fetch_pandas_all()\n",
    "        display(df.head())\n",
    "        print(df.info())"
   ]
  },
  {
   "cell_type": "markdown",
   "id": "1af8c607",
   "metadata": {},
   "source": [
    "## Using SQLAlchemy and Pandas"
   ]
  },
  {
   "cell_type": "code",
   "execution_count": 62,
   "id": "58d81588",
   "metadata": {},
   "outputs": [],
   "source": [
    "# ! uv pip install sqlalchemy snowflake-sqlalchemy"
   ]
  },
  {
   "cell_type": "code",
   "execution_count": 1,
   "id": "6b25b8af",
   "metadata": {},
   "outputs": [],
   "source": [
    "from sqlalchemy import create_engine\n",
    "from snowflake.sqlalchemy import URL\n",
    "from configparser import ConfigParser\n",
    "import pandas as pd\n",
    "\n",
    "config = ConfigParser()\n",
    "config.read('snow.cfg')\n",
    "params = dict(config['READ'])\n",
    "\n",
    "url = URL(**params)\n",
    "engine = create_engine(url)"
   ]
  },
  {
   "cell_type": "code",
   "execution_count": 6,
   "id": "88d791de",
   "metadata": {},
   "outputs": [
    {
     "data": {
      "text/plain": [
       "<sqlalchemy.engine.base.Connection at 0x2a96b3d4650>"
      ]
     },
     "execution_count": 6,
     "metadata": {},
     "output_type": "execute_result"
    }
   ],
   "source": [
    "con = engine.connect()\n",
    "con"
   ]
  },
  {
   "cell_type": "code",
   "execution_count": 8,
   "id": "c5d68748",
   "metadata": {},
   "outputs": [],
   "source": [
    "query = \"SELECT * FROM ORDERS LIMIT 100;\"\n",
    "\n",
    "pd.read_sql(\n",
    "    query,\n",
    "    con\n",
    ")\n",
    "\n",
    "con.close()\n",
    "# with engine.connect() as con:\n",
    "#     df = pd.read"
   ]
  },
  {
   "cell_type": "code",
   "execution_count": 3,
   "id": "ad89d916",
   "metadata": {},
   "outputs": [
    {
     "name": "stdout",
     "output_type": "stream",
     "text": [
      "<class 'pandas.core.frame.DataFrame'>\n",
      "DatetimeIndex: 1000 entries, 1992-12-17 to 1993-01-19\n",
      "Data columns (total 8 columns):\n",
      " #   Column           Non-Null Count  Dtype  \n",
      "---  ------           --------------  -----  \n",
      " 0   o_orderkey       1000 non-null   int64  \n",
      " 1   o_custkey        1000 non-null   int64  \n",
      " 2   o_orderstatus    1000 non-null   object \n",
      " 3   o_totalprice     1000 non-null   float64\n",
      " 4   o_orderpriority  1000 non-null   object \n",
      " 5   o_clerk          1000 non-null   object \n",
      " 6   o_shippriority   1000 non-null   int64  \n",
      " 7   o_comment        1000 non-null   object \n",
      "dtypes: float64(1), int64(3), object(4)\n",
      "memory usage: 70.3+ KB\n"
     ]
    }
   ],
   "source": [
    "# an example query to read data from Snowflake using SQLAlchemy and Pandas \n",
    "query = \"SELECT * FROM ORDERS LIMIT 1000;\"\n",
    "\n",
    "engine = create_engine(url)\n",
    "with engine.connect() as con:\n",
    "    df = pd.read_sql(query,\n",
    "                      con,\n",
    "                      index_col='o_orderdate',\n",
    "                      parse_dates=['o_orderdate'])\n",
    "\n",
    "# notice the index is set to 'o_orderdate' and it is parsed as a date\n",
    "# also notice the column names are all lowercase \n",
    "df.info()"
   ]
  },
  {
   "cell_type": "code",
   "execution_count": 9,
   "id": "41757dc1",
   "metadata": {},
   "outputs": [
    {
     "data": {
      "text/html": [
       "<div>\n",
       "<style scoped>\n",
       "    .dataframe tbody tr th:only-of-type {\n",
       "        vertical-align: middle;\n",
       "    }\n",
       "\n",
       "    .dataframe tbody tr th {\n",
       "        vertical-align: top;\n",
       "    }\n",
       "\n",
       "    .dataframe thead th {\n",
       "        text-align: right;\n",
       "    }\n",
       "</style>\n",
       "<table border=\"1\" class=\"dataframe\">\n",
       "  <thead>\n",
       "    <tr style=\"text-align: right;\">\n",
       "      <th></th>\n",
       "      <th>o_orderkey</th>\n",
       "      <th>o_custkey</th>\n",
       "      <th>o_orderstatus</th>\n",
       "      <th>o_totalprice</th>\n",
       "      <th>o_orderpriority</th>\n",
       "      <th>o_clerk</th>\n",
       "      <th>o_shippriority</th>\n",
       "      <th>o_comment</th>\n",
       "    </tr>\n",
       "    <tr>\n",
       "      <th>o_orderdate</th>\n",
       "      <th></th>\n",
       "      <th></th>\n",
       "      <th></th>\n",
       "      <th></th>\n",
       "      <th></th>\n",
       "      <th></th>\n",
       "      <th></th>\n",
       "      <th></th>\n",
       "    </tr>\n",
       "  </thead>\n",
       "  <tbody>\n",
       "    <tr>\n",
       "      <th>1992-12-17</th>\n",
       "      <td>3000001</td>\n",
       "      <td>145618</td>\n",
       "      <td>F</td>\n",
       "      <td>30175.88</td>\n",
       "      <td>4-NOT SPECIFIED</td>\n",
       "      <td>Clerk#000000141</td>\n",
       "      <td>0</td>\n",
       "      <td>l packages. furiously careful instructions gro...</td>\n",
       "    </tr>\n",
       "    <tr>\n",
       "      <th>1995-07-28</th>\n",
       "      <td>3000002</td>\n",
       "      <td>1481</td>\n",
       "      <td>O</td>\n",
       "      <td>297999.63</td>\n",
       "      <td>1-URGENT</td>\n",
       "      <td>Clerk#000000547</td>\n",
       "      <td>0</td>\n",
       "      <td>carefully unusual dependencie</td>\n",
       "    </tr>\n",
       "    <tr>\n",
       "      <th>1997-11-04</th>\n",
       "      <td>3000003</td>\n",
       "      <td>127432</td>\n",
       "      <td>O</td>\n",
       "      <td>345438.38</td>\n",
       "      <td>5-LOW</td>\n",
       "      <td>Clerk#000000488</td>\n",
       "      <td>0</td>\n",
       "      <td>n packages boost slyly bold deposits. deposits...</td>\n",
       "    </tr>\n",
       "    <tr>\n",
       "      <th>1996-06-13</th>\n",
       "      <td>3000004</td>\n",
       "      <td>47423</td>\n",
       "      <td>O</td>\n",
       "      <td>135965.53</td>\n",
       "      <td>4-NOT SPECIFIED</td>\n",
       "      <td>Clerk#000000004</td>\n",
       "      <td>0</td>\n",
       "      <td>nts wake carefully final decoys. quickly final...</td>\n",
       "    </tr>\n",
       "    <tr>\n",
       "      <th>1992-09-12</th>\n",
       "      <td>3000005</td>\n",
       "      <td>84973</td>\n",
       "      <td>F</td>\n",
       "      <td>209937.09</td>\n",
       "      <td>5-LOW</td>\n",
       "      <td>Clerk#000000030</td>\n",
       "      <td>0</td>\n",
       "      <td>yly after the quickly unusual ide</td>\n",
       "    </tr>\n",
       "    <tr>\n",
       "      <th>1996-09-26</th>\n",
       "      <td>3000006</td>\n",
       "      <td>135136</td>\n",
       "      <td>O</td>\n",
       "      <td>140186.32</td>\n",
       "      <td>1-URGENT</td>\n",
       "      <td>Clerk#000000726</td>\n",
       "      <td>0</td>\n",
       "      <td>ronic pinto beans use furiously final, slow no...</td>\n",
       "    </tr>\n",
       "    <tr>\n",
       "      <th>1992-04-13</th>\n",
       "      <td>3000007</td>\n",
       "      <td>78841</td>\n",
       "      <td>F</td>\n",
       "      <td>298655.07</td>\n",
       "      <td>5-LOW</td>\n",
       "      <td>Clerk#000000871</td>\n",
       "      <td>0</td>\n",
       "      <td>ses eat. deposits wake</td>\n",
       "    </tr>\n",
       "    <tr>\n",
       "      <th>1992-03-02</th>\n",
       "      <td>3000032</td>\n",
       "      <td>124576</td>\n",
       "      <td>F</td>\n",
       "      <td>175973.90</td>\n",
       "      <td>1-URGENT</td>\n",
       "      <td>Clerk#000000460</td>\n",
       "      <td>0</td>\n",
       "      <td>lar deposits mold carefully against the dep</td>\n",
       "    </tr>\n",
       "    <tr>\n",
       "      <th>1993-11-10</th>\n",
       "      <td>3000033</td>\n",
       "      <td>30247</td>\n",
       "      <td>F</td>\n",
       "      <td>4635.38</td>\n",
       "      <td>1-URGENT</td>\n",
       "      <td>Clerk#000000923</td>\n",
       "      <td>0</td>\n",
       "      <td>mes special packages nag quickly.</td>\n",
       "    </tr>\n",
       "    <tr>\n",
       "      <th>1992-04-21</th>\n",
       "      <td>3000034</td>\n",
       "      <td>5498</td>\n",
       "      <td>F</td>\n",
       "      <td>348308.79</td>\n",
       "      <td>1-URGENT</td>\n",
       "      <td>Clerk#000000418</td>\n",
       "      <td>0</td>\n",
       "      <td>lly final packages are slyly beyond the reques...</td>\n",
       "    </tr>\n",
       "  </tbody>\n",
       "</table>\n",
       "</div>"
      ],
      "text/plain": [
       "             o_orderkey  o_custkey o_orderstatus  o_totalprice  \\\n",
       "o_orderdate                                                      \n",
       "1992-12-17      3000001     145618             F      30175.88   \n",
       "1995-07-28      3000002       1481             O     297999.63   \n",
       "1997-11-04      3000003     127432             O     345438.38   \n",
       "1996-06-13      3000004      47423             O     135965.53   \n",
       "1992-09-12      3000005      84973             F     209937.09   \n",
       "1996-09-26      3000006     135136             O     140186.32   \n",
       "1992-04-13      3000007      78841             F     298655.07   \n",
       "1992-03-02      3000032     124576             F     175973.90   \n",
       "1993-11-10      3000033      30247             F       4635.38   \n",
       "1992-04-21      3000034       5498             F     348308.79   \n",
       "\n",
       "             o_orderpriority          o_clerk  o_shippriority  \\\n",
       "o_orderdate                                                     \n",
       "1992-12-17   4-NOT SPECIFIED  Clerk#000000141               0   \n",
       "1995-07-28          1-URGENT  Clerk#000000547               0   \n",
       "1997-11-04             5-LOW  Clerk#000000488               0   \n",
       "1996-06-13   4-NOT SPECIFIED  Clerk#000000004               0   \n",
       "1992-09-12             5-LOW  Clerk#000000030               0   \n",
       "1996-09-26          1-URGENT  Clerk#000000726               0   \n",
       "1992-04-13             5-LOW  Clerk#000000871               0   \n",
       "1992-03-02          1-URGENT  Clerk#000000460               0   \n",
       "1993-11-10          1-URGENT  Clerk#000000923               0   \n",
       "1992-04-21          1-URGENT  Clerk#000000418               0   \n",
       "\n",
       "                                                     o_comment  \n",
       "o_orderdate                                                     \n",
       "1992-12-17   l packages. furiously careful instructions gro...  \n",
       "1995-07-28                       carefully unusual dependencie  \n",
       "1997-11-04   n packages boost slyly bold deposits. deposits...  \n",
       "1996-06-13   nts wake carefully final decoys. quickly final...  \n",
       "1992-09-12                   yly after the quickly unusual ide  \n",
       "1996-09-26   ronic pinto beans use furiously final, slow no...  \n",
       "1992-04-13                              ses eat. deposits wake  \n",
       "1992-03-02         lar deposits mold carefully against the dep  \n",
       "1993-11-10                  mes special packages nag quickly.   \n",
       "1992-04-21   lly final packages are slyly beyond the reques...  "
      ]
     },
     "execution_count": 9,
     "metadata": {},
     "output_type": "execute_result"
    }
   ],
   "source": [
    "# look at the first 10 rows of the DataFrame \n",
    "# notice the o_orderdate is not sorted \n",
    "df.head(10)"
   ]
  },
  {
   "cell_type": "code",
   "execution_count": 11,
   "id": "d99f36bf",
   "metadata": {},
   "outputs": [
    {
     "data": {
      "text/plain": [
       "<Axes: xlabel='o_orderdate'>"
      ]
     },
     "execution_count": 11,
     "metadata": {},
     "output_type": "execute_result"
    },
    {
     "data": {
      "image/png": "[encoded data removed]",
      "text/plain": [
       "<Figure size 640x480 with 1 Axes>"
      ]
     },
     "metadata": {},
     "output_type": "display_data"
    }
   ],
   "source": [
    "df.sort_index()['o_totalprice'].plot()"
   ]
  },
  {
   "cell_type": "code",
   "execution_count": 12,
   "id": "bd2f2079",
   "metadata": {},
   "outputs": [
    {
     "name": "stdout",
     "output_type": "stream",
     "text": [
      "<class 'pandas.core.frame.DataFrame'>\n",
      "DatetimeIndex: 1000 entries, 1992-12-17 to 1993-01-19\n",
      "Data columns (total 8 columns):\n",
      " #   Column           Non-Null Count  Dtype  \n",
      "---  ------           --------------  -----  \n",
      " 0   o_orderkey       1000 non-null   int64  \n",
      " 1   o_custkey        1000 non-null   int64  \n",
      " 2   o_orderstatus    1000 non-null   object \n",
      " 3   o_totalprice     1000 non-null   float64\n",
      " 4   o_orderpriority  1000 non-null   object \n",
      " 5   o_clerk          1000 non-null   object \n",
      " 6   o_shippriority   1000 non-null   int64  \n",
      " 7   o_comment        1000 non-null   object \n",
      "dtypes: float64(1), int64(3), object(4)\n",
      "memory usage: 70.3+ KB\n"
     ]
    }
   ],
   "source": [
    "# you can also use the following to read data from Snowflake using SQLAlchemy and Pandas\n",
    "query = \"SELECT * FROM ORDERS LIMIT 1000;\"\n",
    "con = engine.connect()\n",
    "df = pd.read_sql(query,\n",
    "                 con,\n",
    "                 index_col='o_orderdate',\n",
    "                 parse_dates=['o_orderdate'])\n",
    "df.info()"
   ]
  },
  {
   "cell_type": "code",
   "execution_count": 13,
   "id": "951eae36",
   "metadata": {},
   "outputs": [],
   "source": [
    "# but here you will need to close the connection manually\n",
    "con.close()\n",
    "engine.dispose()  # this will close all connections associated with the engine"
   ]
  },
  {
   "cell_type": "markdown",
   "id": "22f18af1",
   "metadata": {},
   "source": [
    "## Using Snowpark"
   ]
  },
  {
   "cell_type": "code",
   "execution_count": 1,
   "id": "2a8edce1",
   "metadata": {},
   "outputs": [],
   "source": [
    "# ! uv pip install snowflake-snowpark-python "
   ]
  },
  {
   "cell_type": "code",
   "execution_count": 14,
   "id": "e9164291",
   "metadata": {},
   "outputs": [
    {
     "name": "stderr",
     "output_type": "stream",
     "text": [
      "c:\\Users\\Benja\\Documents\\Projects\\techcat\\TechCatalyst_DE_2025_TWO\\.venv\\Lib\\site-packages\\snowflake\\snowpark\\session.py:38: UserWarning: pkg_resources is deprecated as an API. See https://setuptools.pypa.io/en/latest/pkg_resources.html. The pkg_resources package is slated for removal as early as 2025-11-30. Refrain from using this package or pin to Setuptools<81.\n",
      "  import pkg_resources\n"
     ]
    }
   ],
   "source": [
    "from snowflake.snowpark import Session\n",
    "from configparser import ConfigParser\n",
    "import pandas as pd\n",
    "\n",
    "config = ConfigParser()\n",
    "config.read('snow.cfg')\n",
    "params = dict(config['READ'])"
   ]
  },
  {
   "cell_type": "code",
   "execution_count": 15,
   "id": "c9ecea6c",
   "metadata": {},
   "outputs": [],
   "source": [
    "session = Session.builder.configs(params).create()"
   ]
  },
  {
   "cell_type": "code",
   "execution_count": 16,
   "id": "06c6e9b6",
   "metadata": {},
   "outputs": [
    {
     "data": {
      "text/plain": [
       "<snowflake.snowpark.session.Session at 0x2a970bf5e20>"
      ]
     },
     "execution_count": 16,
     "metadata": {},
     "output_type": "execute_result"
    }
   ],
   "source": [
    "session"
   ]
  },
  {
   "cell_type": "code",
   "execution_count": 17,
   "id": "df5b5554",
   "metadata": {},
   "outputs": [
    {
     "name": "stdout",
     "output_type": "stream",
     "text": [
      "<snowflake.snowpark.dataframe.DataFrame object at 0x000002A96DC07F80>\n"
     ]
    }
   ],
   "source": [
    "print(session.sql(\"SELECT CURRENT_VERSION()\"))"
   ]
  },
  {
   "cell_type": "code",
   "execution_count": 18,
   "id": "61aae354",
   "metadata": {},
   "outputs": [
    {
     "data": {
      "text/plain": [
       "<snowflake.snowpark.dataframe.DataFrame at 0x2a970bf7fb0>"
      ]
     },
     "execution_count": 18,
     "metadata": {},
     "output_type": "execute_result"
    }
   ],
   "source": [
    "query = \"SELECT * FROM ORDERS LIMIT 100;\"\n",
    "# notice that this does not return a DataFrame, it returns a Snowpark DataFrame\n",
    "# also there is no data fetched yet, it is lazy like the cursor in the Snowflake connector\n",
    "# it will not execute the query until you call collect() or show() on the DataFrame\n",
    "session.sql(query)"
   ]
  },
  {
   "cell_type": "markdown",
   "id": "884bd802",
   "metadata": {},
   "source": [
    "#### different ways to fetch the data\n"
   ]
  },
  {
   "cell_type": "code",
   "execution_count": 19,
   "id": "de8d00a9",
   "metadata": {},
   "outputs": [
    {
     "data": {
      "text/plain": [
       "list"
      ]
     },
     "execution_count": 19,
     "metadata": {},
     "output_type": "execute_result"
    }
   ],
   "source": [
    "# using collect() to fetch the data\n",
    "df = session.sql(query).collect()\n",
    "# this returns a list of Row objects, not a pandas DataFrame\n",
    "# to convert it to a pandas DataFrame, you can use the following\n",
    "type(df)"
   ]
  },
  {
   "cell_type": "code",
   "execution_count": 20,
   "id": "593d9a64",
   "metadata": {},
   "outputs": [
    {
     "name": "stdout",
     "output_type": "stream",
     "text": [
      "<class 'pandas.core.frame.DataFrame'>\n",
      "RangeIndex: 100 entries, 0 to 99\n",
      "Data columns (total 9 columns):\n",
      " #   Column           Non-Null Count  Dtype \n",
      "---  ------           --------------  ----- \n",
      " 0   O_ORDERKEY       100 non-null    int64 \n",
      " 1   O_CUSTKEY        100 non-null    int64 \n",
      " 2   O_ORDERSTATUS    100 non-null    object\n",
      " 3   O_TOTALPRICE     100 non-null    object\n",
      " 4   O_ORDERDATE      100 non-null    object\n",
      " 5   O_ORDERPRIORITY  100 non-null    object\n",
      " 6   O_CLERK          100 non-null    object\n",
      " 7   O_SHIPPRIORITY   100 non-null    int64 \n",
      " 8   O_COMMENT        100 non-null    object\n",
      "dtypes: int64(3), object(6)\n",
      "memory usage: 7.2+ KB\n"
     ]
    }
   ],
   "source": [
    "# convert to pandas DataFrame\n",
    "df = pd.DataFrame(df)\n",
    "df.info()"
   ]
  },
  {
   "cell_type": "code",
   "execution_count": 21,
   "id": "cbc6d18b",
   "metadata": {},
   "outputs": [
    {
     "data": {
      "text/html": [
       "<div>\n",
       "<style scoped>\n",
       "    .dataframe tbody tr th:only-of-type {\n",
       "        vertical-align: middle;\n",
       "    }\n",
       "\n",
       "    .dataframe tbody tr th {\n",
       "        vertical-align: top;\n",
       "    }\n",
       "\n",
       "    .dataframe thead th {\n",
       "        text-align: right;\n",
       "    }\n",
       "</style>\n",
       "<table border=\"1\" class=\"dataframe\">\n",
       "  <thead>\n",
       "    <tr style=\"text-align: right;\">\n",
       "      <th></th>\n",
       "      <th>O_ORDERKEY</th>\n",
       "      <th>O_CUSTKEY</th>\n",
       "      <th>O_ORDERSTATUS</th>\n",
       "      <th>O_TOTALPRICE</th>\n",
       "      <th>O_ORDERDATE</th>\n",
       "      <th>O_ORDERPRIORITY</th>\n",
       "      <th>O_CLERK</th>\n",
       "      <th>O_SHIPPRIORITY</th>\n",
       "      <th>O_COMMENT</th>\n",
       "    </tr>\n",
       "  </thead>\n",
       "  <tbody>\n",
       "    <tr>\n",
       "      <th>0</th>\n",
       "      <td>3000001</td>\n",
       "      <td>145618</td>\n",
       "      <td>F</td>\n",
       "      <td>30175.88</td>\n",
       "      <td>1992-12-17</td>\n",
       "      <td>4-NOT SPECIFIED</td>\n",
       "      <td>Clerk#000000141</td>\n",
       "      <td>0</td>\n",
       "      <td>l packages. furiously careful instructions gro...</td>\n",
       "    </tr>\n",
       "    <tr>\n",
       "      <th>1</th>\n",
       "      <td>3000002</td>\n",
       "      <td>1481</td>\n",
       "      <td>O</td>\n",
       "      <td>297999.63</td>\n",
       "      <td>1995-07-28</td>\n",
       "      <td>1-URGENT</td>\n",
       "      <td>Clerk#000000547</td>\n",
       "      <td>0</td>\n",
       "      <td>carefully unusual dependencie</td>\n",
       "    </tr>\n",
       "    <tr>\n",
       "      <th>2</th>\n",
       "      <td>3000003</td>\n",
       "      <td>127432</td>\n",
       "      <td>O</td>\n",
       "      <td>345438.38</td>\n",
       "      <td>1997-11-04</td>\n",
       "      <td>5-LOW</td>\n",
       "      <td>Clerk#000000488</td>\n",
       "      <td>0</td>\n",
       "      <td>n packages boost slyly bold deposits. deposits...</td>\n",
       "    </tr>\n",
       "    <tr>\n",
       "      <th>3</th>\n",
       "      <td>3000004</td>\n",
       "      <td>47423</td>\n",
       "      <td>O</td>\n",
       "      <td>135965.53</td>\n",
       "      <td>1996-06-13</td>\n",
       "      <td>4-NOT SPECIFIED</td>\n",
       "      <td>Clerk#000000004</td>\n",
       "      <td>0</td>\n",
       "      <td>nts wake carefully final decoys. quickly final...</td>\n",
       "    </tr>\n",
       "    <tr>\n",
       "      <th>4</th>\n",
       "      <td>3000005</td>\n",
       "      <td>84973</td>\n",
       "      <td>F</td>\n",
       "      <td>209937.09</td>\n",
       "      <td>1992-09-12</td>\n",
       "      <td>5-LOW</td>\n",
       "      <td>Clerk#000000030</td>\n",
       "      <td>0</td>\n",
       "      <td>yly after the quickly unusual ide</td>\n",
       "    </tr>\n",
       "  </tbody>\n",
       "</table>\n",
       "</div>"
      ],
      "text/plain": [
       "   O_ORDERKEY  O_CUSTKEY O_ORDERSTATUS  O_TOTALPRICE O_ORDERDATE  \\\n",
       "0     3000001     145618             F      30175.88  1992-12-17   \n",
       "1     3000002       1481             O     297999.63  1995-07-28   \n",
       "2     3000003     127432             O     345438.38  1997-11-04   \n",
       "3     3000004      47423             O     135965.53  1996-06-13   \n",
       "4     3000005      84973             F     209937.09  1992-09-12   \n",
       "\n",
       "   O_ORDERPRIORITY          O_CLERK  O_SHIPPRIORITY  \\\n",
       "0  4-NOT SPECIFIED  Clerk#000000141               0   \n",
       "1         1-URGENT  Clerk#000000547               0   \n",
       "2            5-LOW  Clerk#000000488               0   \n",
       "3  4-NOT SPECIFIED  Clerk#000000004               0   \n",
       "4            5-LOW  Clerk#000000030               0   \n",
       "\n",
       "                                           O_COMMENT  \n",
       "0  l packages. furiously careful instructions gro...  \n",
       "1                      carefully unusual dependencie  \n",
       "2  n packages boost slyly bold deposits. deposits...  \n",
       "3  nts wake carefully final decoys. quickly final...  \n",
       "4                  yly after the quickly unusual ide  "
      ]
     },
     "execution_count": 21,
     "metadata": {},
     "output_type": "execute_result"
    }
   ],
   "source": [
    "# another way to fetch data is to use the to_pandas() method\n",
    "df = session.sql(query).to_pandas()\n",
    "df.head()"
   ]
  },
  {
   "cell_type": "code",
   "execution_count": 22,
   "id": "70156f59",
   "metadata": {},
   "outputs": [
    {
     "name": "stdout",
     "output_type": "stream",
     "text": [
      "-----------------------------------------------------------------------------------------------------------------------------------------------------------------------------------------------\n",
      "|\"O_ORDERKEY\"  |\"O_CUSTKEY\"  |\"O_ORDERSTATUS\"  |\"O_TOTALPRICE\"  |\"O_ORDERDATE\"  |\"O_ORDERPRIORITY\"  |\"O_CLERK\"        |\"O_SHIPPRIORITY\"  |\"O_COMMENT\"                                         |\n",
      "-----------------------------------------------------------------------------------------------------------------------------------------------------------------------------------------------\n",
      "|3000001       |145618       |F                |30175.88        |1992-12-17     |4-NOT SPECIFIED    |Clerk#000000141  |0                 |l packages. furiously careful instructions grow...  |\n",
      "|3000002       |1481         |O                |297999.63       |1995-07-28     |1-URGENT           |Clerk#000000547  |0                 |carefully unusual dependencie                       |\n",
      "|3000003       |127432       |O                |345438.38       |1997-11-04     |5-LOW              |Clerk#000000488  |0                 |n packages boost slyly bold deposits. deposits ...  |\n",
      "|3000004       |47423        |O                |135965.53       |1996-06-13     |4-NOT SPECIFIED    |Clerk#000000004  |0                 |nts wake carefully final decoys. quickly final ...  |\n",
      "|3000005       |84973        |F                |209937.09       |1992-09-12     |5-LOW              |Clerk#000000030  |0                 |yly after the quickly unusual ide                   |\n",
      "|3000006       |135136       |O                |140186.32       |1996-09-26     |1-URGENT           |Clerk#000000726  |0                 |ronic pinto beans use furiously final, slow notorn  |\n",
      "|3000007       |78841        |F                |298655.07       |1992-04-13     |5-LOW              |Clerk#000000871  |0                 |ses eat. deposits wake                              |\n",
      "|3000032       |124576       |F                |175973.90       |1992-03-02     |1-URGENT           |Clerk#000000460  |0                 |lar deposits mold carefully against the dep         |\n",
      "|3000033       |30247        |F                |4635.38         |1993-11-10     |1-URGENT           |Clerk#000000923  |0                 |mes special packages nag quickly.                   |\n",
      "|3000034       |5498         |F                |348308.79       |1992-04-21     |1-URGENT           |Clerk#000000418  |0                 |lly final packages are slyly beyond the request...  |\n",
      "-----------------------------------------------------------------------------------------------------------------------------------------------------------------------------------------------\n",
      "\n"
     ]
    }
   ],
   "source": [
    "# you can also use read.table()\n",
    "orders = session.read.table(\"ORDERS\")\n",
    "orders.show()"
   ]
  },
  {
   "cell_type": "code",
   "execution_count": 23,
   "id": "6860f17f",
   "metadata": {},
   "outputs": [
    {
     "data": {
      "text/html": [
       "<div>\n",
       "<style scoped>\n",
       "    .dataframe tbody tr th:only-of-type {\n",
       "        vertical-align: middle;\n",
       "    }\n",
       "\n",
       "    .dataframe tbody tr th {\n",
       "        vertical-align: top;\n",
       "    }\n",
       "\n",
       "    .dataframe thead th {\n",
       "        text-align: right;\n",
       "    }\n",
       "</style>\n",
       "<table border=\"1\" class=\"dataframe\">\n",
       "  <thead>\n",
       "    <tr style=\"text-align: right;\">\n",
       "      <th></th>\n",
       "      <th>O_ORDERKEY</th>\n",
       "      <th>O_CUSTKEY</th>\n",
       "      <th>O_ORDERSTATUS</th>\n",
       "      <th>O_TOTALPRICE</th>\n",
       "      <th>O_ORDERDATE</th>\n",
       "      <th>O_ORDERPRIORITY</th>\n",
       "      <th>O_CLERK</th>\n",
       "      <th>O_SHIPPRIORITY</th>\n",
       "      <th>O_COMMENT</th>\n",
       "    </tr>\n",
       "  </thead>\n",
       "  <tbody>\n",
       "    <tr>\n",
       "      <th>0</th>\n",
       "      <td>3000001</td>\n",
       "      <td>145618</td>\n",
       "      <td>F</td>\n",
       "      <td>30175.88</td>\n",
       "      <td>1992-12-17</td>\n",
       "      <td>4-NOT SPECIFIED</td>\n",
       "      <td>Clerk#000000141</td>\n",
       "      <td>0</td>\n",
       "      <td>l packages. furiously careful instructions gro...</td>\n",
       "    </tr>\n",
       "    <tr>\n",
       "      <th>1</th>\n",
       "      <td>3000002</td>\n",
       "      <td>1481</td>\n",
       "      <td>O</td>\n",
       "      <td>297999.63</td>\n",
       "      <td>1995-07-28</td>\n",
       "      <td>1-URGENT</td>\n",
       "      <td>Clerk#000000547</td>\n",
       "      <td>0</td>\n",
       "      <td>carefully unusual dependencie</td>\n",
       "    </tr>\n",
       "    <tr>\n",
       "      <th>2</th>\n",
       "      <td>3000003</td>\n",
       "      <td>127432</td>\n",
       "      <td>O</td>\n",
       "      <td>345438.38</td>\n",
       "      <td>1997-11-04</td>\n",
       "      <td>5-LOW</td>\n",
       "      <td>Clerk#000000488</td>\n",
       "      <td>0</td>\n",
       "      <td>n packages boost slyly bold deposits. deposits...</td>\n",
       "    </tr>\n",
       "    <tr>\n",
       "      <th>3</th>\n",
       "      <td>3000004</td>\n",
       "      <td>47423</td>\n",
       "      <td>O</td>\n",
       "      <td>135965.53</td>\n",
       "      <td>1996-06-13</td>\n",
       "      <td>4-NOT SPECIFIED</td>\n",
       "      <td>Clerk#000000004</td>\n",
       "      <td>0</td>\n",
       "      <td>nts wake carefully final decoys. quickly final...</td>\n",
       "    </tr>\n",
       "    <tr>\n",
       "      <th>4</th>\n",
       "      <td>3000005</td>\n",
       "      <td>84973</td>\n",
       "      <td>F</td>\n",
       "      <td>209937.09</td>\n",
       "      <td>1992-09-12</td>\n",
       "      <td>5-LOW</td>\n",
       "      <td>Clerk#000000030</td>\n",
       "      <td>0</td>\n",
       "      <td>yly after the quickly unusual ide</td>\n",
       "    </tr>\n",
       "  </tbody>\n",
       "</table>\n",
       "</div>"
      ],
      "text/plain": [
       "   O_ORDERKEY  O_CUSTKEY O_ORDERSTATUS  O_TOTALPRICE O_ORDERDATE  \\\n",
       "0     3000001     145618             F      30175.88  1992-12-17   \n",
       "1     3000002       1481             O     297999.63  1995-07-28   \n",
       "2     3000003     127432             O     345438.38  1997-11-04   \n",
       "3     3000004      47423             O     135965.53  1996-06-13   \n",
       "4     3000005      84973             F     209937.09  1992-09-12   \n",
       "\n",
       "   O_ORDERPRIORITY          O_CLERK  O_SHIPPRIORITY  \\\n",
       "0  4-NOT SPECIFIED  Clerk#000000141               0   \n",
       "1         1-URGENT  Clerk#000000547               0   \n",
       "2            5-LOW  Clerk#000000488               0   \n",
       "3  4-NOT SPECIFIED  Clerk#000000004               0   \n",
       "4            5-LOW  Clerk#000000030               0   \n",
       "\n",
       "                                           O_COMMENT  \n",
       "0  l packages. furiously careful instructions gro...  \n",
       "1                      carefully unusual dependencie  \n",
       "2  n packages boost slyly bold deposits. deposits...  \n",
       "3  nts wake carefully final decoys. quickly final...  \n",
       "4                  yly after the quickly unusual ide  "
      ]
     },
     "execution_count": 23,
     "metadata": {},
     "output_type": "execute_result"
    }
   ],
   "source": [
    "# you can also use read.table() with to_pandas()\n",
    "# you can limit the number of rows returned by using the limit() method\n",
    "orders = session.read.table(\"ORDERS\").limit(100).to_pandas()\n",
    "orders.head()"
   ]
  },
  {
   "cell_type": "code",
   "execution_count": 24,
   "id": "af35c90b",
   "metadata": {},
   "outputs": [
    {
     "name": "stdout",
     "output_type": "stream",
     "text": [
      "<class 'pandas.core.frame.DataFrame'>\n",
      "RangeIndex: 100 entries, 0 to 99\n",
      "Data columns (total 9 columns):\n",
      " #   Column           Non-Null Count  Dtype  \n",
      "---  ------           --------------  -----  \n",
      " 0   O_ORDERKEY       100 non-null    int32  \n",
      " 1   O_CUSTKEY        100 non-null    int32  \n",
      " 2   O_ORDERSTATUS    100 non-null    object \n",
      " 3   O_TOTALPRICE     100 non-null    float64\n",
      " 4   O_ORDERDATE      100 non-null    object \n",
      " 5   O_ORDERPRIORITY  100 non-null    object \n",
      " 6   O_CLERK          100 non-null    object \n",
      " 7   O_SHIPPRIORITY   100 non-null    int8   \n",
      " 8   O_COMMENT        100 non-null    object \n",
      "dtypes: float64(1), int32(2), int8(1), object(5)\n",
      "memory usage: 5.7+ KB\n"
     ]
    }
   ],
   "source": [
    "# you can also use read.table() without to_pandas()\n",
    "# this will return a Snowpark DataFrame \n",
    "# you can also limit the number of rows returned by using the limit() method\n",
    "orders = session.table(\"ORDERS\").limit(100).to_pandas()\n",
    "orders.info()"
   ]
  },
  {
   "cell_type": "markdown",
   "id": "deec9e62",
   "metadata": {},
   "source": [
    "# Lab 2: Writing to Snowflake\n",
    "## Using Snowflake Connector (write_panads)"
   ]
  },
  {
   "cell_type": "code",
   "execution_count": 25,
   "id": "4abdeb6b",
   "metadata": {},
   "outputs": [],
   "source": [
    "# !uv pip install yfinance"
   ]
  },
  {
   "cell_type": "code",
   "execution_count": 25,
   "id": "10513672",
   "metadata": {},
   "outputs": [
    {
     "data": {
      "text/html": [
       "<div>\n",
       "<style scoped>\n",
       "    .dataframe tbody tr th:only-of-type {\n",
       "        vertical-align: middle;\n",
       "    }\n",
       "\n",
       "    .dataframe tbody tr th {\n",
       "        vertical-align: top;\n",
       "    }\n",
       "\n",
       "    .dataframe thead th {\n",
       "        text-align: right;\n",
       "    }\n",
       "</style>\n",
       "<table border=\"1\" class=\"dataframe\">\n",
       "  <thead>\n",
       "    <tr style=\"text-align: right;\">\n",
       "      <th></th>\n",
       "      <th>Open</th>\n",
       "      <th>High</th>\n",
       "      <th>Low</th>\n",
       "      <th>Close</th>\n",
       "      <th>Volume</th>\n",
       "    </tr>\n",
       "    <tr>\n",
       "      <th>Date</th>\n",
       "      <th></th>\n",
       "      <th></th>\n",
       "      <th></th>\n",
       "      <th></th>\n",
       "      <th></th>\n",
       "    </tr>\n",
       "  </thead>\n",
       "  <tbody>\n",
       "    <tr>\n",
       "      <th>2020-01-02</th>\n",
       "      <td>71.627077</td>\n",
       "      <td>72.681274</td>\n",
       "      <td>71.373203</td>\n",
       "      <td>72.620827</td>\n",
       "      <td>135480400</td>\n",
       "    </tr>\n",
       "    <tr>\n",
       "      <th>2020-01-03</th>\n",
       "      <td>71.847148</td>\n",
       "      <td>72.676477</td>\n",
       "      <td>71.689988</td>\n",
       "      <td>71.914848</td>\n",
       "      <td>146322800</td>\n",
       "    </tr>\n",
       "    <tr>\n",
       "      <th>2020-01-06</th>\n",
       "      <td>71.034709</td>\n",
       "      <td>72.526533</td>\n",
       "      <td>70.783248</td>\n",
       "      <td>72.487846</td>\n",
       "      <td>118387200</td>\n",
       "    </tr>\n",
       "    <tr>\n",
       "      <th>2020-01-07</th>\n",
       "      <td>72.497514</td>\n",
       "      <td>72.753808</td>\n",
       "      <td>71.926900</td>\n",
       "      <td>72.146927</td>\n",
       "      <td>108872000</td>\n",
       "    </tr>\n",
       "    <tr>\n",
       "      <th>2020-01-08</th>\n",
       "      <td>71.849525</td>\n",
       "      <td>73.609737</td>\n",
       "      <td>71.849525</td>\n",
       "      <td>73.307503</td>\n",
       "      <td>132079200</td>\n",
       "    </tr>\n",
       "  </tbody>\n",
       "</table>\n",
       "</div>"
      ],
      "text/plain": [
       "                 Open       High        Low      Close     Volume\n",
       "Date                                                             \n",
       "2020-01-02  71.627077  72.681274  71.373203  72.620827  135480400\n",
       "2020-01-03  71.847148  72.676477  71.689988  71.914848  146322800\n",
       "2020-01-06  71.034709  72.526533  70.783248  72.487846  118387200\n",
       "2020-01-07  72.497514  72.753808  71.926900  72.146927  108872000\n",
       "2020-01-08  71.849525  73.609737  71.849525  73.307503  132079200"
      ]
     },
     "execution_count": 25,
     "metadata": {},
     "output_type": "execute_result"
    }
   ],
   "source": [
    "import yfinance as yf\n",
    "import pandas as pd\n",
    "\n",
    "def get_stock_data(ticker, start, end=None):\n",
    "    \"\"\"Fetch stock data and return cleaned DataFrame\"\"\"\n",
    "    stock_data = yf.Ticker(ticker)\n",
    "    hist = stock_data.history(start=start, end=end)\n",
    "\n",
    "    # Standardize date format and select key columns\n",
    "    hist.index = hist.index.tz_localize(None).normalize()\n",
    "    return hist[['Open', 'High', 'Low', 'Close', 'Volume']]\n",
    "\n",
    "# Example usage\n",
    "ticker = 'AAPL'\n",
    "start_date = '2020-01-01'\n",
    "end_date = '2023-01-01'\n",
    "apple_stock_data = get_stock_data(ticker, start_date, end_date)\n",
    "apple_stock_data.head()"
   ]
  },
  {
   "cell_type": "code",
   "execution_count": 26,
   "id": "9aadbe8e",
   "metadata": {},
   "outputs": [
    {
     "data": {
      "image/png": "[encoded data removed]",
      "text/plain": [
       "<Figure size 1000x600 with 5 Axes>"
      ]
     },
     "metadata": {},
     "output_type": "display_data"
    }
   ],
   "source": [
    "apple_stock_data.plot(subplots=True, figsize=(10, 6));"
   ]
  },
  {
   "cell_type": "code",
   "execution_count": 27,
   "id": "dad154a6",
   "metadata": {},
   "outputs": [],
   "source": [
    "import pandas as pd\n",
    "from snowflake.connector.pandas_tools import pd_writer\n",
    "from configparser import ConfigParser\n",
    "from snowflake.sqlalchemy import URL\n",
    "from sqlalchemy import create_engine\n",
    "\n",
    "\n",
    "config = ConfigParser()\n",
    "config.read('snow.cfg')\n",
    "config.sections()\n",
    "params = dict(config['WRITE'])"
   ]
  },
  {
   "cell_type": "code",
   "execution_count": 28,
   "id": "8b21c143",
   "metadata": {},
   "outputs": [
    {
     "data": {
      "text/plain": [
       "(756, 6)"
      ]
     },
     "execution_count": 28,
     "metadata": {},
     "output_type": "execute_result"
    }
   ],
   "source": [
    "apple_stock_data = apple_stock_data.reset_index()\n",
    "apple_stock_data.shape"
   ]
  },
  {
   "cell_type": "code",
   "execution_count": 29,
   "id": "613c2e9b",
   "metadata": {},
   "outputs": [],
   "source": [
    "from snowflake import connector\n",
    "from snowflake.connector.pandas_tools import pd_writer, write_pandas"
   ]
  },
  {
   "cell_type": "code",
   "execution_count": null,
   "id": "baecf845",
   "metadata": {},
   "outputs": [],
   "source": [
    "con = connector.connect(**params)\n",
    "cursor = con.cursor()\n",
    "\n",
    "# write_pandas you can specify the table type and whether to overwrite the table\n",
    "# the write_pandas method will return a tuple with success status, number of chunks, number of rows, and copy_into command\n",
    "success, nchunks, nrows, copy_into = write_pandas(\n",
    "                                            con, \n",
    "                                            apple_stock_data, \n",
    "                                            auto_create_table=True,\n",
    "                                            table_name='AAPL_STOCK_DATA', \n",
    "                                            table_type='transient',\n",
    "                                            overwrite=True)"
   ]
  },
  {
   "cell_type": "code",
   "execution_count": 31,
   "id": "357dc4a9",
   "metadata": {},
   "outputs": [
    {
     "name": "stdout",
     "output_type": "stream",
     "text": [
      "success:  True\n",
      "number of chunks:  1\n",
      "number of rows:  756\n",
      "COPY INTO output [('snowpark_temp_stage_eu1vyb625k/file0.txt', 'LOADED', 756, 756, 1, 0, None, None, None, None)]\n"
     ]
    }
   ],
   "source": [
    "print('success: ', success)\n",
    "print('number of chunks: ', nchunks)\n",
    "print('number of rows: ', nrows)\n",
    "print('COPY INTO output', copy_into)"
   ]
  },
  {
   "cell_type": "code",
   "execution_count": 33,
   "id": "f6efb78b",
   "metadata": {},
   "outputs": [
    {
     "data": {
      "text/plain": [
       "756"
      ]
     },
     "execution_count": 33,
     "metadata": {},
     "output_type": "execute_result"
    }
   ],
   "source": [
    "# let's check if the data is written to Snowflake\n",
    "query = \"SELECT count(*) FROM AAPL_STOCK_DATA;\"\n",
    "count = cursor.execute(query).fetchone()[0]\n",
    "count"
   ]
  },
  {
   "cell_type": "code",
   "execution_count": 34,
   "id": "995170c0",
   "metadata": {},
   "outputs": [
    {
     "data": {
      "text/plain": [
       "[ResultMetadata(name='Date', type_code=0, display_size=None, internal_size=None, precision=38, scale=0, is_nullable=True),\n",
       " ResultMetadata(name='Open', type_code=1, display_size=None, internal_size=None, precision=None, scale=None, is_nullable=True),\n",
       " ResultMetadata(name='High', type_code=1, display_size=None, internal_size=None, precision=None, scale=None, is_nullable=True),\n",
       " ResultMetadata(name='Low', type_code=1, display_size=None, internal_size=None, precision=None, scale=None, is_nullable=True),\n",
       " ResultMetadata(name='Close', type_code=1, display_size=None, internal_size=None, precision=None, scale=None, is_nullable=True),\n",
       " ResultMetadata(name='Volume', type_code=0, display_size=None, internal_size=None, precision=38, scale=0, is_nullable=True)]"
      ]
     },
     "execution_count": 34,
     "metadata": {},
     "output_type": "execute_result"
    }
   ],
   "source": [
    "cursor.describe('SELECT * FROM AAPL_STOCK_DATA LIMIT 10;')"
   ]
  },
  {
   "cell_type": "markdown",
   "id": "4f009f8d",
   "metadata": {},
   "source": [
    "## Using SQL Alchemy"
   ]
  },
  {
   "cell_type": "code",
   "execution_count": 35,
   "id": "482d0a32",
   "metadata": {},
   "outputs": [],
   "source": [
    "import pandas as pd\n",
    "from snowflake.connector.pandas_tools import pd_writer\n",
    "from snowflake.sqlalchemy import URL\n",
    "from sqlalchemy import create_engine\n",
    "\n",
    "config = ConfigParser()\n",
    "config.read('snow.cfg')\n",
    "config.sections()\n",
    "params = dict(config['WRITE'])\n"
   ]
  },
  {
   "cell_type": "code",
   "execution_count": 36,
   "id": "b8575753",
   "metadata": {},
   "outputs": [],
   "source": [
    "url = URL(**params)\n",
    "engine = create_engine(url)"
   ]
  },
  {
   "cell_type": "code",
   "execution_count": 37,
   "id": "68e31c42",
   "metadata": {},
   "outputs": [
    {
     "data": {
      "text/html": [
       "<div>\n",
       "<style scoped>\n",
       "    .dataframe tbody tr th:only-of-type {\n",
       "        vertical-align: middle;\n",
       "    }\n",
       "\n",
       "    .dataframe tbody tr th {\n",
       "        vertical-align: top;\n",
       "    }\n",
       "\n",
       "    .dataframe thead th {\n",
       "        text-align: right;\n",
       "    }\n",
       "</style>\n",
       "<table border=\"1\" class=\"dataframe\">\n",
       "  <thead>\n",
       "    <tr style=\"text-align: right;\">\n",
       "      <th></th>\n",
       "      <th>Open</th>\n",
       "      <th>High</th>\n",
       "      <th>Low</th>\n",
       "      <th>Close</th>\n",
       "      <th>Volume</th>\n",
       "    </tr>\n",
       "    <tr>\n",
       "      <th>Date</th>\n",
       "      <th></th>\n",
       "      <th></th>\n",
       "      <th></th>\n",
       "      <th></th>\n",
       "      <th></th>\n",
       "    </tr>\n",
       "  </thead>\n",
       "  <tbody>\n",
       "    <tr>\n",
       "      <th>2020-01-02</th>\n",
       "      <td>93.750000</td>\n",
       "      <td>94.900497</td>\n",
       "      <td>93.207497</td>\n",
       "      <td>94.900497</td>\n",
       "      <td>80580000</td>\n",
       "    </tr>\n",
       "    <tr>\n",
       "      <th>2020-01-03</th>\n",
       "      <td>93.224998</td>\n",
       "      <td>94.309998</td>\n",
       "      <td>93.224998</td>\n",
       "      <td>93.748497</td>\n",
       "      <td>75288000</td>\n",
       "    </tr>\n",
       "    <tr>\n",
       "      <th>2020-01-06</th>\n",
       "      <td>93.000000</td>\n",
       "      <td>95.184502</td>\n",
       "      <td>93.000000</td>\n",
       "      <td>95.143997</td>\n",
       "      <td>81236000</td>\n",
       "    </tr>\n",
       "    <tr>\n",
       "      <th>2020-01-07</th>\n",
       "      <td>95.224998</td>\n",
       "      <td>95.694504</td>\n",
       "      <td>94.601997</td>\n",
       "      <td>95.343002</td>\n",
       "      <td>80898000</td>\n",
       "    </tr>\n",
       "    <tr>\n",
       "      <th>2020-01-08</th>\n",
       "      <td>94.902000</td>\n",
       "      <td>95.550003</td>\n",
       "      <td>94.321999</td>\n",
       "      <td>94.598503</td>\n",
       "      <td>70160000</td>\n",
       "    </tr>\n",
       "  </tbody>\n",
       "</table>\n",
       "</div>"
      ],
      "text/plain": [
       "                 Open       High        Low      Close    Volume\n",
       "Date                                                            \n",
       "2020-01-02  93.750000  94.900497  93.207497  94.900497  80580000\n",
       "2020-01-03  93.224998  94.309998  93.224998  93.748497  75288000\n",
       "2020-01-06  93.000000  95.184502  93.000000  95.143997  81236000\n",
       "2020-01-07  95.224998  95.694504  94.601997  95.343002  80898000\n",
       "2020-01-08  94.902000  95.550003  94.321999  94.598503  70160000"
      ]
     },
     "execution_count": 37,
     "metadata": {},
     "output_type": "execute_result"
    }
   ],
   "source": [
    "# let's pull amazon stock data using our get_stock_data function\n",
    "# Example usage\n",
    "ticker = 'AMZN'\n",
    "start_date = '2020-01-01'\n",
    "end_date = '2023-01-01'\n",
    "amazon_stock_data = get_stock_data(ticker, start_date, end_date)\n",
    "amazon_stock_data.head()"
   ]
  },
  {
   "cell_type": "code",
   "execution_count": 38,
   "id": "4f7177f2",
   "metadata": {},
   "outputs": [
    {
     "data": {
      "image/png": "[encoded data removed]",
      "text/plain": [
       "<Figure size 1000x600 with 5 Axes>"
      ]
     },
     "metadata": {},
     "output_type": "display_data"
    }
   ],
   "source": [
    "amazon_stock_data.plot(subplots=True, figsize=(10, 6));"
   ]
  },
  {
   "cell_type": "code",
   "execution_count": 39,
   "id": "b4fb94ae",
   "metadata": {},
   "outputs": [
    {
     "data": {
      "text/plain": [
       "(756, 6)"
      ]
     },
     "execution_count": 39,
     "metadata": {},
     "output_type": "execute_result"
    }
   ],
   "source": [
    "amazon_stock_data = amazon_stock_data.reset_index()\n",
    "amazon_stock_data.shape"
   ]
  },
  {
   "cell_type": "code",
   "execution_count": 40,
   "id": "e8c6bbbd",
   "metadata": {},
   "outputs": [
    {
     "data": {
      "text/plain": [
       "756"
      ]
     },
     "execution_count": 40,
     "metadata": {},
     "output_type": "execute_result"
    }
   ],
   "source": [
    "amazon_stock_data.to_sql('amzn_stock_data_alchemy',\n",
    "                         con=engine,\n",
    "                         if_exists='replace',\n",
    "                         index=False)"
   ]
  },
  {
   "cell_type": "code",
   "execution_count": 41,
   "id": "53150249",
   "metadata": {},
   "outputs": [
    {
     "name": "stdout",
     "output_type": "stream",
     "text": [
      "<class 'pandas.core.frame.DataFrame'>\n",
      "RangeIndex: 756 entries, 0 to 755\n",
      "Data columns (total 6 columns):\n",
      " #   Column  Non-Null Count  Dtype         \n",
      "---  ------  --------------  -----         \n",
      " 0   Date    756 non-null    datetime64[ns]\n",
      " 1   Open    756 non-null    float64       \n",
      " 2   High    756 non-null    float64       \n",
      " 3   Low     756 non-null    float64       \n",
      " 4   Close   756 non-null    float64       \n",
      " 5   Volume  756 non-null    float64       \n",
      "dtypes: datetime64[ns](1), float64(5)\n",
      "memory usage: 35.6 KB\n"
     ]
    }
   ],
   "source": [
    "pd.read_sql_table('amzn_stock_data_alchemy', \n",
    "                  engine).info()"
   ]
  },
  {
   "cell_type": "markdown",
   "id": "e611cc43",
   "metadata": {},
   "source": [
    "## Using Snowpark"
   ]
  },
  {
   "cell_type": "code",
   "execution_count": 42,
   "id": "ee02455e",
   "metadata": {},
   "outputs": [],
   "source": [
    "from snowflake.snowpark import Session\n",
    "import pandas as pd\n",
    "\n",
    "config = ConfigParser()\n",
    "config.read('snow.cfg')\n",
    "config.sections()\n",
    "params = dict(config['WRITE'])"
   ]
  },
  {
   "cell_type": "code",
   "execution_count": 43,
   "id": "b0eebe1d",
   "metadata": {},
   "outputs": [],
   "source": [
    "session = Session.builder.configs(params).create()"
   ]
  },
  {
   "cell_type": "code",
   "execution_count": 44,
   "id": "cf123516",
   "metadata": {},
   "outputs": [
    {
     "data": {
      "text/html": [
       "<div>\n",
       "<style scoped>\n",
       "    .dataframe tbody tr th:only-of-type {\n",
       "        vertical-align: middle;\n",
       "    }\n",
       "\n",
       "    .dataframe tbody tr th {\n",
       "        vertical-align: top;\n",
       "    }\n",
       "\n",
       "    .dataframe thead th {\n",
       "        text-align: right;\n",
       "    }\n",
       "</style>\n",
       "<table border=\"1\" class=\"dataframe\">\n",
       "  <thead>\n",
       "    <tr style=\"text-align: right;\">\n",
       "      <th></th>\n",
       "      <th>Open</th>\n",
       "      <th>High</th>\n",
       "      <th>Low</th>\n",
       "      <th>Close</th>\n",
       "      <th>Volume</th>\n",
       "    </tr>\n",
       "    <tr>\n",
       "      <th>Date</th>\n",
       "      <th></th>\n",
       "      <th></th>\n",
       "      <th></th>\n",
       "      <th></th>\n",
       "      <th></th>\n",
       "    </tr>\n",
       "  </thead>\n",
       "  <tbody>\n",
       "    <tr>\n",
       "      <th>2020-01-02</th>\n",
       "      <td>5.942872</td>\n",
       "      <td>5.971746</td>\n",
       "      <td>5.892343</td>\n",
       "      <td>5.971746</td>\n",
       "      <td>237536000</td>\n",
       "    </tr>\n",
       "    <tr>\n",
       "      <th>2020-01-03</th>\n",
       "      <td>5.852018</td>\n",
       "      <td>5.919972</td>\n",
       "      <td>5.827126</td>\n",
       "      <td>5.876163</td>\n",
       "      <td>205384000</td>\n",
       "    </tr>\n",
       "    <tr>\n",
       "      <th>2020-01-06</th>\n",
       "      <td>5.782819</td>\n",
       "      <td>5.906032</td>\n",
       "      <td>5.756683</td>\n",
       "      <td>5.900805</td>\n",
       "      <td>262636000</td>\n",
       "    </tr>\n",
       "    <tr>\n",
       "      <th>2020-01-07</th>\n",
       "      <td>5.929182</td>\n",
       "      <td>6.018045</td>\n",
       "      <td>5.884128</td>\n",
       "      <td>5.972245</td>\n",
       "      <td>314856000</td>\n",
       "    </tr>\n",
       "    <tr>\n",
       "      <th>2020-01-08</th>\n",
       "      <td>5.968014</td>\n",
       "      <td>6.024767</td>\n",
       "      <td>5.927938</td>\n",
       "      <td>5.983447</td>\n",
       "      <td>277108000</td>\n",
       "    </tr>\n",
       "  </tbody>\n",
       "</table>\n",
       "</div>"
      ],
      "text/plain": [
       "                Open      High       Low     Close     Volume\n",
       "Date                                                         \n",
       "2020-01-02  5.942872  5.971746  5.892343  5.971746  237536000\n",
       "2020-01-03  5.852018  5.919972  5.827126  5.876163  205384000\n",
       "2020-01-06  5.782819  5.906032  5.756683  5.900805  262636000\n",
       "2020-01-07  5.929182  6.018045  5.884128  5.972245  314856000\n",
       "2020-01-08  5.968014  6.024767  5.927938  5.983447  277108000"
      ]
     },
     "execution_count": 44,
     "metadata": {},
     "output_type": "execute_result"
    }
   ],
   "source": [
    "# let's use our get_stock_data function to fetch Nvidia stock data\n",
    "ticker = 'NVDA'\n",
    "start_date = '2020-01-01'\n",
    "end_date = '2023-01-01'\n",
    "nvidia_stock_data = get_stock_data(ticker, start_date, end_date)\n",
    "nvidia_stock_data.head()"
   ]
  },
  {
   "cell_type": "code",
   "execution_count": 45,
   "id": "f6e85b15",
   "metadata": {},
   "outputs": [
    {
     "data": {
      "image/png": "[encoded data removed]",
      "text/plain": [
       "<Figure size 1000x600 with 5 Axes>"
      ]
     },
     "metadata": {},
     "output_type": "display_data"
    }
   ],
   "source": [
    "nvidia_stock_data.plot(subplots=True, figsize=(10, 6));"
   ]
  },
  {
   "cell_type": "code",
   "execution_count": 46,
   "id": "a252e838",
   "metadata": {},
   "outputs": [
    {
     "data": {
      "text/plain": [
       "<snowflake.snowpark.table.Table at 0x2a97256fce0>"
      ]
     },
     "execution_count": 46,
     "metadata": {},
     "output_type": "execute_result"
    }
   ],
   "source": [
    "nvidia_stock_data = nvidia_stock_data.reset_index()\n",
    "nvidia_snowpark_df = session.create_dataframe(nvidia_stock_data)\n",
    "# we are converting the pandas DataFrame to a Snowpark DataFrame\n",
    "nvidia_snowpark_df"
   ]
  },
  {
   "cell_type": "code",
   "execution_count": 47,
   "id": "3dadd27b",
   "metadata": {},
   "outputs": [],
   "source": [
    "# create a new temporary table in Snowflake\n",
    "# updated to make it temporary table type\n",
    "nvidia_snowpark_df.write.mode('overwrite').save_as_table('NVDA_STOCK_DATA', table_type='temporary')"
   ]
  },
  {
   "cell_type": "code",
   "execution_count": 48,
   "id": "8fbfbc58",
   "metadata": {},
   "outputs": [
    {
     "data": {
      "text/html": [
       "<div>\n",
       "<style scoped>\n",
       "    .dataframe tbody tr th:only-of-type {\n",
       "        vertical-align: middle;\n",
       "    }\n",
       "\n",
       "    .dataframe tbody tr th {\n",
       "        vertical-align: top;\n",
       "    }\n",
       "\n",
       "    .dataframe thead th {\n",
       "        text-align: right;\n",
       "    }\n",
       "</style>\n",
       "<table border=\"1\" class=\"dataframe\">\n",
       "  <thead>\n",
       "    <tr style=\"text-align: right;\">\n",
       "      <th></th>\n",
       "      <th>Date</th>\n",
       "      <th>Open</th>\n",
       "      <th>High</th>\n",
       "      <th>Low</th>\n",
       "      <th>Close</th>\n",
       "      <th>Volume</th>\n",
       "    </tr>\n",
       "  </thead>\n",
       "  <tbody>\n",
       "    <tr>\n",
       "      <th>0</th>\n",
       "      <td>2020-01-02</td>\n",
       "      <td>5.942872</td>\n",
       "      <td>5.971746</td>\n",
       "      <td>5.892343</td>\n",
       "      <td>5.971746</td>\n",
       "      <td>237536000</td>\n",
       "    </tr>\n",
       "    <tr>\n",
       "      <th>1</th>\n",
       "      <td>2020-01-03</td>\n",
       "      <td>5.852018</td>\n",
       "      <td>5.919972</td>\n",
       "      <td>5.827126</td>\n",
       "      <td>5.876163</td>\n",
       "      <td>205384000</td>\n",
       "    </tr>\n",
       "    <tr>\n",
       "      <th>2</th>\n",
       "      <td>2020-01-06</td>\n",
       "      <td>5.782819</td>\n",
       "      <td>5.906032</td>\n",
       "      <td>5.756683</td>\n",
       "      <td>5.900805</td>\n",
       "      <td>262636000</td>\n",
       "    </tr>\n",
       "    <tr>\n",
       "      <th>3</th>\n",
       "      <td>2020-01-07</td>\n",
       "      <td>5.929182</td>\n",
       "      <td>6.018045</td>\n",
       "      <td>5.884128</td>\n",
       "      <td>5.972245</td>\n",
       "      <td>314856000</td>\n",
       "    </tr>\n",
       "    <tr>\n",
       "      <th>4</th>\n",
       "      <td>2020-01-08</td>\n",
       "      <td>5.968014</td>\n",
       "      <td>6.024767</td>\n",
       "      <td>5.927938</td>\n",
       "      <td>5.983447</td>\n",
       "      <td>277108000</td>\n",
       "    </tr>\n",
       "  </tbody>\n",
       "</table>\n",
       "</div>"
      ],
      "text/plain": [
       "        Date      Open      High       Low     Close     Volume\n",
       "0 2020-01-02  5.942872  5.971746  5.892343  5.971746  237536000\n",
       "1 2020-01-03  5.852018  5.919972  5.827126  5.876163  205384000\n",
       "2 2020-01-06  5.782819  5.906032  5.756683  5.900805  262636000\n",
       "3 2020-01-07  5.929182  6.018045  5.884128  5.972245  314856000\n",
       "4 2020-01-08  5.968014  6.024767  5.927938  5.983447  277108000"
      ]
     },
     "execution_count": 48,
     "metadata": {},
     "output_type": "execute_result"
    }
   ],
   "source": [
    "# let's read the data back from Snowflake\n",
    "nvidia_read_snowpark_df = session.table('NVDA_STOCK_DATA')\n",
    "nvidia_pandas = nvidia_read_snowpark_df.to_pandas()\n",
    "nvidia_pandas.head()"
   ]
  },
  {
   "cell_type": "code",
   "execution_count": 49,
   "id": "b4f9f6d7",
   "metadata": {},
   "outputs": [],
   "source": [
    "# Snowparl also offers us a write_pandas method similar to the Snowflake connector\n",
    "# this way we can write the pandas DataFrame directly to Snowflake\n",
    "# we can specify the table type and whether to overwrite the table\n",
    "snowpark_df = session.write_pandas(nvidia_stock_data,\n",
    "                                    table_name='NVDA_STOCK_DATA_SP',\n",
    "                                    auto_create_table=True,\n",
    "                                    table_type='temporary',\n",
    "                                    overwrite=True)"
   ]
  },
  {
   "cell_type": "code",
   "execution_count": 50,
   "id": "b3a673cc",
   "metadata": {},
   "outputs": [
    {
     "data": {
      "text/plain": [
       "<snowflake.snowpark.table.Table at 0x2a9730e53a0>"
      ]
     },
     "execution_count": 50,
     "metadata": {},
     "output_type": "execute_result"
    }
   ],
   "source": [
    "# the returned object is a Snowpark DataFrame\n",
    "snowpark_df"
   ]
  },
  {
   "cell_type": "code",
   "execution_count": null,
   "id": "6b163250",
   "metadata": {},
   "outputs": [],
   "source": []
  }
 ],
 "metadata": {
  "kernelspec": {
   "display_name": "TechCatalyst_DE_2025_TWO",
   "language": "python",
   "name": "python3"
  },
  "language_info": {
   "codemirror_mode": {
    "name": "ipython",
    "version": 3
   },
   "file_extension": ".py",
   "mimetype": "text/x-python",
   "name": "python",
   "nbconvert_exporter": "python",
   "pygments_lexer": "ipython3",
   "version": "3.12.10"
  }
 },
 "nbformat": 4,
 "nbformat_minor": 5
}
