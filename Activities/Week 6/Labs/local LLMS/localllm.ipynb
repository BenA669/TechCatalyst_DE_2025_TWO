{
 "cells": [
  {
   "cell_type": "code",
   "execution_count": 12,
   "id": "02dbbed4",
   "metadata": {},
   "outputs": [],
   "source": [
    "!\"C:\\Users\\Benja\\Documents\\Projects\\techcat\\pathdb.ps1\""
   ]
  },
  {
   "cell_type": "code",
   "execution_count": 18,
   "id": "4cbdd21e",
   "metadata": {},
   "outputs": [],
   "source": [
    "!\"./pathdb.ps1\""
   ]
  },
  {
   "cell_type": "code",
   "execution_count": 19,
   "id": "0409c83a",
   "metadata": {},
   "outputs": [
    {
     "name": "stderr",
     "output_type": "stream",
     "text": [
      "'ollama' is not recognized as an internal or external command,\n",
      "operable program or batch file.\n"
     ]
    }
   ],
   "source": [
    "!ollama"
   ]
  },
  {
   "cell_type": "code",
   "execution_count": 20,
   "id": "b947951a",
   "metadata": {},
   "outputs": [
    {
     "name": "stdout",
     "output_type": "stream",
     "text": [
      " BIG CHUNGUS :  \n",
      " BIG CHONGOO:  \n"
     ]
    }
   ],
   "source": [
    "import subprocess\n",
    "\n",
    "script_path = \"./pathdb.ps1\"\n",
    "\n",
    "result = subprocess.run([\"powershell.exe\", \"-File\", script_path], capture_output=True, text=True)\n",
    "\n",
    "print(\" BIG CHUNGUS : \", result.stdout)\n",
    "print(\" BIG CHONGOO: \", result.stderr)"
   ]
  },
  {
   "cell_type": "code",
   "execution_count": 21,
   "id": "29fdcc9c",
   "metadata": {},
   "outputs": [
    {
     "name": "stderr",
     "output_type": "stream",
     "text": [
      "'ollama' is not recognized as an internal or external command,\n",
      "operable program or batch file.\n"
     ]
    }
   ],
   "source": [
    "!ollama"
   ]
  },
  {
   "cell_type": "code",
   "execution_count": null,
   "id": "96e99742",
   "metadata": {},
   "outputs": [
    {
     "name": "stdout",
     "output_type": "stream",
     "text": [
      "Welcome to the Email Writing Assistant!\n",
      "\n",
      "Email:\n",
      "Subject: ur mom\n",
      "\n",
      "Dear Mom,\n",
      "\n",
      "Bruh, I hope this email finds you well. Bruh, I just wanted to take a moment to express my appreciation for everything you've done for me over the years. Bruh, your unwavering support and guidance have been a constant source of comfort and strength in my life.\n",
      "\n",
      "Bruh, I know that being a mom can be challenging at times, but you've always managed to balance your own needs with those of our family. Bruh, your selflessness and devotion to our well-being are traits that I admire and aspire to emulate.\n",
      "\n",
      "Bruh, I'm grateful for the sacrifices you've made for me and for our family, and I want you to know that I appreciate all the little things you do for us every day. From cooking meals to driving us to our destinations, you're always there for us.\n",
      "\n",
      "Bruh, as I grow older, I realize more and more how lucky I am to have a mom like you in my life. Bruh, your love and support mean the world to me, and I promise to make you proud whenever I can.\n",
      "\n",
      "Thank you for being such an amazing mom, Mom.\n",
      "\n",
      "Love,\n",
      "[Your Name]\n"
     ]
    }
   ],
   "source": [
    "from ollama import chat\n",
    "import json\n",
    "model = 'llama3.2'\n",
    "\n",
    "# Function to generate an email\n",
    "def generate_email(subject, recipient_name, additional_info):\n",
    "    # Step 1: Create the prompt to guide the AI in generating the email\n",
    "    prompt = f\"Write a professional email to {recipient_name} with the subject '{subject}'. Include the following information: {additional_info}\"\n",
    "    \n",
    "    # Step 2: Call the OpenAI API to generate the email\n",
    "    # Hint: Use the 'chat' endpoint to create a completion based on the prompt\n",
    "    response = chat(\n",
    "        model= model, \n",
    "        messages=[\n",
    "            {\"role\": \"system\", \"content\": \"replace every sentence with bruh.\"},\n",
    "            {\"role\": \"user\", \"content\": prompt},\n",
    "        ],\n",
    "    )\n",
    "    \n",
    "    # Step 3: Extract and return the generated email content from the API response\n",
    "    return response.get('message').get('content')\n",
    "\n",
    "# Function to start the email writing assistant\n",
    "def email_writing_assistant():\n",
    "    print(\"Welcome to the Email Writing Assistant!\\n\")\n",
    "    \n",
    "    # Step 4: Gather user input for the email subject, recipient name, and additional information\n",
    "    subject = input(\"Input subject\") \n",
    "    recipient_name = input(\"Input Recipient \")\n",
    "    additional_info = input(\"Input additional info\")\n",
    "    \n",
    "    # Step 5: Call the 'generate_email' function and display the generated email\n",
    "    email = generate_email(subject, recipient_name, additional_info)\n",
    "    print(f\"Email:\\n{email}\")\n",
    "\n",
    "# Start the email writing assistant\n",
    "email_writing_assistant()"
   ]
  }
 ],
 "metadata": {
  "kernelspec": {
   "display_name": "TechCatalyst_DE_2025_TWO",
   "language": "python",
   "name": "python3"
  },
  "language_info": {
   "codemirror_mode": {
    "name": "ipython",
    "version": 3
   },
   "file_extension": ".py",
   "mimetype": "text/x-python",
   "name": "python",
   "nbconvert_exporter": "python",
   "pygments_lexer": "ipython3",
   "version": "3.12.10"
  }
 },
 "nbformat": 4,
 "nbformat_minor": 5
}
