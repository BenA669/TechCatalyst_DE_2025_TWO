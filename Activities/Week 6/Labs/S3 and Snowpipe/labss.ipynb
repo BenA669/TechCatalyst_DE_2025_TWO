{
 "cells": [
  {
   "cell_type": "code",
   "execution_count": 5,
   "id": "7992bfac",
   "metadata": {},
   "outputs": [
    {
     "data": {
      "text/plain": [
       "True"
      ]
     },
     "execution_count": 5,
     "metadata": {},
     "output_type": "execute_result"
    }
   ],
   "source": [
    "import boto3\n",
    "import os\n",
    "s3_client = boto3.client('s3')\n",
    "\n",
    "from dotenv import load_dotenv\n",
    "load_dotenv()"
   ]
  },
  {
   "cell_type": "code",
   "execution_count": 13,
   "id": "f877163e",
   "metadata": {},
   "outputs": [
    {
     "name": "stdout",
     "output_type": "stream",
     "text": [
      "capstone-techcatalyst-conformed\n",
      "capstone-techcatalyst-raw\n",
      "capstone-techcatalyst-transformed\n",
      "techcatalyst-public\n",
      "techcatalyst-raw\n",
      "techcatalyst-transformed\n"
     ]
    }
   ],
   "source": [
    "# list bucket names \n",
    "buckets = s3_client.list_buckets()\n",
    "for bucket in buckets['Buckets']:\n",
    "    if 'techcatalyst' in bucket['Name']:\n",
    "        print(bucket['Name'])"
   ]
  },
  {
   "cell_type": "code",
   "execution_count": 14,
   "id": "d4c5449e",
   "metadata": {},
   "outputs": [
    {
     "name": "stdout",
     "output_type": "stream",
     "text": [
      "BLAKE/test_export.parquet\n",
      "BLAKE/upload_file_method_GOOG.csv\n",
      "BLAKE/upload_fileobj_method.txt\n",
      "BLAKE_wr/9288e6c1eed4476d98eade7875cbf9c0.snappy.parquet\n",
      "BLAKE_wr/uploads/wr_newfile.csv\n",
      "Ben/Million_Songs/\n",
      "Ben/bingchilling.txt\n",
      "Ben/gooooog.csv\n",
      "Ben/parquetGoogleStock/da5315ad16f94e5488251de78076a594_000000_000000.snappy.parquet\n",
      "Ben/parquetGoogleStock/da5315ad16f94e5488251de78076a594_000001_000000.snappy.parquet\n",
      "Ben/parquetGoogleStock/da5315ad16f94e5488251de78076a594_000002_000000.snappy.parquet\n",
      "Ben/parquetGoogleStock/da5315ad16f94e5488251de78076a594_000003_000000.snappy.parquet\n",
      "Ben/parquetGoogleStock/da5315ad16f94e5488251de78076a594_000004_000000.snappy.parquet\n",
      "Ben/parquetGoogleStock/da5315ad16f94e5488251de78076a594_000005_000000.snappy.parquet\n",
      "Ben/parquetGoogleStock/da5315ad16f94e5488251de78076a594_000006_000000.snappy.parquet\n",
      "Ben/parquetGoogleStock/da5315ad16f94e5488251de78076a594_000007_000000.snappy.parquet\n",
      "Ben/parquetGoogleStock/da5315ad16f94e5488251de78076a594_000008_000000.snappy.parquet\n",
      "Ben/parquetGoogleStock/da5315ad16f94e5488251de78076a594_000009_000000.snappy.parquet\n",
      "Ben/parquetGoogleStock/da5315ad16f94e5488251de78076a594_000010_000000.snappy.parquet\n",
      "Ben/parquetGoogleStock/da5315ad16f94e5488251de78076a594_000011_000000.snappy.parquet\n",
      "Ben/parquetGoogleStock/da5315ad16f94e5488251de78076a594_000012_000000.snappy.parquet\n",
      "Ben/parquetGoogleStock/da5315ad16f94e5488251de78076a594_000013_000000.snappy.parquet\n",
      "Ben/parquetGoogleStock/da5315ad16f94e5488251de78076a594_000014_000000.snappy.parquet\n",
      "Ben/parquetGoogleStock/da5315ad16f94e5488251de78076a594_000015_000000.snappy.parquet\n",
      "Ben/parquetGoogleStock/da5315ad16f94e5488251de78076a594_000016_000000.snappy.parquet\n",
      "Ben/parquetGoogleStock/da5315ad16f94e5488251de78076a594_000017_000000.snappy.parquet\n",
      "Ben/parquetGoogleStock/da5315ad16f94e5488251de78076a594_000018_000000.snappy.parquet\n",
      "Ben/parquetGoogleStock/da5315ad16f94e5488251de78076a594_000019_000000.snappy.parquet\n",
      "Ben/parquetGoogleStock/da5315ad16f94e5488251de78076a594_000020_000000.snappy.parquet\n",
      "Ben/parquetGoogleStock/da5315ad16f94e5488251de78076a594_000021_000000.snappy.parquet\n",
      "Ben/parquetGoogleStock/da5315ad16f94e5488251de78076a594_000022_000000.snappy.parquet\n",
      "Ben/parquetGoogleStock/da5315ad16f94e5488251de78076a594_000023_000000.snappy.parquet\n",
      "Ben/parquetGoogleStock/da5315ad16f94e5488251de78076a594_000024_000000.snappy.parquet\n",
      "Ben/parquetGoogleStock/da5315ad16f94e5488251de78076a594_000025_000000.snappy.parquet\n",
      "Ben/parquetGoogleStock/da5315ad16f94e5488251de78076a594_000026_000000.snappy.parquet\n",
      "Ben/parquetGoogleStock/da5315ad16f94e5488251de78076a594_000027_000000.snappy.parquet\n",
      "Ben/parquetGoogleStock/da5315ad16f94e5488251de78076a594_000028_000000.snappy.parquet\n",
      "Ben/parquetGoogleStock/da5315ad16f94e5488251de78076a594_000029_000000.snappy.parquet\n",
      "Ben/parquetGoogleStock/da5315ad16f94e5488251de78076a594_000030_000000.snappy.parquet\n",
      "Ben/parquetGoogleStock/da5315ad16f94e5488251de78076a594_000031_000000.snappy.parquet\n",
      "Ben/uploads/Google_upload_test\n",
      "EMMA/emna_goog.csv\n",
      "EMMA/emna_goog.txt\n",
      "EMMA/test_export.parquet\n",
      "MELISSA/test_export.parquet\n",
      "MillionSongSubset/\n",
      "MillionSongSubset/log-data/2018-11-01-events.json\n",
      "MillionSongSubset/log-data/2018-11-02-events.json\n",
      "MillionSongSubset/log-data/2018-11-03-events.json\n",
      "MillionSongSubset/log-data/2018-11-04-events.json\n",
      "MillionSongSubset/log-data/2018-11-05-events.json\n",
      "MillionSongSubset/log-data/2018-11-06-events.json\n",
      "MillionSongSubset/log-data/2018-11-07-events.json\n",
      "MillionSongSubset/log-data/2018-11-08-events.json\n",
      "MillionSongSubset/log-data/2018-11-09-events.json\n",
      "MillionSongSubset/log-data/2018-11-10-events.json\n",
      "MillionSongSubset/log-data/2018-11-11-events.json\n",
      "MillionSongSubset/log-data/2018-11-12-events.json\n",
      "MillionSongSubset/log-data/2018-11-13-events.json\n",
      "MillionSongSubset/log-data/2018-11-14-events.json\n",
      "MillionSongSubset/log-data/2018-11-15-events.json\n",
      "MillionSongSubset/log-data/2018-11-16-events.json\n",
      "MillionSongSubset/log-data/2018-11-17-events.json\n",
      "MillionSongSubset/log-data/2018-11-18-events.json\n",
      "MillionSongSubset/log-data/2018-11-19-events.json\n",
      "MillionSongSubset/log-data/2018-11-20-events.json\n",
      "MillionSongSubset/log-data/2018-11-21-events.json\n",
      "MillionSongSubset/log-data/2018-11-22-events.json\n",
      "MillionSongSubset/log-data/2018-11-23-events.json\n",
      "MillionSongSubset/log-data/2018-11-24-events.json\n",
      "MillionSongSubset/log-data/2018-11-25-events.json\n",
      "MillionSongSubset/log-data/2018-11-26-events.json\n",
      "MillionSongSubset/log-data/2018-11-27-events.json\n",
      "MillionSongSubset/log-data/2018-11-28-events.json\n",
      "MillionSongSubset/log-data/2018-11-29-events.json\n",
      "MillionSongSubset/log-data/2018-11-30-events.json\n",
      "MillionSongSubset/song_data/A/A/A/TRAAAAW128F429D538.json\n",
      "MillionSongSubset/song_data/A/A/A/TRAAABD128F429CF47.json\n",
      "MillionSongSubset/song_data/A/A/A/TRAAADZ128F9348C2E.json\n",
      "MillionSongSubset/song_data/A/A/A/TRAAAEF128F4273421.json\n",
      "MillionSongSubset/song_data/A/A/A/TRAAAFD128F92F423A.json\n",
      "MillionSongSubset/song_data/A/A/A/TRAAAMO128F1481E7F.json\n",
      "MillionSongSubset/song_data/A/A/A/TRAAAMQ128F1460CD3.json\n",
      "MillionSongSubset/song_data/A/A/A/TRAAAPK128E0786D96.json\n",
      "MillionSongSubset/song_data/A/A/A/TRAAARJ128F9320760.json\n",
      "MillionSongSubset/song_data/A/A/A/TRAAAVG12903CFA543.json\n",
      "MillionSongSubset/song_data/A/A/A/TRAAAVO128F93133D4.json\n",
      "MillionSongSubset/song_data/A/A/B/TRAABCL128F4286650.json\n",
      "MillionSongSubset/song_data/A/A/B/TRAABDL12903CAABBA.json\n",
      "MillionSongSubset/song_data/A/A/B/TRAABJL12903CDCF1A.json\n",
      "MillionSongSubset/song_data/A/A/B/TRAABJV128F1460C49.json\n",
      "MillionSongSubset/song_data/A/A/B/TRAABLR128F423B7E3.json\n",
      "MillionSongSubset/song_data/A/A/B/TRAABNV128F425CEE1.json\n",
      "MillionSongSubset/song_data/A/A/B/TRAABRB128F9306DD5.json\n",
      "MillionSongSubset/song_data/A/A/B/TRAABVM128F92CA9DC.json\n",
      "MillionSongSubset/song_data/A/A/B/TRAABXG128F9318EBD.json\n",
      "MillionSongSubset/song_data/A/A/B/TRAABYN12903CFD305.json\n",
      "MillionSongSubset/song_data/A/A/B/TRAABYW128F4244559.json\n",
      "MillionSongSubset/song_data/A/A/C/TRAACCG128F92E8A55.json\n",
      "MillionSongSubset/song_data/A/A/C/TRAACER128F4290F96.json\n",
      "MillionSongSubset/song_data/A/A/C/TRAACFV128F935E50B.json\n",
      "MillionSongSubset/song_data/A/A/C/TRAACHN128F1489601.json\n",
      "MillionSongSubset/song_data/A/A/C/TRAACIW12903CC0F6D.json\n",
      "MillionSongSubset/song_data/A/A/C/TRAACLV128F427E123.json\n",
      "MillionSongSubset/song_data/A/A/C/TRAACNS128F14A2DF5.json\n",
      "MillionSongSubset/song_data/A/A/C/TRAACOW128F933E35F.json\n",
      "MillionSongSubset/song_data/A/A/C/TRAACPE128F421C1B9.json\n",
      "MillionSongSubset/song_data/A/A/C/TRAACQT128F9331780.json\n",
      "MillionSongSubset/song_data/A/A/C/TRAACSL128F93462F4.json\n",
      "MillionSongSubset/song_data/A/A/C/TRAACTB12903CAAF15.json\n",
      "MillionSongSubset/song_data/A/A/C/TRAACVS128E078BE39.json\n",
      "MillionSongSubset/song_data/A/A/C/TRAACZK128F4243829.json\n",
      "MillionSongSubset/song_data/A/B/A/TRABACN128F425B784.json\n",
      "MillionSongSubset/song_data/A/B/A/TRABAFJ128F42AF24E.json\n",
      "MillionSongSubset/song_data/A/B/A/TRABAFP128F931E9A1.json\n",
      "MillionSongSubset/song_data/A/B/A/TRABAIO128F42938F9.json\n",
      "MillionSongSubset/song_data/A/B/A/TRABATO128F42627E9.json\n",
      "MillionSongSubset/song_data/A/B/A/TRABAVQ12903CBF7E0.json\n",
      "MillionSongSubset/song_data/A/B/A/TRABAWW128F4250A31.json\n",
      "MillionSongSubset/song_data/A/B/A/TRABAXL128F424FC50.json\n",
      "MillionSongSubset/song_data/A/B/A/TRABAXR128F426515F.json\n",
      "MillionSongSubset/song_data/A/B/A/TRABAXV128F92F6AE3.json\n",
      "MillionSongSubset/song_data/A/B/A/TRABAZH128F930419A.json\n",
      "MillionSongSubset/song_data/A/B/B/TRABBAM128F429D223.json\n",
      "MillionSongSubset/song_data/A/B/B/TRABBBV128F42967D7.json\n",
      "MillionSongSubset/song_data/A/B/B/TRABBJE12903CDB442.json\n",
      "MillionSongSubset/song_data/A/B/B/TRABBKX128F4285205.json\n",
      "MillionSongSubset/song_data/A/B/B/TRABBLU128F93349CF.json\n",
      "MillionSongSubset/song_data/A/B/B/TRABBNP128F932546F.json\n",
      "MillionSongSubset/song_data/A/B/B/TRABBOP128F931B50D.json\n",
      "MillionSongSubset/song_data/A/B/B/TRABBOR128F4286200.json\n",
      "MillionSongSubset/song_data/A/B/B/TRABBTA128F933D304.json\n",
      "MillionSongSubset/song_data/A/B/B/TRABBVJ128F92F7EAA.json\n",
      "MillionSongSubset/song_data/A/B/B/TRABBXU128F92FEF48.json\n",
      "MillionSongSubset/song_data/A/B/B/TRABBZN12903CD9297.json\n",
      "MillionSongSubset/song_data/A/B/C/TRABCAJ12903CDFCC2.json\n",
      "MillionSongSubset/song_data/A/B/C/TRABCEC128F426456E.json\n",
      "MillionSongSubset/song_data/A/B/C/TRABCEI128F424C983.json\n",
      "MillionSongSubset/song_data/A/B/C/TRABCFL128F149BB0D.json\n",
      "MillionSongSubset/song_data/A/B/C/TRABCIX128F4265903.json\n",
      "MillionSongSubset/song_data/A/B/C/TRABCKL128F423A778.json\n",
      "MillionSongSubset/song_data/A/B/C/TRABCPZ128F4275C32.json\n",
      "MillionSongSubset/song_data/A/B/C/TRABCRU128F423F449.json\n",
      "MillionSongSubset/song_data/A/B/C/TRABCTK128F934B224.json\n",
      "MillionSongSubset/song_data/A/B/C/TRABCUQ128E0783E2B.json\n",
      "MillionSongSubset/song_data/A/B/C/TRABCXB128F4286BD3.json\n",
      "MillionSongSubset/song_data/A/B/C/TRABCYE128F934CE1D.json\n",
      "YOURNAME/test_export.parquet\n",
      "aamnah/GOOG.csv\n",
      "aamnah/GOOG.txt\n",
      "accidents/\n",
      "accidents/accidents_2017_to_2023_english.csv\n",
      "alexia/957133637c684b09a94cc753e0c594a2_000000_000000.snappy.parquet\n",
      "alexia/957133637c684b09a94cc753e0c594a2_000001_000000.snappy.parquet\n",
      "alexia/957133637c684b09a94cc753e0c594a2_000002_000000.snappy.parquet\n",
      "alexia/957133637c684b09a94cc753e0c594a2_000003_000000.snappy.parquet\n",
      "emma/3a1b7394faa84991a5e7700c963af73f_000000_000000.snappy.parquet\n",
      "emma/3a1b7394faa84991a5e7700c963af73f_000001_000000.snappy.parquet\n",
      "emma/3a1b7394faa84991a5e7700c963af73f_000002_000000.snappy.parquet\n",
      "emma/3a1b7394faa84991a5e7700c963af73f_000003_000000.snappy.parquet\n",
      "emma/uploads/wr_emma_stock\n",
      "fabiola/a3a03886216d40279ccfca68cc237524.snappy.parquet\n",
      "fabiola/uploads/wr_GOOG.csv\n",
      "jaden/6e08eee074434aa7abda59ab22bc3ea7.snappy.parquet\n",
      "jaden/uploads/new_file.csv\n",
      "michael/e798e42882254cf5a9e99351bd7626d6.snappy.parquet\n",
      "miraj/DOWNLOADEDGOOGLEDATA.csv\n",
      "miraj/test_export.parquet\n",
      "shaswat/e4e70d26665c4d07af4bdaab85f8975e.snappy.parquet\n",
      "shaswat/uploads/new_file.csv\n",
      "stage/\n",
      "stage/yellow_tripdata.csv\n",
      "stage/yellow_tripdata.json\n",
      "stage/yellow_tripdata.parquet\n",
      "stocks/\n",
      "stocks/GOOG.csv\n",
      "suchitha/55bb31001ebb40eab50c449bb676aa7f.snappy.parquet\n",
      "suchitha/uploads/sales.csv\n",
      "tatwan/51addc9167684aa281c96fd5ae2d5be2.snappy.parquet\n",
      "tatwan/GOOG.csv\n",
      "tatwan/GOOG_NEW.csv\n",
      "tatwan/buffer.txt\n",
      "taxi_data/\n",
      "taxi_data/yellow_tripdata_2024-01.parquet\n",
      "taxi_data/yellow_tripdata_2024-02.parquet\n",
      "taxi_data/yellow_tripdata_2024-03.parquet\n",
      "taxi_data/yellow_tripdata_2024-04.parquet\n",
      "tyler/a9eb62c2331843b9a9af873a09e1017e.snappy.parquet\n",
      "yellow_tripdata_2024-01.parquet\n",
      "yellow_tripdata_2024-02.parquet\n",
      "yellow_tripdata_2024-03.parquet\n",
      "yellow_tripdata_2024-04.parquet\n"
     ]
    }
   ],
   "source": [
    "# list objects in a specific bucket \"techcatalyst-raw\"\n",
    "bucket_name = \"techcatalyst-raw\"\n",
    "objects = s3_client.list_objects_v2(Bucket=bucket_name)\n",
    "for obj in objects['Contents']:\n",
    "    print(obj['Key'])"
   ]
  },
  {
   "cell_type": "code",
   "execution_count": 15,
   "id": "01bd1e3a",
   "metadata": {},
   "outputs": [
    {
     "name": "stdout",
     "output_type": "stream",
     "text": [
      "BLAKE/upload_file_method_GOOG.csv\n",
      "BLAKE_wr/uploads/wr_newfile.csv\n",
      "Ben/gooooog.csv\n",
      "EMMA/emna_goog.csv\n",
      "aamnah/GOOG.csv\n",
      "accidents/accidents_2017_to_2023_english.csv\n",
      "fabiola/uploads/wr_GOOG.csv\n",
      "jaden/uploads/new_file.csv\n",
      "miraj/DOWNLOADEDGOOGLEDATA.csv\n",
      "shaswat/uploads/new_file.csv\n",
      "stage/yellow_tripdata.csv\n",
      "stocks/GOOG.csv\n",
      "suchitha/uploads/sales.csv\n",
      "tatwan/GOOG.csv\n",
      "tatwan/GOOG_NEW.csv\n"
     ]
    }
   ],
   "source": [
    "for obj in objects['Contents']:\n",
    "    if  obj['Key'].split('.')[-1] == \"csv\":\n",
    "        print(obj['Key'])"
   ]
  },
  {
   "cell_type": "code",
   "execution_count": 16,
   "id": "aa681f4d",
   "metadata": {},
   "outputs": [
    {
     "data": {
      "text/html": [
       "<div>\n",
       "<style scoped>\n",
       "    .dataframe tbody tr th:only-of-type {\n",
       "        vertical-align: middle;\n",
       "    }\n",
       "\n",
       "    .dataframe tbody tr th {\n",
       "        vertical-align: top;\n",
       "    }\n",
       "\n",
       "    .dataframe thead th {\n",
       "        text-align: right;\n",
       "    }\n",
       "</style>\n",
       "<table border=\"1\" class=\"dataframe\">\n",
       "  <thead>\n",
       "    <tr style=\"text-align: right;\">\n",
       "      <th></th>\n",
       "      <th>Date</th>\n",
       "      <th>Open</th>\n",
       "      <th>High</th>\n",
       "      <th>Low</th>\n",
       "      <th>Close</th>\n",
       "      <th>Volume</th>\n",
       "    </tr>\n",
       "  </thead>\n",
       "  <tbody>\n",
       "    <tr>\n",
       "      <th>0</th>\n",
       "      <td>1/2/2025 16:00:00</td>\n",
       "      <td>191.49</td>\n",
       "      <td>193.20</td>\n",
       "      <td>188.71</td>\n",
       "      <td>190.63</td>\n",
       "      <td>17545162</td>\n",
       "    </tr>\n",
       "    <tr>\n",
       "      <th>1</th>\n",
       "      <td>1/3/2025 16:00:00</td>\n",
       "      <td>192.73</td>\n",
       "      <td>194.50</td>\n",
       "      <td>191.35</td>\n",
       "      <td>193.13</td>\n",
       "      <td>12874957</td>\n",
       "    </tr>\n",
       "    <tr>\n",
       "      <th>2</th>\n",
       "      <td>1/6/2025 16:00:00</td>\n",
       "      <td>195.15</td>\n",
       "      <td>199.56</td>\n",
       "      <td>195.06</td>\n",
       "      <td>197.96</td>\n",
       "      <td>19483323</td>\n",
       "    </tr>\n",
       "    <tr>\n",
       "      <th>3</th>\n",
       "      <td>1/7/2025 16:00:00</td>\n",
       "      <td>198.27</td>\n",
       "      <td>202.14</td>\n",
       "      <td>195.94</td>\n",
       "      <td>196.71</td>\n",
       "      <td>16966760</td>\n",
       "    </tr>\n",
       "    <tr>\n",
       "      <th>4</th>\n",
       "      <td>1/8/2025 16:00:00</td>\n",
       "      <td>193.95</td>\n",
       "      <td>197.64</td>\n",
       "      <td>193.75</td>\n",
       "      <td>195.39</td>\n",
       "      <td>14335341</td>\n",
       "    </tr>\n",
       "    <tr>\n",
       "      <th>...</th>\n",
       "      <td>...</td>\n",
       "      <td>...</td>\n",
       "      <td>...</td>\n",
       "      <td>...</td>\n",
       "      <td>...</td>\n",
       "      <td>...</td>\n",
       "    </tr>\n",
       "    <tr>\n",
       "      <th>135</th>\n",
       "      <td>7/21/2025 16:00:00</td>\n",
       "      <td>187.10</td>\n",
       "      <td>191.26</td>\n",
       "      <td>187.05</td>\n",
       "      <td>191.15</td>\n",
       "      <td>24664994</td>\n",
       "    </tr>\n",
       "    <tr>\n",
       "      <th>136</th>\n",
       "      <td>7/22/2025 16:00:00</td>\n",
       "      <td>192.42</td>\n",
       "      <td>193.36</td>\n",
       "      <td>188.50</td>\n",
       "      <td>192.11</td>\n",
       "      <td>26212909</td>\n",
       "    </tr>\n",
       "    <tr>\n",
       "      <th>137</th>\n",
       "      <td>7/23/2025 16:00:00</td>\n",
       "      <td>192.36</td>\n",
       "      <td>193.36</td>\n",
       "      <td>190.18</td>\n",
       "      <td>191.51</td>\n",
       "      <td>34068129</td>\n",
       "    </tr>\n",
       "    <tr>\n",
       "      <th>138</th>\n",
       "      <td>7/24/2025 16:00:00</td>\n",
       "      <td>198.11</td>\n",
       "      <td>198.97</td>\n",
       "      <td>191.95</td>\n",
       "      <td>193.20</td>\n",
       "      <td>45252060</td>\n",
       "    </tr>\n",
       "    <tr>\n",
       "      <th>139</th>\n",
       "      <td>7/25/2025 16:00:00</td>\n",
       "      <td>192.93</td>\n",
       "      <td>195.28</td>\n",
       "      <td>192.13</td>\n",
       "      <td>194.08</td>\n",
       "      <td>31101847</td>\n",
       "    </tr>\n",
       "  </tbody>\n",
       "</table>\n",
       "<p>140 rows × 6 columns</p>\n",
       "</div>"
      ],
      "text/plain": [
       "                   Date    Open    High     Low   Close    Volume\n",
       "0     1/2/2025 16:00:00  191.49  193.20  188.71  190.63  17545162\n",
       "1     1/3/2025 16:00:00  192.73  194.50  191.35  193.13  12874957\n",
       "2     1/6/2025 16:00:00  195.15  199.56  195.06  197.96  19483323\n",
       "3     1/7/2025 16:00:00  198.27  202.14  195.94  196.71  16966760\n",
       "4     1/8/2025 16:00:00  193.95  197.64  193.75  195.39  14335341\n",
       "..                  ...     ...     ...     ...     ...       ...\n",
       "135  7/21/2025 16:00:00  187.10  191.26  187.05  191.15  24664994\n",
       "136  7/22/2025 16:00:00  192.42  193.36  188.50  192.11  26212909\n",
       "137  7/23/2025 16:00:00  192.36  193.36  190.18  191.51  34068129\n",
       "138  7/24/2025 16:00:00  198.11  198.97  191.95  193.20  45252060\n",
       "139  7/25/2025 16:00:00  192.93  195.28  192.13  194.08  31101847\n",
       "\n",
       "[140 rows x 6 columns]"
      ]
     },
     "metadata": {},
     "output_type": "display_data"
    }
   ],
   "source": [
    "key = \"stocks/GOOG.csv\"\n",
    "out_filename = \"goooooog.csv\"\n",
    "s3_client.download_file(Bucket=bucket_name,\n",
    "                        Key=key,\n",
    "                        Filename=out_filename)\n",
    "\n",
    "import pandas as pd\n",
    "display(pd.read_csv(out_filename))"
   ]
  },
  {
   "cell_type": "code",
   "execution_count": 17,
   "id": "08f20d79",
   "metadata": {},
   "outputs": [
    {
     "name": "stdout",
     "output_type": "stream",
     "text": [
      "b'Date,Open,High,Low,Close,Volume\\r\\n1/2/2025 16:00:00,191.49,193.2,188.71,190.63,17545162\\r\\n1/3/2025 16:'\n"
     ]
    },
    {
     "data": {
      "text/plain": [
       "b'Date,Open,High,Low,Close,Volume\\r\\n'"
      ]
     },
     "metadata": {},
     "output_type": "display_data"
    },
    {
     "data": {
      "text/plain": [
       "b'1/2/2025 16:00:00,191.49,193.2,188.71,190.63,17545162\\r\\n'"
      ]
     },
     "metadata": {},
     "output_type": "display_data"
    }
   ],
   "source": [
    "import io\n",
    "io_temp = io.BytesIO()\n",
    "temp = s3_client.download_fileobj(Bucket=bucket_name,\n",
    "                                  Key=key,\n",
    "                                  Fileobj=io_temp)\n",
    "print(io_temp.getvalue()[:100])\n",
    "io_temp.seek(0)\n",
    "display(next(io_temp))\n",
    "display(next(io_temp))\n",
    "\n",
    "io_temp.seek(0)\n",
    "with open('google_stock_downloaded.csv', 'wb') as f:\n",
    "    f.write(io_temp.getvalue())"
   ]
  },
  {
   "cell_type": "code",
   "execution_count": 18,
   "id": "793b2e16",
   "metadata": {},
   "outputs": [],
   "source": [
    "out_key = \"Ben/gooooog.csv\"\n",
    "s3_client.upload_file(Filename=out_filename,\n",
    "                      Bucket=bucket_name,\n",
    "                      Key=out_key)"
   ]
  },
  {
   "cell_type": "code",
   "execution_count": 19,
   "id": "3606a482",
   "metadata": {},
   "outputs": [],
   "source": [
    "out_key_obj = \"Ben/bingchilling.txt\"\n",
    "in_memory_file = io.BytesIO(b\"bing chilling\")\n",
    "s3_client.upload_fileobj(Fileobj=in_memory_file,\n",
    "                         Bucket=bucket_name,\n",
    "                         Key=out_key_obj)"
   ]
  },
  {
   "cell_type": "code",
   "execution_count": 20,
   "id": "14da630d",
   "metadata": {},
   "outputs": [
    {
     "name": "stdout",
     "output_type": "stream",
     "text": [
      "Ben/Million_Songs/\n",
      "Ben/bingchilling.txt\n",
      "Ben/gooooog.csv\n",
      "Ben/parquetGoogleStock/da5315ad16f94e5488251de78076a594_000000_000000.snappy.parquet\n",
      "Ben/parquetGoogleStock/da5315ad16f94e5488251de78076a594_000001_000000.snappy.parquet\n",
      "Ben/parquetGoogleStock/da5315ad16f94e5488251de78076a594_000002_000000.snappy.parquet\n",
      "Ben/parquetGoogleStock/da5315ad16f94e5488251de78076a594_000003_000000.snappy.parquet\n",
      "Ben/parquetGoogleStock/da5315ad16f94e5488251de78076a594_000004_000000.snappy.parquet\n",
      "Ben/parquetGoogleStock/da5315ad16f94e5488251de78076a594_000005_000000.snappy.parquet\n",
      "Ben/parquetGoogleStock/da5315ad16f94e5488251de78076a594_000006_000000.snappy.parquet\n",
      "Ben/parquetGoogleStock/da5315ad16f94e5488251de78076a594_000007_000000.snappy.parquet\n",
      "Ben/parquetGoogleStock/da5315ad16f94e5488251de78076a594_000008_000000.snappy.parquet\n",
      "Ben/parquetGoogleStock/da5315ad16f94e5488251de78076a594_000009_000000.snappy.parquet\n",
      "Ben/parquetGoogleStock/da5315ad16f94e5488251de78076a594_000010_000000.snappy.parquet\n",
      "Ben/parquetGoogleStock/da5315ad16f94e5488251de78076a594_000011_000000.snappy.parquet\n",
      "Ben/parquetGoogleStock/da5315ad16f94e5488251de78076a594_000012_000000.snappy.parquet\n",
      "Ben/parquetGoogleStock/da5315ad16f94e5488251de78076a594_000013_000000.snappy.parquet\n",
      "Ben/parquetGoogleStock/da5315ad16f94e5488251de78076a594_000014_000000.snappy.parquet\n",
      "Ben/parquetGoogleStock/da5315ad16f94e5488251de78076a594_000015_000000.snappy.parquet\n",
      "Ben/parquetGoogleStock/da5315ad16f94e5488251de78076a594_000016_000000.snappy.parquet\n",
      "Ben/parquetGoogleStock/da5315ad16f94e5488251de78076a594_000017_000000.snappy.parquet\n",
      "Ben/parquetGoogleStock/da5315ad16f94e5488251de78076a594_000018_000000.snappy.parquet\n",
      "Ben/parquetGoogleStock/da5315ad16f94e5488251de78076a594_000019_000000.snappy.parquet\n",
      "Ben/parquetGoogleStock/da5315ad16f94e5488251de78076a594_000020_000000.snappy.parquet\n",
      "Ben/parquetGoogleStock/da5315ad16f94e5488251de78076a594_000021_000000.snappy.parquet\n",
      "Ben/parquetGoogleStock/da5315ad16f94e5488251de78076a594_000022_000000.snappy.parquet\n",
      "Ben/parquetGoogleStock/da5315ad16f94e5488251de78076a594_000023_000000.snappy.parquet\n",
      "Ben/parquetGoogleStock/da5315ad16f94e5488251de78076a594_000024_000000.snappy.parquet\n",
      "Ben/parquetGoogleStock/da5315ad16f94e5488251de78076a594_000025_000000.snappy.parquet\n",
      "Ben/parquetGoogleStock/da5315ad16f94e5488251de78076a594_000026_000000.snappy.parquet\n",
      "Ben/parquetGoogleStock/da5315ad16f94e5488251de78076a594_000027_000000.snappy.parquet\n",
      "Ben/parquetGoogleStock/da5315ad16f94e5488251de78076a594_000028_000000.snappy.parquet\n",
      "Ben/parquetGoogleStock/da5315ad16f94e5488251de78076a594_000029_000000.snappy.parquet\n",
      "Ben/parquetGoogleStock/da5315ad16f94e5488251de78076a594_000030_000000.snappy.parquet\n",
      "Ben/parquetGoogleStock/da5315ad16f94e5488251de78076a594_000031_000000.snappy.parquet\n",
      "Ben/uploads/Google_upload_test\n"
     ]
    }
   ],
   "source": [
    "objects = s3_client.list_objects_v2(Bucket=bucket_name)\n",
    "for obj in objects['Contents']:\n",
    "    if \"Ben\" in obj['Key']:\n",
    "        print(obj['Key'])"
   ]
  },
  {
   "cell_type": "code",
   "execution_count": 7,
   "id": "8ff09d2c",
   "metadata": {},
   "outputs": [
    {
     "data": {
      "text/html": [
       "<div>\n",
       "<style scoped>\n",
       "    .dataframe tbody tr th:only-of-type {\n",
       "        vertical-align: middle;\n",
       "    }\n",
       "\n",
       "    .dataframe tbody tr th {\n",
       "        vertical-align: top;\n",
       "    }\n",
       "\n",
       "    .dataframe thead th {\n",
       "        text-align: right;\n",
       "    }\n",
       "</style>\n",
       "<table border=\"1\" class=\"dataframe\">\n",
       "  <thead>\n",
       "    <tr style=\"text-align: right;\">\n",
       "      <th></th>\n",
       "      <th>Date</th>\n",
       "      <th>Open</th>\n",
       "      <th>High</th>\n",
       "      <th>Low</th>\n",
       "      <th>Close</th>\n",
       "      <th>Volume</th>\n",
       "    </tr>\n",
       "  </thead>\n",
       "  <tbody>\n",
       "    <tr>\n",
       "      <th>0</th>\n",
       "      <td>1/2/2025 16:00:00</td>\n",
       "      <td>191.49</td>\n",
       "      <td>193.20</td>\n",
       "      <td>188.71</td>\n",
       "      <td>190.63</td>\n",
       "      <td>17545162</td>\n",
       "    </tr>\n",
       "    <tr>\n",
       "      <th>1</th>\n",
       "      <td>1/3/2025 16:00:00</td>\n",
       "      <td>192.73</td>\n",
       "      <td>194.50</td>\n",
       "      <td>191.35</td>\n",
       "      <td>193.13</td>\n",
       "      <td>12874957</td>\n",
       "    </tr>\n",
       "    <tr>\n",
       "      <th>2</th>\n",
       "      <td>1/6/2025 16:00:00</td>\n",
       "      <td>195.15</td>\n",
       "      <td>199.56</td>\n",
       "      <td>195.06</td>\n",
       "      <td>197.96</td>\n",
       "      <td>19483323</td>\n",
       "    </tr>\n",
       "    <tr>\n",
       "      <th>3</th>\n",
       "      <td>1/7/2025 16:00:00</td>\n",
       "      <td>198.27</td>\n",
       "      <td>202.14</td>\n",
       "      <td>195.94</td>\n",
       "      <td>196.71</td>\n",
       "      <td>16966760</td>\n",
       "    </tr>\n",
       "    <tr>\n",
       "      <th>4</th>\n",
       "      <td>1/8/2025 16:00:00</td>\n",
       "      <td>193.95</td>\n",
       "      <td>197.64</td>\n",
       "      <td>193.75</td>\n",
       "      <td>195.39</td>\n",
       "      <td>14335341</td>\n",
       "    </tr>\n",
       "  </tbody>\n",
       "</table>\n",
       "</div>"
      ],
      "text/plain": [
       "                Date    Open    High     Low   Close    Volume\n",
       "0  1/2/2025 16:00:00  191.49  193.20  188.71  190.63  17545162\n",
       "1  1/3/2025 16:00:00  192.73  194.50  191.35  193.13  12874957\n",
       "2  1/6/2025 16:00:00  195.15  199.56  195.06  197.96  19483323\n",
       "3  1/7/2025 16:00:00  198.27  202.14  195.94  196.71  16966760\n",
       "4  1/8/2025 16:00:00  193.95  197.64  193.75  195.39  14335341"
      ]
     },
     "metadata": {},
     "output_type": "display_data"
    },
    {
     "name": "stdout",
     "output_type": "stream",
     "text": [
      "<class 'pandas.core.frame.DataFrame'>\n",
      "RangeIndex: 140 entries, 0 to 139\n",
      "Data columns (total 6 columns):\n",
      " #   Column  Non-Null Count  Dtype  \n",
      "---  ------  --------------  -----  \n",
      " 0   Date    140 non-null    object \n",
      " 1   Open    140 non-null    float64\n",
      " 2   High    140 non-null    float64\n",
      " 3   Low     140 non-null    float64\n",
      " 4   Close   140 non-null    float64\n",
      " 5   Volume  140 non-null    int64  \n",
      "dtypes: float64(4), int64(1), object(1)\n",
      "memory usage: 6.7+ KB\n"
     ]
    },
    {
     "data": {
      "text/plain": [
       "None"
      ]
     },
     "metadata": {},
     "output_type": "display_data"
    }
   ],
   "source": [
    "import awswrangler as wr\n",
    "df = wr.s3.read_csv('s3://techcatalyst-raw/stocks/GOOG.csv', encoding='utf-8')\n",
    "display(df.head())\n",
    "display(df.info())\n"
   ]
  },
  {
   "cell_type": "code",
   "execution_count": 22,
   "id": "0dfbc7f2",
   "metadata": {},
   "outputs": [
    {
     "name": "stdout",
     "output_type": "stream",
     "text": [
      "               Database       Description\n",
      "0             aamnah_db                  \n",
      "1             alexia_db                  \n",
      "2           alexia_logs                  \n",
      "3           alexia_song                  \n",
      "4      awswrangler_test                  \n",
      "5                ben_db                  \n",
      "6              ben_song                  \n",
      "7              ben_taxi                  \n",
      "8            blake_taxi                  \n",
      "9           blake_wr_db                  \n",
      "10              default  default database\n",
      "11              emma_db                  \n",
      "12           fabiola_db                  \n",
      "13           jaden_taxi                  \n",
      "14        jadenastle_db                  \n",
      "15         melissa_logs                  \n",
      "16        melissa_songs                  \n",
      "17           michael_db                  \n",
      "18             miraj_db                  \n",
      "19                my_db                  \n",
      "20           shaswat_db                  \n",
      "21         shaswat_logs                  \n",
      "22         shaswat_song                  \n",
      "23         shaswat_taxi                  \n",
      "24          suchitha_db                  \n",
      "25            tatwan_db                  \n",
      "26  tatwan_inclass_demo                  \n",
      "27          tatwan_taxi                  \n",
      "28             tyler_db                  \n"
     ]
    }
   ],
   "source": [
    "databases = wr.catalog.databases()\n",
    "print(databases)"
   ]
  },
  {
   "cell_type": "code",
   "execution_count": 23,
   "id": "88f8f56a",
   "metadata": {},
   "outputs": [],
   "source": [
    "name = \"Ben\"\n",
    "database_name = f\"{name}_db\"\n",
    "wr.catalog.create_database(database_name, exist_ok=True)"
   ]
  },
  {
   "cell_type": "code",
   "execution_count": 24,
   "id": "27c9d61f",
   "metadata": {},
   "outputs": [
    {
     "name": "stdout",
     "output_type": "stream",
     "text": [
      "               Database       Description\n",
      "0             aamnah_db                  \n",
      "1             alexia_db                  \n",
      "2           alexia_logs                  \n",
      "3           alexia_song                  \n",
      "4      awswrangler_test                  \n",
      "5                ben_db                  \n",
      "6              ben_song                  \n",
      "7              ben_taxi                  \n",
      "8            blake_taxi                  \n",
      "9           blake_wr_db                  \n",
      "10              default  default database\n",
      "11              emma_db                  \n",
      "12           fabiola_db                  \n",
      "13           jaden_taxi                  \n",
      "14        jadenastle_db                  \n",
      "15         melissa_logs                  \n",
      "16        melissa_songs                  \n",
      "17           michael_db                  \n",
      "18             miraj_db                  \n",
      "19                my_db                  \n",
      "20           shaswat_db                  \n",
      "21         shaswat_logs                  \n",
      "22         shaswat_song                  \n",
      "23         shaswat_taxi                  \n",
      "24          suchitha_db                  \n",
      "25            tatwan_db                  \n",
      "26  tatwan_inclass_demo                  \n",
      "27          tatwan_taxi                  \n",
      "28             tyler_db                  \n"
     ]
    }
   ],
   "source": [
    "databases = wr.catalog.databases()\n",
    "print(databases)"
   ]
  },
  {
   "cell_type": "code",
   "execution_count": 25,
   "id": "01e3ce39",
   "metadata": {},
   "outputs": [
    {
     "data": {
      "text/plain": [
       "True"
      ]
     },
     "execution_count": 25,
     "metadata": {},
     "output_type": "execute_result"
    }
   ],
   "source": [
    "wr.catalog.tables(database=database_name)\n",
    "wr.catalog.delete_table_if_exists(database=database_name, table='BEN_STOCK')"
   ]
  },
  {
   "cell_type": "code",
   "execution_count": 26,
   "id": "6a1775ff",
   "metadata": {},
   "outputs": [
    {
     "data": {
      "text/plain": [
       "{'paths': ['s3://techcatalyst-raw/Ben/parquetGoogleStock/3e2ff1de4a8d4223acf39f7d31f8faa7.snappy.parquet'],\n",
       " 'partitions_values': {}}"
      ]
     },
     "execution_count": 26,
     "metadata": {},
     "output_type": "execute_result"
    }
   ],
   "source": [
    "table_name = \"BEN_STOCK\"\n",
    "wr.s3.to_parquet(\n",
    "    df=df,\n",
    "    path=f\"s3://techcatalyst-raw/{name}/parquetGoogleStock/\",\n",
    "    dataset=True,\n",
    "    database=database_name,\n",
    "    table=table_name,\n",
    "    mode='overwrite'\n",
    ")"
   ]
  },
  {
   "cell_type": "code",
   "execution_count": 27,
   "id": "b36cecc9",
   "metadata": {},
   "outputs": [
    {
     "data": {
      "text/html": [
       "<div>\n",
       "<style scoped>\n",
       "    .dataframe tbody tr th:only-of-type {\n",
       "        vertical-align: middle;\n",
       "    }\n",
       "\n",
       "    .dataframe tbody tr th {\n",
       "        vertical-align: top;\n",
       "    }\n",
       "\n",
       "    .dataframe thead th {\n",
       "        text-align: right;\n",
       "    }\n",
       "</style>\n",
       "<table border=\"1\" class=\"dataframe\">\n",
       "  <thead>\n",
       "    <tr style=\"text-align: right;\">\n",
       "      <th></th>\n",
       "      <th>Database</th>\n",
       "      <th>Table</th>\n",
       "      <th>Description</th>\n",
       "      <th>TableType</th>\n",
       "      <th>Columns</th>\n",
       "      <th>Partitions</th>\n",
       "    </tr>\n",
       "  </thead>\n",
       "  <tbody>\n",
       "    <tr>\n",
       "      <th>0</th>\n",
       "      <td>ben_db</td>\n",
       "      <td>ben_stock</td>\n",
       "      <td></td>\n",
       "      <td>EXTERNAL_TABLE</td>\n",
       "      <td>date, open, high, low, close, volume</td>\n",
       "      <td></td>\n",
       "    </tr>\n",
       "  </tbody>\n",
       "</table>\n",
       "</div>"
      ],
      "text/plain": [
       "  Database      Table Description       TableType  \\\n",
       "0   ben_db  ben_stock              EXTERNAL_TABLE   \n",
       "\n",
       "                                Columns Partitions  \n",
       "0  date, open, high, low, close, volume             "
      ]
     },
     "metadata": {},
     "output_type": "display_data"
    },
    {
     "data": {
      "text/html": [
       "<div>\n",
       "<style scoped>\n",
       "    .dataframe tbody tr th:only-of-type {\n",
       "        vertical-align: middle;\n",
       "    }\n",
       "\n",
       "    .dataframe tbody tr th {\n",
       "        vertical-align: top;\n",
       "    }\n",
       "\n",
       "    .dataframe thead th {\n",
       "        text-align: right;\n",
       "    }\n",
       "</style>\n",
       "<table border=\"1\" class=\"dataframe\">\n",
       "  <thead>\n",
       "    <tr style=\"text-align: right;\">\n",
       "      <th></th>\n",
       "      <th>Database</th>\n",
       "      <th>Table</th>\n",
       "      <th>Description</th>\n",
       "      <th>TableType</th>\n",
       "      <th>Columns</th>\n",
       "      <th>Partitions</th>\n",
       "    </tr>\n",
       "  </thead>\n",
       "  <tbody>\n",
       "    <tr>\n",
       "      <th>0</th>\n",
       "      <td>alexia_db</td>\n",
       "      <td>alexia_stock</td>\n",
       "      <td></td>\n",
       "      <td>EXTERNAL_TABLE</td>\n",
       "      <td>date, open, high, low, close, volume</td>\n",
       "      <td></td>\n",
       "    </tr>\n",
       "    <tr>\n",
       "      <th>1</th>\n",
       "      <td>ben_db</td>\n",
       "      <td>ben_stock</td>\n",
       "      <td></td>\n",
       "      <td>EXTERNAL_TABLE</td>\n",
       "      <td>date, open, high, low, close, volume</td>\n",
       "      <td></td>\n",
       "    </tr>\n",
       "    <tr>\n",
       "      <th>2</th>\n",
       "      <td>blake_wr_db</td>\n",
       "      <td>blake_stock</td>\n",
       "      <td>This is my stock table.</td>\n",
       "      <td>EXTERNAL_TABLE</td>\n",
       "      <td>date, open, high, low, close, volume</td>\n",
       "      <td></td>\n",
       "    </tr>\n",
       "    <tr>\n",
       "      <th>3</th>\n",
       "      <td>emma_db</td>\n",
       "      <td>emma_stock</td>\n",
       "      <td>This is my stock table.</td>\n",
       "      <td>EXTERNAL_TABLE</td>\n",
       "      <td>date, open, high, low, close, volume</td>\n",
       "      <td></td>\n",
       "    </tr>\n",
       "    <tr>\n",
       "      <th>4</th>\n",
       "      <td>fabiola_db</td>\n",
       "      <td>fabiola_stock</td>\n",
       "      <td>This is my stock table.</td>\n",
       "      <td>EXTERNAL_TABLE</td>\n",
       "      <td>date, open, high, low, close, volume</td>\n",
       "      <td></td>\n",
       "    </tr>\n",
       "    <tr>\n",
       "      <th>5</th>\n",
       "      <td>jadenastle_db</td>\n",
       "      <td>jaden_stock</td>\n",
       "      <td>This is my stock table.</td>\n",
       "      <td>EXTERNAL_TABLE</td>\n",
       "      <td>date, open, high, low, close, volume</td>\n",
       "      <td></td>\n",
       "    </tr>\n",
       "    <tr>\n",
       "      <th>6</th>\n",
       "      <td>michael_db</td>\n",
       "      <td>michael_stock</td>\n",
       "      <td></td>\n",
       "      <td>EXTERNAL_TABLE</td>\n",
       "      <td>date, open, high, low, close, volume</td>\n",
       "      <td></td>\n",
       "    </tr>\n",
       "    <tr>\n",
       "      <th>7</th>\n",
       "      <td>shaswat_db</td>\n",
       "      <td>shaswat_stock</td>\n",
       "      <td>This is my stock table.</td>\n",
       "      <td>EXTERNAL_TABLE</td>\n",
       "      <td>date, open, high, low, close, volume</td>\n",
       "      <td></td>\n",
       "    </tr>\n",
       "    <tr>\n",
       "      <th>8</th>\n",
       "      <td>suchitha_db</td>\n",
       "      <td>suchitha_stock</td>\n",
       "      <td>This is my stock table.</td>\n",
       "      <td>EXTERNAL_TABLE</td>\n",
       "      <td>date, open, high, low, close, volume</td>\n",
       "      <td></td>\n",
       "    </tr>\n",
       "    <tr>\n",
       "      <th>9</th>\n",
       "      <td>tatwan_db</td>\n",
       "      <td>tatwan_stock</td>\n",
       "      <td>This is my stock table.</td>\n",
       "      <td>EXTERNAL_TABLE</td>\n",
       "      <td>date, open, high, low, close, volume</td>\n",
       "      <td></td>\n",
       "    </tr>\n",
       "    <tr>\n",
       "      <th>10</th>\n",
       "      <td>tatwan_inclass_demo</td>\n",
       "      <td>tatwan_goog_stock</td>\n",
       "      <td></td>\n",
       "      <td>EXTERNAL_TABLE</td>\n",
       "      <td>date, open, high, low, close, volume</td>\n",
       "      <td></td>\n",
       "    </tr>\n",
       "    <tr>\n",
       "      <th>11</th>\n",
       "      <td>tyler_db</td>\n",
       "      <td>tyler_stock</td>\n",
       "      <td></td>\n",
       "      <td>EXTERNAL_TABLE</td>\n",
       "      <td>date, open, high, low, close, volume</td>\n",
       "      <td></td>\n",
       "    </tr>\n",
       "  </tbody>\n",
       "</table>\n",
       "</div>"
      ],
      "text/plain": [
       "               Database              Table              Description  \\\n",
       "0             alexia_db       alexia_stock                            \n",
       "1                ben_db          ben_stock                            \n",
       "2           blake_wr_db        blake_stock  This is my stock table.   \n",
       "3               emma_db         emma_stock  This is my stock table.   \n",
       "4            fabiola_db      fabiola_stock  This is my stock table.   \n",
       "5         jadenastle_db        jaden_stock  This is my stock table.   \n",
       "6            michael_db      michael_stock                            \n",
       "7            shaswat_db      shaswat_stock  This is my stock table.   \n",
       "8           suchitha_db     suchitha_stock  This is my stock table.   \n",
       "9             tatwan_db       tatwan_stock  This is my stock table.   \n",
       "10  tatwan_inclass_demo  tatwan_goog_stock                            \n",
       "11             tyler_db        tyler_stock                            \n",
       "\n",
       "         TableType                               Columns Partitions  \n",
       "0   EXTERNAL_TABLE  date, open, high, low, close, volume             \n",
       "1   EXTERNAL_TABLE  date, open, high, low, close, volume             \n",
       "2   EXTERNAL_TABLE  date, open, high, low, close, volume             \n",
       "3   EXTERNAL_TABLE  date, open, high, low, close, volume             \n",
       "4   EXTERNAL_TABLE  date, open, high, low, close, volume             \n",
       "5   EXTERNAL_TABLE  date, open, high, low, close, volume             \n",
       "6   EXTERNAL_TABLE  date, open, high, low, close, volume             \n",
       "7   EXTERNAL_TABLE  date, open, high, low, close, volume             \n",
       "8   EXTERNAL_TABLE  date, open, high, low, close, volume             \n",
       "9   EXTERNAL_TABLE  date, open, high, low, close, volume             \n",
       "10  EXTERNAL_TABLE  date, open, high, low, close, volume             \n",
       "11  EXTERNAL_TABLE  date, open, high, low, close, volume             "
      ]
     },
     "metadata": {},
     "output_type": "display_data"
    }
   ],
   "source": [
    "display(wr.catalog.tables(database=database_name))\n",
    "display(wr.catalog.tables(name_contains=\"stock\"))"
   ]
  },
  {
   "cell_type": "code",
   "execution_count": 28,
   "id": "e509b056",
   "metadata": {},
   "outputs": [
    {
     "name": "stdout",
     "output_type": "stream",
     "text": [
      "Ben_db\n",
      "BEN_STOCK\n"
     ]
    },
    {
     "data": {
      "text/plain": [
       "{'date': 'string',\n",
       " 'open': 'double',\n",
       " 'high': 'double',\n",
       " 'low': 'double',\n",
       " 'close': 'double',\n",
       " 'volume': 'bigint'}"
      ]
     },
     "execution_count": 28,
     "metadata": {},
     "output_type": "execute_result"
    }
   ],
   "source": [
    "print(database_name)\n",
    "print(table_name)\n",
    "wr.catalog.get_table_types(database=database_name, table=table_name)"
   ]
  },
  {
   "cell_type": "code",
   "execution_count": 29,
   "id": "ea5eec98",
   "metadata": {},
   "outputs": [
    {
     "data": {
      "text/plain": [
       "{'Name': 'ben_stock',\n",
       " 'DatabaseName': 'ben_db',\n",
       " 'CreateTime': datetime.datetime(2025, 8, 4, 16, 16, 44, tzinfo=tzlocal()),\n",
       " 'UpdateTime': datetime.datetime(2025, 8, 4, 16, 16, 44, tzinfo=tzlocal()),\n",
       " 'Retention': 0,\n",
       " 'StorageDescriptor': {'Columns': [{'Name': 'date', 'Type': 'string'},\n",
       "   {'Name': 'open', 'Type': 'double'},\n",
       "   {'Name': 'high', 'Type': 'double'},\n",
       "   {'Name': 'low', 'Type': 'double'},\n",
       "   {'Name': 'close', 'Type': 'double'},\n",
       "   {'Name': 'volume', 'Type': 'bigint'}],\n",
       "  'Location': 's3://techcatalyst-raw/Ben/parquetGoogleStock/',\n",
       "  'InputFormat': 'org.apache.hadoop.hive.ql.io.parquet.MapredParquetInputFormat',\n",
       "  'OutputFormat': 'org.apache.hadoop.hive.ql.io.parquet.MapredParquetOutputFormat',\n",
       "  'Compressed': True,\n",
       "  'NumberOfBuckets': -1,\n",
       "  'SerdeInfo': {'SerializationLibrary': 'org.apache.hadoop.hive.ql.io.parquet.serde.ParquetHiveSerDe',\n",
       "   'Parameters': {'serialization.format': '1'}},\n",
       "  'BucketColumns': [],\n",
       "  'SortColumns': [],\n",
       "  'Parameters': {'CrawlerSchemaDeserializerVersion': '1.0',\n",
       "   'compressionType': 'snappy',\n",
       "   'classification': 'parquet',\n",
       "   'typeOfData': 'file'},\n",
       "  'StoredAsSubDirectories': False},\n",
       " 'PartitionKeys': [],\n",
       " 'TableType': 'EXTERNAL_TABLE',\n",
       " 'Parameters': {'compressionType': 'snappy',\n",
       "  'classification': 'parquet',\n",
       "  'projection.enabled': 'false',\n",
       "  'typeOfData': 'file'},\n",
       " 'CreatedBy': 'arn:aws:iam::535146832369:user/Benjamin.Acorda',\n",
       " 'IsRegisteredWithLakeFormation': False,\n",
       " 'CatalogId': '535146832369',\n",
       " 'VersionId': '0',\n",
       " 'IsMultiDialectView': False}"
      ]
     },
     "execution_count": 29,
     "metadata": {},
     "output_type": "execute_result"
    }
   ],
   "source": [
    "table_details=wr.catalog.get_tables(database=database_name)\n",
    "next(table_details)"
   ]
  },
  {
   "cell_type": "code",
   "execution_count": 30,
   "id": "e21c97d7",
   "metadata": {},
   "outputs": [
    {
     "data": {
      "text/plain": [
       "{'paths': ['s3://techcatalyst-raw/Ben/parquetGoogleStock/a0eeb97dbd854a5c9cc6e89512faee73.snappy.parquet'],\n",
       " 'partitions_values': {}}"
      ]
     },
     "execution_count": 30,
     "metadata": {},
     "output_type": "execute_result"
    }
   ],
   "source": [
    "desc = \"This is my stock table.\"\n",
    "param = {\"source\" : \"Google\", \"class\" : \"stock\"}\n",
    "comments = {\n",
    "    \"Date\" : \"Trading Date\",\n",
    "    \"Open\" : \"Opening Price\",\n",
    "    \"Close\" : \"Closing Price\"\n",
    "}\n",
    "\n",
    "wr.s3.to_parquet(\n",
    "    df=df,\n",
    "    path=f\"s3://techcatalyst-raw/{name}/parquetGoogleStock/\",\n",
    "    dataset=True,\n",
    "    database=database_name,\n",
    "    table=table_name,\n",
    "    mode='overwrite',\n",
    "    glue_table_settings=wr.typing.GlueTableSettings(description=desc,\n",
    "                                                    parameters=param,\n",
    "                                                    columns_comments=comments),\n",
    ")"
   ]
  },
  {
   "cell_type": "code",
   "execution_count": 31,
   "id": "218694d3",
   "metadata": {},
   "outputs": [
    {
     "data": {
      "text/html": [
       "<div>\n",
       "<style scoped>\n",
       "    .dataframe tbody tr th:only-of-type {\n",
       "        vertical-align: middle;\n",
       "    }\n",
       "\n",
       "    .dataframe tbody tr th {\n",
       "        vertical-align: top;\n",
       "    }\n",
       "\n",
       "    .dataframe thead th {\n",
       "        text-align: right;\n",
       "    }\n",
       "</style>\n",
       "<table border=\"1\" class=\"dataframe\">\n",
       "  <thead>\n",
       "    <tr style=\"text-align: right;\">\n",
       "      <th></th>\n",
       "      <th>Column Name</th>\n",
       "      <th>Type</th>\n",
       "      <th>Partition</th>\n",
       "      <th>Comment</th>\n",
       "    </tr>\n",
       "  </thead>\n",
       "  <tbody>\n",
       "    <tr>\n",
       "      <th>0</th>\n",
       "      <td>date</td>\n",
       "      <td>string</td>\n",
       "      <td>False</td>\n",
       "      <td>Trading Date</td>\n",
       "    </tr>\n",
       "    <tr>\n",
       "      <th>1</th>\n",
       "      <td>open</td>\n",
       "      <td>double</td>\n",
       "      <td>False</td>\n",
       "      <td>Opening Price</td>\n",
       "    </tr>\n",
       "    <tr>\n",
       "      <th>2</th>\n",
       "      <td>high</td>\n",
       "      <td>double</td>\n",
       "      <td>False</td>\n",
       "      <td></td>\n",
       "    </tr>\n",
       "    <tr>\n",
       "      <th>3</th>\n",
       "      <td>low</td>\n",
       "      <td>double</td>\n",
       "      <td>False</td>\n",
       "      <td></td>\n",
       "    </tr>\n",
       "    <tr>\n",
       "      <th>4</th>\n",
       "      <td>close</td>\n",
       "      <td>double</td>\n",
       "      <td>False</td>\n",
       "      <td>Closing Price</td>\n",
       "    </tr>\n",
       "    <tr>\n",
       "      <th>5</th>\n",
       "      <td>volume</td>\n",
       "      <td>bigint</td>\n",
       "      <td>False</td>\n",
       "      <td></td>\n",
       "    </tr>\n",
       "  </tbody>\n",
       "</table>\n",
       "</div>"
      ],
      "text/plain": [
       "  Column Name    Type  Partition        Comment\n",
       "0        date  string      False   Trading Date\n",
       "1        open  double      False  Opening Price\n",
       "2        high  double      False               \n",
       "3         low  double      False               \n",
       "4       close  double      False  Closing Price\n",
       "5      volume  bigint      False               "
      ]
     },
     "execution_count": 31,
     "metadata": {},
     "output_type": "execute_result"
    }
   ],
   "source": [
    "wr.catalog.table(database=database_name, table=table_name)"
   ]
  },
  {
   "cell_type": "code",
   "execution_count": 32,
   "id": "9fab4577",
   "metadata": {},
   "outputs": [
    {
     "data": {
      "text/plain": [
       "['s3://techcatalyst-raw/stage/yellow_tripdata.csv',\n",
       " 's3://techcatalyst-raw/stage/yellow_tripdata.json',\n",
       " 's3://techcatalyst-raw/stage/yellow_tripdata.parquet']"
      ]
     },
     "execution_count": 32,
     "metadata": {},
     "output_type": "execute_result"
    }
   ],
   "source": [
    "wr.s3.list_objects('s3://techcatalyst-raw/stage/')"
   ]
  },
  {
   "cell_type": "code",
   "execution_count": 33,
   "id": "3f24a2f5",
   "metadata": {},
   "outputs": [],
   "source": [
    "wr.s3.download(path='s3://techcatalyst-raw/stocks/GOOG.csv',\n",
    "               local_file='./new_file.csv')"
   ]
  },
  {
   "cell_type": "code",
   "execution_count": 34,
   "id": "23f0221c",
   "metadata": {},
   "outputs": [],
   "source": [
    "your_name = \"Ben\"\n",
    "file_name = \"Google_upload_test\"\n",
    "wr.s3.upload(local_file='./new_file.csv', path= f's3://techcatalyst-raw/{your_name}/uploads/{file_name}')"
   ]
  },
  {
   "cell_type": "code",
   "execution_count": 35,
   "id": "3f759481",
   "metadata": {},
   "outputs": [
    {
     "data": {
      "text/plain": [
       "['s3://techcatalyst-raw/Ben/uploads/Google_upload_test']"
      ]
     },
     "execution_count": 35,
     "metadata": {},
     "output_type": "execute_result"
    }
   ],
   "source": [
    "wr.s3.list_objects(f's3://techcatalyst-raw/{your_name}/uploads/')"
   ]
  },
  {
   "cell_type": "code",
   "execution_count": 36,
   "id": "2d3c0f70",
   "metadata": {},
   "outputs": [
    {
     "name": "stdout",
     "output_type": "stream",
     "text": [
      "techcatalyst-raw\n"
     ]
    }
   ],
   "source": [
    "print(bucket_name)"
   ]
  },
  {
   "cell_type": "code",
   "execution_count": 12,
   "id": "6d8f5aaa",
   "metadata": {},
   "outputs": [],
   "source": [
    "db_name = \"BEN_TAXI\"\n",
    "table_name = \"BEN_TRIPDATA\"\n",
    "s3_path_directory = \"s3://techcatalyst-raw/taxi_data/\"\n",
    "s3_path_file = \"s3://techcatalyst-raw/taxi_data/yellow_tripdata_2024-01.parquet\""
   ]
  },
  {
   "cell_type": "code",
   "execution_count": 13,
   "id": "4175870a",
   "metadata": {},
   "outputs": [
    {
     "name": "stdout",
     "output_type": "stream",
     "text": [
      "Successfully read schema from parquet file.\n"
     ]
    }
   ],
   "source": [
    "# wr.catalog.delete_table_if_exists(database=db_name, table=table_name)\n",
    "\n",
    "columns_types, partitions_types = wr.s3.read_parquet_metadata(path=s3_path_file)\n",
    "print(\"Successfully read schema from parquet file.\")"
   ]
  },
  {
   "cell_type": "code",
   "execution_count": 14,
   "id": "1202bda8",
   "metadata": {},
   "outputs": [
    {
     "name": "stdout",
     "output_type": "stream",
     "text": [
      "Table 'BEN_TRIPDATA' created successfully in database 'BEN_TAXI'.\n"
     ]
    }
   ],
   "source": [
    "# wr.catalog.create_database(name=db_name)\n",
    "wr.catalog.create_parquet_table(\n",
    "    database=db_name,\n",
    "    table=table_name,\n",
    "    path=s3_path_directory,\n",
    "    columns_types=columns_types,\n",
    "    partitions_types=partitions_types\n",
    ")\n",
    "\n",
    "print(f\"Table '{table_name}' created successfully in database '{db_name}'.\")"
   ]
  },
  {
   "cell_type": "code",
   "execution_count": 15,
   "id": "272b6012",
   "metadata": {},
   "outputs": [
    {
     "name": "stdout",
     "output_type": "stream",
     "text": [
      "\n",
      "Query Results:\n",
      "   vendorid tpep_pickup_datetime tpep_dropoff_datetime  passenger_count  \\\n",
      "0         2  2024-04-03 17:01:56   2024-04-03 17:31:43              NaN   \n",
      "1         2  2024-04-03 17:42:09   2024-04-03 17:42:57              NaN   \n",
      "2         2  2024-04-03 17:49:47   2024-04-03 18:39:29              NaN   \n",
      "3         2  2024-04-03 17:58:05   2024-04-03 18:04:41              NaN   \n",
      "4         2  2024-04-03 17:27:15   2024-04-03 17:58:46              NaN   \n",
      "\n",
      "   trip_distance  ratecodeid store_and_fwd_flag  pulocationid  dolocationid  \\\n",
      "0           3.32         NaN               <NA>            87           186   \n",
      "1           0.00         NaN               <NA>           246           246   \n",
      "2           3.77         NaN               <NA>           236           234   \n",
      "3           0.70         NaN               <NA>           233           233   \n",
      "4           4.63         NaN               <NA>           237           246   \n",
      "\n",
      "   payment_type  fare_amount  extra  mta_tax  tip_amount  tolls_amount  \\\n",
      "0             0        35.56    0.0      0.5        0.00           0.0   \n",
      "1             0        14.22    0.0      0.5        3.64           0.0   \n",
      "2             0        35.71    0.0      0.5        0.00           0.0   \n",
      "3             0        14.22    0.0      0.5        2.73           0.0   \n",
      "4             0        31.38    0.0      0.5        0.00           0.0   \n",
      "\n",
      "   improvement_surcharge  total_amount  congestion_surcharge  airport_fee  \n",
      "0                    1.0         39.56                   NaN          NaN  \n",
      "1                    1.0         21.86                   NaN          NaN  \n",
      "2                    1.0         39.71                   NaN          NaN  \n",
      "3                    1.0         20.95                   NaN          NaN  \n",
      "4                    1.0         35.38                   NaN          NaN  \n"
     ]
    }
   ],
   "source": [
    "query = f\"SELECT * FROM {table_name} LIMIT 5\"\n",
    "\n",
    "df = wr.athena.read_sql_query(query, database=db_name)\n",
    "\n",
    "print(\"\\nQuery Results:\")\n",
    "print(df)"
   ]
  },
  {
   "cell_type": "code",
   "execution_count": 16,
   "id": "d014b7ea",
   "metadata": {},
   "outputs": [],
   "source": [
    "key = \"Ben/test.csv\"\n",
    "s3_client.upload_file(Filename='test.csv',\n",
    "                      Bucket='techcatalyst-raw',\n",
    "                      Key=key)"
   ]
  }
 ],
 "metadata": {
  "kernelspec": {
   "display_name": "TechCatalyst_DE_2025_TWO",
   "language": "python",
   "name": "python3"
  },
  "language_info": {
   "codemirror_mode": {
    "name": "ipython",
    "version": 3
   },
   "file_extension": ".py",
   "mimetype": "text/x-python",
   "name": "python",
   "nbconvert_exporter": "python",
   "pygments_lexer": "ipython3",
   "version": "3.12.10"
  }
 },
 "nbformat": 4,
 "nbformat_minor": 5
}
