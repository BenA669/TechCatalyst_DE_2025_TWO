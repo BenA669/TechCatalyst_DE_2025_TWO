{
 "cells": [
  {
   "cell_type": "code",
   "execution_count": 1,
   "id": "d872bb03",
   "metadata": {},
   "outputs": [],
   "source": [
    "import requests\n",
    "import json"
   ]
  },
  {
   "cell_type": "code",
   "execution_count": 14,
   "id": "3f124855",
   "metadata": {},
   "outputs": [
    {
     "name": "stdout",
     "output_type": "stream",
     "text": [
      "http://www.omdbapi.com/?apikey=d3c396b5&t=Barbie\n"
     ]
    }
   ],
   "source": [
    "api_key = \"d3c396b5\"\n",
    "url = f\"http://www.omdbapi.com/?apikey={api_key}&t=Barbie\"\n",
    "print(url)"
   ]
  },
  {
   "cell_type": "code",
   "execution_count": 16,
   "id": "c126a724",
   "metadata": {},
   "outputs": [
    {
     "name": "stdout",
     "output_type": "stream",
     "text": [
      "{\n",
      "    \"Actors\": \"Margot Robbie, Ryan Gosling, Issa Rae\",\n",
      "    \"Awards\": \"Won 1 Oscar. 209 wins & 434 nominations total\",\n",
      "    \"BoxOffice\": \"$636,238,421\",\n",
      "    \"Country\": \"United States, United Kingdom\",\n",
      "    \"DVD\": \"N/A\",\n",
      "    \"Director\": \"Greta Gerwig\",\n",
      "    \"Genre\": \"Adventure, Comedy, Fantasy\",\n",
      "    \"Language\": \"English, Spanish\",\n",
      "    \"Metascore\": \"80\",\n",
      "    \"Plot\": \"Barbie and Ken are having the time of their lives in the seemingly perfect world of Barbie Land. However, when they get a chance to go to the outside world, they soon discover the joys and perils of living among regular humans.\",\n",
      "    \"Poster\": \"https://m.media-amazon.com/images/M/MV5BYjI3NDU0ZGYtYjA2YS00Y2RlLTgwZDAtYTE2YTM5ZjE1M2JlXkEyXkFqcGc@._V1_SX300.jpg\",\n",
      "    \"Production\": \"N/A\",\n",
      "    \"Rated\": \"PG-13\",\n",
      "    \"Ratings\": [\n",
      "        {\n",
      "            \"Source\": \"Internet Movie Database\",\n",
      "            \"Value\": \"6.8/10\"\n",
      "        },\n",
      "        {\n",
      "            \"Source\": \"Rotten Tomatoes\",\n",
      "            \"Value\": \"88%\"\n",
      "        },\n",
      "        {\n",
      "            \"Source\": \"Metacritic\",\n",
      "            \"Value\": \"80/100\"\n",
      "        }\n",
      "    ],\n",
      "    \"Released\": \"21 Jul 2023\",\n",
      "    \"Response\": \"True\",\n",
      "    \"Runtime\": \"114 min\",\n",
      "    \"Title\": \"Barbie\",\n",
      "    \"Type\": \"movie\",\n",
      "    \"Website\": \"N/A\",\n",
      "    \"Writer\": \"Greta Gerwig, Noah Baumbach\",\n",
      "    \"Year\": \"2023\",\n",
      "    \"imdbID\": \"tt1517268\",\n",
      "    \"imdbRating\": \"6.8\",\n",
      "    \"imdbVotes\": \"617,252\"\n",
      "}\n"
     ]
    }
   ],
   "source": [
    "response = requests.get(url).json()\n",
    "# print(response)\n",
    "print(json.dumps(response, indent=4, sort_keys=True))"
   ]
  },
  {
   "cell_type": "code",
   "execution_count": 18,
   "id": "6f490e6d",
   "metadata": {},
   "outputs": [
    {
     "name": "stdout",
     "output_type": "stream",
     "text": [
      "Barbie and Ken are having the time of their lives in the seemingly perfect world of Barbie Land. However, when they get a chance to go to the outside world, they soon discover the joys and perils of living among regular humans.\n"
     ]
    }
   ],
   "source": [
    "print(response['Plot'])"
   ]
  },
  {
   "cell_type": "code",
   "execution_count": 21,
   "id": "5fe7db83",
   "metadata": {},
   "outputs": [
    {
     "name": "stdout",
     "output_type": "stream",
     "text": [
      "Internet Movie Database:\n",
      "6.8/10\n",
      "\n",
      "Rotten Tomatoes:\n",
      "88%\n",
      "\n",
      "Metacritic:\n",
      "80/100\n",
      "\n"
     ]
    }
   ],
   "source": [
    "for ratings in response['Ratings']:\n",
    "    print(ratings[\"Source\"] + \":\")\n",
    "    print(ratings[\"Value\"])\n",
    "    print()"
   ]
  }
 ],
 "metadata": {
  "kernelspec": {
   "display_name": "TechCatalyst_DE_2025_TWO",
   "language": "python",
   "name": "python3"
  },
  "language_info": {
   "codemirror_mode": {
    "name": "ipython",
    "version": 3
   },
   "file_extension": ".py",
   "mimetype": "text/x-python",
   "name": "python",
   "nbconvert_exporter": "python",
   "pygments_lexer": "ipython3",
   "version": "3.12.10"
  }
 },
 "nbformat": 4,
 "nbformat_minor": 5
}
