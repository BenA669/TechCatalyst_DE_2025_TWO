{
 "cells": [
  {
   "cell_type": "code",
   "execution_count": 1,
   "metadata": {},
   "outputs": [],
   "source": [
    "# Dependencies\n",
    "import requests\n",
    "from config import api_key\n",
    "\n",
    "url = f\"http://www.omdbapi.com/?apikey={api_key}&t=\""
   ]
  },
  {
   "cell_type": "code",
   "execution_count": 2,
   "metadata": {},
   "outputs": [
    {
     "name": "stdout",
     "output_type": "stream",
     "text": [
      "James Cameron\n"
     ]
    }
   ],
   "source": [
    "# Who was the director of the movie Aliens?\n",
    "get_url = url + \"Aliens\"\n",
    "response_director = requests.get(get_url).json()[\"Director\"]\n",
    "print(response_director)"
   ]
  },
  {
   "cell_type": "code",
   "execution_count": 4,
   "metadata": {
    "scrolled": true
   },
   "outputs": [
    {
     "name": "stdout",
     "output_type": "stream",
     "text": [
      "{'Source': 'Internet Movie Database', 'Value': '6.5/10'}\n"
     ]
    }
   ],
   "source": [
    "# What was the movie Gladiator rated?\n",
    "get_url = url + \"Gladiators\"\n",
    "response_rating = requests.get(get_url).json()[\"Ratings\"][0]\n",
    "print(response_rating)"
   ]
  },
  {
   "cell_type": "code",
   "execution_count": 5,
   "metadata": {},
   "outputs": [
    {
     "name": "stdout",
     "output_type": "stream",
     "text": [
      "2004\n"
     ]
    }
   ],
   "source": [
    "# What year was 50 First Dates released?\n",
    "get_url = url + \"50 First Dates\"\n",
    "response_year = requests.get(get_url).json()[\"Year\"]\n",
    "print(response_year)"
   ]
  },
  {
   "cell_type": "code",
   "execution_count": 6,
   "metadata": {
    "scrolled": true
   },
   "outputs": [
    {
     "name": "stdout",
     "output_type": "stream",
     "text": [
      "Jared Bush, Ron Clements, John Musker\n"
     ]
    }
   ],
   "source": [
    "# Who wrote Moana?\n",
    "get_url = url + \"Moana\"\n",
    "response_wrote = requests.get(get_url).json()[\"Writer\"]\n",
    "print(response_wrote)"
   ]
  },
  {
   "cell_type": "code",
   "execution_count": 8,
   "metadata": {
    "scrolled": true
   },
   "outputs": [
    {
     "name": "stdout",
     "output_type": "stream",
     "text": [
      "In a city of humanoid animals, a hustling theater impresario's attempt to save his theater with a singing competition becomes grander than he anticipates even as its finalists find that their lives will never be the same.\n"
     ]
    }
   ],
   "source": [
    "# What was the plot of the movie Sing?\n",
    "get_url = url + \"Sing\"\n",
    "response_plot = requests.get(get_url).json()[\"Plot\"]\n",
    "print(response_plot)"
   ]
  }
 ],
 "metadata": {
  "kernelspec": {
   "display_name": "TechCatalyst_DE_2025_TWO",
   "language": "python",
   "name": "python3"
  },
  "language_info": {
   "codemirror_mode": {
    "name": "ipython",
    "version": 3
   },
   "file_extension": ".py",
   "mimetype": "text/x-python",
   "name": "python",
   "nbconvert_exporter": "python",
   "pygments_lexer": "ipython3",
   "version": "3.12.10"
  },
  "varInspector": {
   "cols": {
    "lenName": 16,
    "lenType": 16,
    "lenVar": 40
   },
   "kernels_config": {
    "python": {
     "delete_cmd_postfix": "",
     "delete_cmd_prefix": "del ",
     "library": "var_list.py",
     "varRefreshCmd": "print(var_dic_list())"
    },
    "r": {
     "delete_cmd_postfix": ") ",
     "delete_cmd_prefix": "rm(",
     "library": "var_list.r",
     "varRefreshCmd": "cat(var_dic_list()) "
    }
   },
   "types_to_exclude": [
    "module",
    "function",
    "builtin_function_or_method",
    "instance",
    "_Feature"
   ],
   "window_display": false
  }
 },
 "nbformat": 4,
 "nbformat_minor": 2
}
