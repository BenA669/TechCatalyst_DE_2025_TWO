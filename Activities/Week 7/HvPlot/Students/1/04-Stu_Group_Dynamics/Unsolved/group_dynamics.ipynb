{
 "cells": [
  {
   "cell_type": "markdown",
   "metadata": {},
   "source": [
    "# Group Dynamics\n",
    "\n",
    "In this activity, you’ll use the Pandas `groupby` function to calculate the aggregate statistics of a DataFrame.\n",
    "\n",
    "Instructions:\n",
    "\n",
    "1. Import `crypto_data.csv` into a Pandas DataFrame by using `read_csv`. Set the index as `data_date`. Be sure to include the `parse_dates` and `infer_datetime_format` parameters. Review the first five rows of the DataFrame.\n",
    "\n",
    "2. Drop the `data_time` and `timestamp` columns from the DataFrame. Remove any missing values from the remaining columns. Review the first five rows of the cleaned DataFrame.\n",
    "\n",
    "3. Group the DataFrame by `cryptocurrency`, and then plot the `data_priceUsd` for each cryptocurrency on a single plot.\n",
    "\n",
    "4. Calculate the `average` price across two years for each cryptocurrency.\n",
    "\n",
    "5. Calculate the `max` price across two years for each cryptocurrency.\n",
    "\n",
    "6. Calculate the `min` price across two years for each cryptocurrency.\n",
    "\n",
    "7. Answer the following questions in your Jupyter notebook:\n",
    "\n",
    "    * Which cryptocurrency do you recommend investing in?\n",
    "\n",
    "    * Which cryptocurrency had the largest swing in prices?\n",
    "\n",
    "References:\n",
    "\n",
    "[Pandas groupby](https://pandas.pydata.org/pandas-docs/stable/reference/api/pandas.DataFrame.groupby.html)\n"
   ]
  },
  {
   "cell_type": "code",
   "execution_count": 2,
   "metadata": {},
   "outputs": [],
   "source": [
    "# Import the required libraries and dependencies\n",
    "import pandas as pd\n",
    "from pathlib import Path"
   ]
  },
  {
   "cell_type": "markdown",
   "metadata": {},
   "source": [
    "## Step 1: Import `crypto_data.csv` into a Pandas DataFrame by using `read_csv`. Set the index as `data_date`. Be sure to include the `parse_dates` and `infer_datetime_format` parameters. Review the first five rows of the DataFrame."
   ]
  },
  {
   "cell_type": "code",
   "execution_count": 3,
   "metadata": {},
   "outputs": [
    {
     "name": "stderr",
     "output_type": "stream",
     "text": [
      "C:\\Users\\Benja\\AppData\\Local\\Temp\\ipykernel_30080\\2226178532.py:3: FutureWarning: The argument 'infer_datetime_format' is deprecated and will be removed in a future version. A strict version of it is now the default, see https://pandas.pydata.org/pdeps/0004-consistent-to-datetime-parsing.html. You can safely remove this argument.\n",
      "  crypto_data_df = pd.read_csv('../Resources/crypto_data.csv', index_col='data_date', parse_dates=True, infer_datetime_format=True)\n"
     ]
    },
    {
     "data": {
      "text/html": [
       "<div>\n",
       "<style scoped>\n",
       "    .dataframe tbody tr th:only-of-type {\n",
       "        vertical-align: middle;\n",
       "    }\n",
       "\n",
       "    .dataframe tbody tr th {\n",
       "        vertical-align: top;\n",
       "    }\n",
       "\n",
       "    .dataframe thead th {\n",
       "        text-align: right;\n",
       "    }\n",
       "</style>\n",
       "<table border=\"1\" class=\"dataframe\">\n",
       "  <thead>\n",
       "    <tr style=\"text-align: right;\">\n",
       "      <th></th>\n",
       "      <th>cryptocurrency</th>\n",
       "      <th>data_priceUsd</th>\n",
       "      <th>data_time</th>\n",
       "      <th>timestamp</th>\n",
       "    </tr>\n",
       "    <tr>\n",
       "      <th>data_date</th>\n",
       "      <th></th>\n",
       "      <th></th>\n",
       "      <th></th>\n",
       "      <th></th>\n",
       "    </tr>\n",
       "  </thead>\n",
       "  <tbody>\n",
       "    <tr>\n",
       "      <th>2017-05-09</th>\n",
       "      <td>bitcoin</td>\n",
       "      <td>NaN</td>\n",
       "      <td>1.494288e+12</td>\n",
       "      <td>1.557285e+12</td>\n",
       "    </tr>\n",
       "    <tr>\n",
       "      <th>2017-05-10</th>\n",
       "      <td>bitcoin</td>\n",
       "      <td>1743.723523</td>\n",
       "      <td>1.494374e+12</td>\n",
       "      <td>NaN</td>\n",
       "    </tr>\n",
       "    <tr>\n",
       "      <th>2017-05-11</th>\n",
       "      <td>bitcoin</td>\n",
       "      <td>1828.678209</td>\n",
       "      <td>1.494461e+12</td>\n",
       "      <td>NaN</td>\n",
       "    </tr>\n",
       "    <tr>\n",
       "      <th>2017-05-12</th>\n",
       "      <td>bitcoin</td>\n",
       "      <td>1776.443919</td>\n",
       "      <td>1.494547e+12</td>\n",
       "      <td>NaN</td>\n",
       "    </tr>\n",
       "    <tr>\n",
       "      <th>2017-05-13</th>\n",
       "      <td>bitcoin</td>\n",
       "      <td>1714.964198</td>\n",
       "      <td>1.494634e+12</td>\n",
       "      <td>NaN</td>\n",
       "    </tr>\n",
       "  </tbody>\n",
       "</table>\n",
       "</div>"
      ],
      "text/plain": [
       "           cryptocurrency  data_priceUsd     data_time     timestamp\n",
       "data_date                                                           \n",
       "2017-05-09        bitcoin            NaN  1.494288e+12  1.557285e+12\n",
       "2017-05-10        bitcoin    1743.723523  1.494374e+12           NaN\n",
       "2017-05-11        bitcoin    1828.678209  1.494461e+12           NaN\n",
       "2017-05-12        bitcoin    1776.443919  1.494547e+12           NaN\n",
       "2017-05-13        bitcoin    1714.964198  1.494634e+12           NaN"
      ]
     },
     "execution_count": 3,
     "metadata": {},
     "output_type": "execute_result"
    }
   ],
   "source": [
    "# Using the read_csv function and the Path module, read in the crypto_data.csv file\n",
    "# Use the 'data_date' column as the index. Include the parse_dates and infer_datetime_format parameters.\n",
    "crypto_data_df = pd.read_csv('../Resources/crypto_data.csv', index_col='data_date', parse_dates=True, infer_datetime_format=True)\n",
    "\n",
    "# Review the first five rows of the DataFrame\n",
    "crypto_data_df.head()\n"
   ]
  },
  {
   "cell_type": "markdown",
   "metadata": {},
   "source": [
    "## Step 2: Drop the `data_time` and `timestamp` columns from the DataFrame. Remove any missing values from the remaining columns. Review the first five rows of the cleaned DataFrame."
   ]
  },
  {
   "cell_type": "code",
   "execution_count": 4,
   "metadata": {},
   "outputs": [
    {
     "data": {
      "text/html": [
       "<div>\n",
       "<style scoped>\n",
       "    .dataframe tbody tr th:only-of-type {\n",
       "        vertical-align: middle;\n",
       "    }\n",
       "\n",
       "    .dataframe tbody tr th {\n",
       "        vertical-align: top;\n",
       "    }\n",
       "\n",
       "    .dataframe thead th {\n",
       "        text-align: right;\n",
       "    }\n",
       "</style>\n",
       "<table border=\"1\" class=\"dataframe\">\n",
       "  <thead>\n",
       "    <tr style=\"text-align: right;\">\n",
       "      <th></th>\n",
       "      <th>cryptocurrency</th>\n",
       "      <th>data_priceUsd</th>\n",
       "      <th>data_time</th>\n",
       "    </tr>\n",
       "    <tr>\n",
       "      <th>data_date</th>\n",
       "      <th></th>\n",
       "      <th></th>\n",
       "      <th></th>\n",
       "    </tr>\n",
       "  </thead>\n",
       "  <tbody>\n",
       "    <tr>\n",
       "      <th>2017-05-10</th>\n",
       "      <td>bitcoin</td>\n",
       "      <td>1743.723523</td>\n",
       "      <td>1.494374e+12</td>\n",
       "    </tr>\n",
       "    <tr>\n",
       "      <th>2017-05-11</th>\n",
       "      <td>bitcoin</td>\n",
       "      <td>1828.678209</td>\n",
       "      <td>1.494461e+12</td>\n",
       "    </tr>\n",
       "    <tr>\n",
       "      <th>2017-05-12</th>\n",
       "      <td>bitcoin</td>\n",
       "      <td>1776.443919</td>\n",
       "      <td>1.494547e+12</td>\n",
       "    </tr>\n",
       "    <tr>\n",
       "      <th>2017-05-13</th>\n",
       "      <td>bitcoin</td>\n",
       "      <td>1714.964198</td>\n",
       "      <td>1.494634e+12</td>\n",
       "    </tr>\n",
       "    <tr>\n",
       "      <th>2017-05-14</th>\n",
       "      <td>bitcoin</td>\n",
       "      <td>1789.278913</td>\n",
       "      <td>1.494720e+12</td>\n",
       "    </tr>\n",
       "    <tr>\n",
       "      <th>...</th>\n",
       "      <td>...</td>\n",
       "      <td>...</td>\n",
       "      <td>...</td>\n",
       "    </tr>\n",
       "    <tr>\n",
       "      <th>2019-05-03</th>\n",
       "      <td>litecoin</td>\n",
       "      <td>76.435295</td>\n",
       "      <td>1.556842e+12</td>\n",
       "    </tr>\n",
       "    <tr>\n",
       "      <th>2019-05-04</th>\n",
       "      <td>litecoin</td>\n",
       "      <td>77.011308</td>\n",
       "      <td>1.556928e+12</td>\n",
       "    </tr>\n",
       "    <tr>\n",
       "      <th>2019-05-05</th>\n",
       "      <td>litecoin</td>\n",
       "      <td>75.974875</td>\n",
       "      <td>1.557014e+12</td>\n",
       "    </tr>\n",
       "    <tr>\n",
       "      <th>2019-05-06</th>\n",
       "      <td>litecoin</td>\n",
       "      <td>73.722948</td>\n",
       "      <td>1.557101e+12</td>\n",
       "    </tr>\n",
       "    <tr>\n",
       "      <th>2019-05-07</th>\n",
       "      <td>litecoin</td>\n",
       "      <td>75.566057</td>\n",
       "      <td>1.557187e+12</td>\n",
       "    </tr>\n",
       "  </tbody>\n",
       "</table>\n",
       "<p>3530 rows × 3 columns</p>\n",
       "</div>"
      ],
      "text/plain": [
       "           cryptocurrency  data_priceUsd     data_time\n",
       "data_date                                             \n",
       "2017-05-10        bitcoin    1743.723523  1.494374e+12\n",
       "2017-05-11        bitcoin    1828.678209  1.494461e+12\n",
       "2017-05-12        bitcoin    1776.443919  1.494547e+12\n",
       "2017-05-13        bitcoin    1714.964198  1.494634e+12\n",
       "2017-05-14        bitcoin    1789.278913  1.494720e+12\n",
       "...                   ...            ...           ...\n",
       "2019-05-03       litecoin      76.435295  1.556842e+12\n",
       "2019-05-04       litecoin      77.011308  1.556928e+12\n",
       "2019-05-05       litecoin      75.974875  1.557014e+12\n",
       "2019-05-06       litecoin      73.722948  1.557101e+12\n",
       "2019-05-07       litecoin      75.566057  1.557187e+12\n",
       "\n",
       "[3530 rows x 3 columns]"
      ]
     },
     "execution_count": 4,
     "metadata": {},
     "output_type": "execute_result"
    }
   ],
   "source": [
    "# Drop the data_time and timestamp columns\n",
    "crypto_data_df = crypto_data_df[['cryptocurrency', 'data_priceUsd', 'data_time']]\n",
    "\n",
    "# Remove any rows with missing values\n",
    "crypto_data_df = crypto_data_df.dropna()\n",
    "\n",
    "# Review the first five rows of the cleaned DataFrame\n",
    "crypto_data_df\n"
   ]
  },
  {
   "cell_type": "markdown",
   "metadata": {},
   "source": [
    "## Step 3: Group the DataFrame by `cryptocurrency`, and then plot the `data_priceUsd` for each cryptocurrency on a single plot."
   ]
  },
  {
   "cell_type": "code",
   "execution_count": 11,
   "metadata": {},
   "outputs": [
    {
     "data": {
      "text/plain": [
       "cryptocurrency\n",
       "bitcoin         Axes(0.125,0.2;0.775x0.68)\n",
       "bitcoin-cash    Axes(0.125,0.2;0.775x0.68)\n",
       "ethereum        Axes(0.125,0.2;0.775x0.68)\n",
       "litecoin        Axes(0.125,0.2;0.775x0.68)\n",
       "ripple          Axes(0.125,0.2;0.775x0.68)\n",
       "Name: data_priceUsd, dtype: object"
      ]
     },
     "execution_count": 11,
     "metadata": {},
     "output_type": "execute_result"
    },
    {
     "data": {
      "image/png": "[encoded data removed]",
      "text/plain": [
       "<Figure size 1000x600 with 1 Axes>"
      ]
     },
     "metadata": {},
     "output_type": "display_data"
    }
   ],
   "source": [
    "# Group the DataFrame by cryptocurrency and then plot the data_priceUSD\n",
    "# The plot should include parameters for legend and figsize.\n",
    "crypto_data_plot = crypto_data_df.groupby(by='cryptocurrency')['data_priceUsd']\n",
    "\n",
    "# View the plot\n",
    "crypto_data_plot.plot(legend=True, figsize=(10,6))"
   ]
  },
  {
   "cell_type": "markdown",
   "metadata": {},
   "source": [
    "## Step 4: Calculate the `average` price across two years for each cryptocurrency."
   ]
  },
  {
   "cell_type": "code",
   "execution_count": 13,
   "metadata": {},
   "outputs": [
    {
     "data": {
      "text/plain": [
       "cryptocurrency\n",
       "bitcoin         6320.637929\n",
       "bitcoin-cash     733.166693\n",
       "ethereum         367.691122\n",
       "litecoin          85.618264\n",
       "ripple             0.475986\n",
       "Name: data_priceUsd, dtype: float64"
      ]
     },
     "execution_count": 13,
     "metadata": {},
     "output_type": "execute_result"
    }
   ],
   "source": [
    "# Determine average price, or mean, for each cryptocurrency\n",
    "crypto_data_avg = crypto_data_df.groupby(by='cryptocurrency')['data_priceUsd'].mean()\n",
    "\n",
    "# View the resulting Series\n",
    "crypto_data_avg\n"
   ]
  },
  {
   "cell_type": "markdown",
   "metadata": {},
   "source": [
    "## Step 5: Calculate the `max` price across two years for each cryptocurrency."
   ]
  },
  {
   "cell_type": "code",
   "execution_count": 14,
   "metadata": {},
   "outputs": [
    {
     "data": {
      "text/plain": [
       "cryptocurrency\n",
       "bitcoin         19339.922660\n",
       "bitcoin-cash     3476.844119\n",
       "ethereum         1346.037491\n",
       "litecoin          352.713468\n",
       "ripple              2.999459\n",
       "Name: data_priceUsd, dtype: float64"
      ]
     },
     "execution_count": 14,
     "metadata": {},
     "output_type": "execute_result"
    }
   ],
   "source": [
    "# Determine max price for each cryptocurrency\n",
    "crypto_data_max = crypto_data_df.groupby(by='cryptocurrency')['data_priceUsd'].max()\n",
    "\n",
    "# View the resulting Series\n",
    "crypto_data_max\n"
   ]
  },
  {
   "cell_type": "markdown",
   "metadata": {},
   "source": [
    "## Step 6: Calculate the `min` price across two years for each cryptocurrency."
   ]
  },
  {
   "cell_type": "code",
   "execution_count": 15,
   "metadata": {},
   "outputs": [
    {
     "data": {
      "text/plain": [
       "cryptocurrency\n",
       "bitcoin         1714.964198\n",
       "bitcoin-cash      78.977344\n",
       "ethereum          84.374014\n",
       "litecoin          22.550468\n",
       "ripple             0.154144\n",
       "Name: data_priceUsd, dtype: float64"
      ]
     },
     "execution_count": 15,
     "metadata": {},
     "output_type": "execute_result"
    }
   ],
   "source": [
    "# Determine min price for each cryptocurrency\n",
    "crypto_data_min = crypto_data_df.groupby(by='cryptocurrency')['data_priceUsd'].min()\n",
    "\n",
    "# View the resulting Series\n",
    "crypto_data_min"
   ]
  },
  {
   "cell_type": "markdown",
   "metadata": {},
   "source": [
    "## Step 7: Answer the following questions:"
   ]
  },
  {
   "cell_type": "markdown",
   "metadata": {},
   "source": [
    "**Question:** Which cryptocurrency had the largest swing in prices?\n",
    "\n",
    "**Answer:**  BITCOIN\n"
   ]
  },
  {
   "cell_type": "markdown",
   "metadata": {},
   "source": [
    "**Question:** Which cryptocurrency do you recommend investing in?\n",
    "\n",
    "**Answer:**  BITCOIN"
   ]
  },
  {
   "cell_type": "code",
   "execution_count": null,
   "metadata": {},
   "outputs": [],
   "source": []
  }
 ],
 "metadata": {
  "kernelspec": {
   "display_name": "viz",
   "language": "python",
   "name": "python3"
  },
  "language_info": {
   "codemirror_mode": {
    "name": "ipython",
    "version": 3
   },
   "file_extension": ".py",
   "mimetype": "text/x-python",
   "name": "python",
   "nbconvert_exporter": "python",
   "pygments_lexer": "ipython3",
   "version": "3.11.13"
  }
 },
 "nbformat": 4,
 "nbformat_minor": 4
}
