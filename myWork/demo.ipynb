{
 "cells": [
  {
   "cell_type": "markdown",
   "id": "a6c78369",
   "metadata": {},
   "source": [
    "# Boto3 Demo"
   ]
  },
  {
   "cell_type": "code",
   "execution_count": 6,
   "id": "ae3f4363",
   "metadata": {},
   "outputs": [
    {
     "data": {
      "text/plain": [
       "True"
      ]
     },
     "execution_count": 6,
     "metadata": {},
     "output_type": "execute_result"
    }
   ],
   "source": [
    "from dotenv import load_dotenv\n",
    "import awswrangler as wr\n",
    "\n",
    "load_dotenv()"
   ]
  },
  {
   "cell_type": "code",
   "execution_count": 7,
   "id": "42e8c858",
   "metadata": {},
   "outputs": [
    {
     "name": "stdout",
     "output_type": "stream",
     "text": [
      "{'Name': 'capstone-techcatalyst-conformed', 'CreationDate': datetime.datetime(2024, 7, 29, 6, 25, 28, tzinfo=tzutc())}\n",
      "{'Name': 'capstone-techcatalyst-raw', 'CreationDate': datetime.datetime(2024, 7, 29, 6, 24, 10, tzinfo=tzutc())}\n",
      "{'Name': 'capstone-techcatalyst-transformed', 'CreationDate': datetime.datetime(2024, 7, 29, 6, 24, 27, tzinfo=tzutc())}\n",
      "{'Name': 'techcatalyst-public', 'CreationDate': datetime.datetime(2025, 7, 28, 7, 58, 2, tzinfo=tzutc())}\n",
      "{'Name': 'techcatalyst-raw', 'CreationDate': datetime.datetime(2025, 7, 10, 11, 53, 53, tzinfo=tzutc())}\n",
      "{'Name': 'techcatalyst-transformed', 'CreationDate': datetime.datetime(2024, 8, 8, 13, 7, 41, tzinfo=tzutc())}\n"
     ]
    }
   ],
   "source": [
    "import boto3 \n",
    "\n",
    "s3_client = boto3.client('s3')\n",
    "for i in s3_client.list_buckets()[\"Buckets\"]:\n",
    "    if \"techcat\" in i['Name']:\n",
    "        print(i)"
   ]
  },
  {
   "cell_type": "code",
   "execution_count": 8,
   "id": "0c0ae9a0",
   "metadata": {},
   "outputs": [
    {
     "name": "stdout",
     "output_type": "stream",
     "text": [
      "accidents/accidents_2017_to_2023_english.csv\n",
      "stage/yellow_tripdata.csv\n",
      "stocks/GOOG.csv\n",
      "tatwan/GOOG.csv\n",
      "tatwan/GOOG_NEW.csv\n"
     ]
    }
   ],
   "source": [
    "all_obj = s3_client.list_objects(Bucket='techcatalyst-raw')\n",
    "for obj in all_obj['Contents']:\n",
    "    if obj[\"Key\"].endswith('.csv'):\n",
    "        print(obj[\"Key\"])"
   ]
  },
  {
   "cell_type": "code",
   "execution_count": 9,
   "id": "6677fbbb",
   "metadata": {},
   "outputs": [
    {
     "name": "stdout",
     "output_type": "stream",
     "text": [
      "['BLAKE/test_export', 'parquet']\n",
      "['Ben/Million_Songs/']\n",
      "['Ben/test_export', 'parquet']\n",
      "['EMMA/test_export', 'parquet']\n",
      "['MELISSA/test_export', 'parquet']\n",
      "['MillionSongSubset/']\n",
      "['MillionSongSubset/log-data/2018-11-01-events', 'json']\n",
      "['MillionSongSubset/log-data/2018-11-02-events', 'json']\n",
      "['MillionSongSubset/log-data/2018-11-03-events', 'json']\n",
      "['MillionSongSubset/log-data/2018-11-04-events', 'json']\n",
      "['MillionSongSubset/log-data/2018-11-05-events', 'json']\n",
      "['MillionSongSubset/log-data/2018-11-06-events', 'json']\n",
      "['MillionSongSubset/log-data/2018-11-07-events', 'json']\n",
      "['MillionSongSubset/log-data/2018-11-08-events', 'json']\n",
      "['MillionSongSubset/log-data/2018-11-09-events', 'json']\n",
      "['MillionSongSubset/log-data/2018-11-10-events', 'json']\n",
      "['MillionSongSubset/log-data/2018-11-11-events', 'json']\n",
      "['MillionSongSubset/log-data/2018-11-12-events', 'json']\n",
      "['MillionSongSubset/log-data/2018-11-13-events', 'json']\n",
      "['MillionSongSubset/log-data/2018-11-14-events', 'json']\n",
      "['MillionSongSubset/log-data/2018-11-15-events', 'json']\n",
      "['MillionSongSubset/log-data/2018-11-16-events', 'json']\n",
      "['MillionSongSubset/log-data/2018-11-17-events', 'json']\n",
      "['MillionSongSubset/log-data/2018-11-18-events', 'json']\n",
      "['MillionSongSubset/log-data/2018-11-19-events', 'json']\n",
      "['MillionSongSubset/log-data/2018-11-20-events', 'json']\n",
      "['MillionSongSubset/log-data/2018-11-21-events', 'json']\n",
      "['MillionSongSubset/log-data/2018-11-22-events', 'json']\n",
      "['MillionSongSubset/log-data/2018-11-23-events', 'json']\n",
      "['MillionSongSubset/log-data/2018-11-24-events', 'json']\n",
      "['MillionSongSubset/log-data/2018-11-25-events', 'json']\n",
      "['MillionSongSubset/log-data/2018-11-26-events', 'json']\n",
      "['MillionSongSubset/log-data/2018-11-27-events', 'json']\n",
      "['MillionSongSubset/log-data/2018-11-28-events', 'json']\n",
      "['MillionSongSubset/log-data/2018-11-29-events', 'json']\n",
      "['MillionSongSubset/log-data/2018-11-30-events', 'json']\n",
      "['MillionSongSubset/song_data/A/A/A/TRAAAAW128F429D538', 'json']\n",
      "['MillionSongSubset/song_data/A/A/A/TRAAABD128F429CF47', 'json']\n",
      "['MillionSongSubset/song_data/A/A/A/TRAAADZ128F9348C2E', 'json']\n",
      "['MillionSongSubset/song_data/A/A/A/TRAAAEF128F4273421', 'json']\n",
      "['MillionSongSubset/song_data/A/A/A/TRAAAFD128F92F423A', 'json']\n",
      "['MillionSongSubset/song_data/A/A/A/TRAAAMO128F1481E7F', 'json']\n",
      "['MillionSongSubset/song_data/A/A/A/TRAAAMQ128F1460CD3', 'json']\n",
      "['MillionSongSubset/song_data/A/A/A/TRAAAPK128E0786D96', 'json']\n",
      "['MillionSongSubset/song_data/A/A/A/TRAAARJ128F9320760', 'json']\n",
      "['MillionSongSubset/song_data/A/A/A/TRAAAVG12903CFA543', 'json']\n",
      "['MillionSongSubset/song_data/A/A/A/TRAAAVO128F93133D4', 'json']\n",
      "['MillionSongSubset/song_data/A/A/B/TRAABCL128F4286650', 'json']\n",
      "['MillionSongSubset/song_data/A/A/B/TRAABDL12903CAABBA', 'json']\n",
      "['MillionSongSubset/song_data/A/A/B/TRAABJL12903CDCF1A', 'json']\n",
      "['MillionSongSubset/song_data/A/A/B/TRAABJV128F1460C49', 'json']\n",
      "['MillionSongSubset/song_data/A/A/B/TRAABLR128F423B7E3', 'json']\n",
      "['MillionSongSubset/song_data/A/A/B/TRAABNV128F425CEE1', 'json']\n",
      "['MillionSongSubset/song_data/A/A/B/TRAABRB128F9306DD5', 'json']\n",
      "['MillionSongSubset/song_data/A/A/B/TRAABVM128F92CA9DC', 'json']\n",
      "['MillionSongSubset/song_data/A/A/B/TRAABXG128F9318EBD', 'json']\n",
      "['MillionSongSubset/song_data/A/A/B/TRAABYN12903CFD305', 'json']\n",
      "['MillionSongSubset/song_data/A/A/B/TRAABYW128F4244559', 'json']\n",
      "['MillionSongSubset/song_data/A/A/C/TRAACCG128F92E8A55', 'json']\n",
      "['MillionSongSubset/song_data/A/A/C/TRAACER128F4290F96', 'json']\n",
      "['MillionSongSubset/song_data/A/A/C/TRAACFV128F935E50B', 'json']\n",
      "['MillionSongSubset/song_data/A/A/C/TRAACHN128F1489601', 'json']\n",
      "['MillionSongSubset/song_data/A/A/C/TRAACIW12903CC0F6D', 'json']\n",
      "['MillionSongSubset/song_data/A/A/C/TRAACLV128F427E123', 'json']\n",
      "['MillionSongSubset/song_data/A/A/C/TRAACNS128F14A2DF5', 'json']\n",
      "['MillionSongSubset/song_data/A/A/C/TRAACOW128F933E35F', 'json']\n",
      "['MillionSongSubset/song_data/A/A/C/TRAACPE128F421C1B9', 'json']\n",
      "['MillionSongSubset/song_data/A/A/C/TRAACQT128F9331780', 'json']\n",
      "['MillionSongSubset/song_data/A/A/C/TRAACSL128F93462F4', 'json']\n",
      "['MillionSongSubset/song_data/A/A/C/TRAACTB12903CAAF15', 'json']\n",
      "['MillionSongSubset/song_data/A/A/C/TRAACVS128E078BE39', 'json']\n",
      "['MillionSongSubset/song_data/A/A/C/TRAACZK128F4243829', 'json']\n",
      "['MillionSongSubset/song_data/A/B/A/TRABACN128F425B784', 'json']\n",
      "['MillionSongSubset/song_data/A/B/A/TRABAFJ128F42AF24E', 'json']\n",
      "['MillionSongSubset/song_data/A/B/A/TRABAFP128F931E9A1', 'json']\n",
      "['MillionSongSubset/song_data/A/B/A/TRABAIO128F42938F9', 'json']\n",
      "['MillionSongSubset/song_data/A/B/A/TRABATO128F42627E9', 'json']\n",
      "['MillionSongSubset/song_data/A/B/A/TRABAVQ12903CBF7E0', 'json']\n",
      "['MillionSongSubset/song_data/A/B/A/TRABAWW128F4250A31', 'json']\n",
      "['MillionSongSubset/song_data/A/B/A/TRABAXL128F424FC50', 'json']\n",
      "['MillionSongSubset/song_data/A/B/A/TRABAXR128F426515F', 'json']\n",
      "['MillionSongSubset/song_data/A/B/A/TRABAXV128F92F6AE3', 'json']\n",
      "['MillionSongSubset/song_data/A/B/A/TRABAZH128F930419A', 'json']\n",
      "['MillionSongSubset/song_data/A/B/B/TRABBAM128F429D223', 'json']\n",
      "['MillionSongSubset/song_data/A/B/B/TRABBBV128F42967D7', 'json']\n",
      "['MillionSongSubset/song_data/A/B/B/TRABBJE12903CDB442', 'json']\n",
      "['MillionSongSubset/song_data/A/B/B/TRABBKX128F4285205', 'json']\n",
      "['MillionSongSubset/song_data/A/B/B/TRABBLU128F93349CF', 'json']\n",
      "['MillionSongSubset/song_data/A/B/B/TRABBNP128F932546F', 'json']\n",
      "['MillionSongSubset/song_data/A/B/B/TRABBOP128F931B50D', 'json']\n",
      "['MillionSongSubset/song_data/A/B/B/TRABBOR128F4286200', 'json']\n",
      "['MillionSongSubset/song_data/A/B/B/TRABBTA128F933D304', 'json']\n",
      "['MillionSongSubset/song_data/A/B/B/TRABBVJ128F92F7EAA', 'json']\n",
      "['MillionSongSubset/song_data/A/B/B/TRABBXU128F92FEF48', 'json']\n",
      "['MillionSongSubset/song_data/A/B/B/TRABBZN12903CD9297', 'json']\n",
      "['MillionSongSubset/song_data/A/B/C/TRABCAJ12903CDFCC2', 'json']\n",
      "['MillionSongSubset/song_data/A/B/C/TRABCEC128F426456E', 'json']\n",
      "['MillionSongSubset/song_data/A/B/C/TRABCEI128F424C983', 'json']\n",
      "['MillionSongSubset/song_data/A/B/C/TRABCFL128F149BB0D', 'json']\n",
      "['MillionSongSubset/song_data/A/B/C/TRABCIX128F4265903', 'json']\n",
      "['MillionSongSubset/song_data/A/B/C/TRABCKL128F423A778', 'json']\n",
      "['MillionSongSubset/song_data/A/B/C/TRABCPZ128F4275C32', 'json']\n",
      "['MillionSongSubset/song_data/A/B/C/TRABCRU128F423F449', 'json']\n",
      "['MillionSongSubset/song_data/A/B/C/TRABCTK128F934B224', 'json']\n",
      "['MillionSongSubset/song_data/A/B/C/TRABCUQ128E0783E2B', 'json']\n",
      "['MillionSongSubset/song_data/A/B/C/TRABCXB128F4286BD3', 'json']\n",
      "['MillionSongSubset/song_data/A/B/C/TRABCYE128F934CE1D', 'json']\n",
      "['YOURNAME/test_export', 'parquet']\n",
      "['accidents/']\n",
      "['accidents/accidents_2017_to_2023_english', 'csv']\n",
      "['alexia/test_export', 'parquet']\n",
      "['emma/c20bdb605ad448f1ba9ced9f9f4ea51a_000000_000000', 'snappy', 'parquet']\n",
      "['emma/c20bdb605ad448f1ba9ced9f9f4ea51a_000001_000000', 'snappy', 'parquet']\n",
      "['emma/c20bdb605ad448f1ba9ced9f9f4ea51a_000002_000000', 'snappy', 'parquet']\n",
      "['emma/c20bdb605ad448f1ba9ced9f9f4ea51a_000003_000000', 'snappy', 'parquet']\n",
      "['fabiola/test_export', 'parquet']\n",
      "['jaden/test_export', 'parquet']\n",
      "['michael/test_export', 'parquet']\n",
      "['miraj/test_export', 'parquet']\n",
      "['stage/']\n",
      "['stage/yellow_tripdata', 'csv']\n",
      "['stage/yellow_tripdata', 'json']\n",
      "['stage/yellow_tripdata', 'parquet']\n",
      "['stocks/']\n",
      "['stocks/GOOG', 'csv']\n",
      "['suchitha/test_export', 'parquet']\n",
      "['tatwan/51addc9167684aa281c96fd5ae2d5be2', 'snappy', 'parquet']\n",
      "['tatwan/GOOG', 'csv']\n",
      "['tatwan/GOOG_NEW', 'csv']\n",
      "['tyler/test_export', 'parquet']\n",
      "['yellow_tripdata_2024-01', 'parquet']\n",
      "['yellow_tripdata_2024-02', 'parquet']\n",
      "['yellow_tripdata_2024-03', 'parquet']\n",
      "['yellow_tripdata_2024-04', 'parquet']\n"
     ]
    }
   ],
   "source": [
    "all_obj = s3_client.list_objects(Bucket='techcatalyst-raw')\n",
    "for obj in all_obj['Contents']:\n",
    "    output = obj[\"Key\"].split('.')\n",
    "    print(output)"
   ]
  },
  {
   "cell_type": "code",
   "execution_count": 10,
   "id": "0d6e938a",
   "metadata": {},
   "outputs": [
    {
     "name": "stderr",
     "output_type": "stream",
     "text": [
      "2025-08-04 13:52:31,092\tINFO worker.py:1927 -- Started a local Ray instance.\n"
     ]
    },
    {
     "data": {
      "text/html": [
       "<div>\n",
       "<style scoped>\n",
       "    .dataframe tbody tr th:only-of-type {\n",
       "        vertical-align: middle;\n",
       "    }\n",
       "\n",
       "    .dataframe tbody tr th {\n",
       "        vertical-align: top;\n",
       "    }\n",
       "\n",
       "    .dataframe thead th {\n",
       "        text-align: right;\n",
       "    }\n",
       "</style>\n",
       "<table border=\"1\" class=\"dataframe\">\n",
       "  <thead>\n",
       "    <tr style=\"text-align: right;\">\n",
       "      <th></th>\n",
       "      <th>Database</th>\n",
       "      <th>Description</th>\n",
       "    </tr>\n",
       "  </thead>\n",
       "  <tbody>\n",
       "    <tr>\n",
       "      <th>0</th>\n",
       "      <td>default</td>\n",
       "      <td>default database</td>\n",
       "    </tr>\n",
       "    <tr>\n",
       "      <th>1</th>\n",
       "      <td>nyc-taxi-db-bl</td>\n",
       "      <td></td>\n",
       "    </tr>\n",
       "    <tr>\n",
       "      <th>2</th>\n",
       "      <td>nyc-taxi-ja</td>\n",
       "      <td></td>\n",
       "    </tr>\n",
       "    <tr>\n",
       "      <th>3</th>\n",
       "      <td>nyctaxi_db_aa</td>\n",
       "      <td></td>\n",
       "    </tr>\n",
       "  </tbody>\n",
       "</table>\n",
       "</div>"
      ],
      "text/plain": [
       "         Database       Description\n",
       "0         default  default database\n",
       "1  nyc-taxi-db-bl                  \n",
       "2     nyc-taxi-ja                  \n",
       "3   nyctaxi_db_aa                  "
      ]
     },
     "execution_count": 10,
     "metadata": {},
     "output_type": "execute_result"
    }
   ],
   "source": [
    "wr.catalog.databases()"
   ]
  }
 ],
 "metadata": {
  "kernelspec": {
   "display_name": "TechCatalyst_DE_2025_TWO",
   "language": "python",
   "name": "python3"
  },
  "language_info": {
   "codemirror_mode": {
    "name": "ipython",
    "version": 3
   },
   "file_extension": ".py",
   "mimetype": "text/x-python",
   "name": "python",
   "nbconvert_exporter": "python",
   "pygments_lexer": "ipython3",
   "version": "3.12.10"
  }
 },
 "nbformat": 4,
 "nbformat_minor": 5
}
