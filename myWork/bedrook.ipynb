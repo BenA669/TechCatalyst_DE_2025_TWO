{
 "cells": [
  {
   "cell_type": "code",
   "execution_count": 1,
   "id": "af047c5b",
   "metadata": {},
   "outputs": [
    {
     "data": {
      "text/plain": [
       "True"
      ]
     },
     "execution_count": 1,
     "metadata": {},
     "output_type": "execute_result"
    }
   ],
   "source": [
    "from dotenv import load_dotenv\n",
    "load_dotenv()"
   ]
  },
  {
   "cell_type": "code",
   "execution_count": 16,
   "id": "7a1554ff",
   "metadata": {},
   "outputs": [],
   "source": [
    "from IPython.display import Markdown"
   ]
  },
  {
   "cell_type": "code",
   "execution_count": 2,
   "id": "cbfee924",
   "metadata": {},
   "outputs": [],
   "source": [
    "import boto3"
   ]
  },
  {
   "cell_type": "code",
   "execution_count": 3,
   "id": "047893c9",
   "metadata": {},
   "outputs": [],
   "source": [
    "# Create the Bedrock client\n",
    "client = boto3.client(\n",
    "    service_name=\"bedrock-runtime\",\n",
    "    region_name=\"us-east-2\"\n",
    ")"
   ]
  },
  {
   "cell_type": "code",
   "execution_count": 13,
   "id": "cadbbc55",
   "metadata": {},
   "outputs": [],
   "source": [
    "# Define the model and message\n",
    "model_id = \"us.amazon.nova-lite-v1:0\"\n",
    "messages = [{\"role\": \"user\", \"content\": [{\"text\": \"waka waka uuoaka\"}]}]"
   ]
  },
  {
   "cell_type": "code",
   "execution_count": 14,
   "id": "bd49e108",
   "metadata": {},
   "outputs": [],
   "source": [
    "# Make the API call\n",
    "response = client.converse(\n",
    "    modelId=model_id,\n",
    "    messages=messages,\n",
    ")"
   ]
  },
  {
   "cell_type": "code",
   "execution_count": 15,
   "id": "878b2ff5",
   "metadata": {},
   "outputs": [],
   "source": [
    "raw_res = response['output']['message']['content'][0]['text']"
   ]
  },
  {
   "cell_type": "code",
   "execution_count": 17,
   "id": "31cde61a",
   "metadata": {},
   "outputs": [
    {
     "data": {
      "text/markdown": [
       "It sounds like you're referencing the famous song \"Waka Waka (This Time for Africa)\" by Shakira, which was the official anthem for the 2010 FIFA World Cup. The song features the Colombian singer-songwriter Pitbull and includes the iconic phrase \"Waka Waka (This Time for Africa).\"\n",
       "\n",
       "The lyrics and chorus are quite catchy and have become well-known around the world. Here's a snippet of the chorus:\n",
       "\n",
       "```\n",
       "Waka Waka, eh eh\n",
       "This time for Africa\n",
       "The time is now, Africa\n",
       "Waka Waka, eh eh\n",
       "This time for Africa\n",
       "The time is now, Africa\n",
       "```\n",
       "\n",
       "If you have any specific questions about the song, its lyrics, or its cultural impact, feel free to ask!"
      ],
      "text/plain": [
       "<IPython.core.display.Markdown object>"
      ]
     },
     "execution_count": 17,
     "metadata": {},
     "output_type": "execute_result"
    }
   ],
   "source": [
    "Markdown(raw_res)"
   ]
  }
 ],
 "metadata": {
  "kernelspec": {
   "display_name": "TechCatalyst_DE_2025_TWO",
   "language": "python",
   "name": "python3"
  },
  "language_info": {
   "codemirror_mode": {
    "name": "ipython",
    "version": 3
   },
   "file_extension": ".py",
   "mimetype": "text/x-python",
   "name": "python",
   "nbconvert_exporter": "python",
   "pygments_lexer": "ipython3",
   "version": "3.12.10"
  }
 },
 "nbformat": 4,
 "nbformat_minor": 5
}
